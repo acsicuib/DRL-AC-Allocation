{
 "cells": [
  {
   "cell_type": "code",
   "execution_count": 190,
   "metadata": {},
   "outputs": [],
   "source": [
    "import pickle\n",
    "import pandas as pd\n",
    "import numpy as np\n",
    "import matplotlib.pyplot as plt\n",
    "import matplotlib as mpl\n",
    "from pylab import *\n",
    "from matplotlib import colors\n",
    "from matplotlib.colors import ListedColormap\n",
    "from argparse import Namespace\n",
    "from pymoo.indicators.hv import HV\n",
    "from pymoo.config import Config\n",
    "Config.warnings['not_compiled'] = False\n",
    "\n"
   ]
  },
  {
   "cell_type": "code",
   "execution_count": 191,
   "metadata": {},
   "outputs": [],
   "source": [
    "conf = !python  parameters.py"
   ]
  },
  {
   "cell_type": "code",
   "execution_count": 192,
   "metadata": {},
   "outputs": [
    {
     "data": {
      "text/plain": [
       "100"
      ]
     },
     "execution_count": 192,
     "metadata": {},
     "output_type": "execute_result"
    }
   ],
   "source": [
    "configs = eval(conf[0])\n",
    "configs.et_normalize_coef_cost"
   ]
  },
  {
   "cell_type": "code",
   "execution_count": 194,
   "metadata": {},
   "outputs": [],
   "source": [
    "## ESPECIFIC CONFIGS\n",
    "configs.name=\"E999_9\"\n",
    "configs.n_devices=999\n",
    "configs.n_jobs=9"
   ]
  },
  {
   "cell_type": "code",
   "execution_count": 195,
   "metadata": {},
   "outputs": [],
   "source": [
    "# df = pd.read_pickle('logs/log_rnd_alloc_'  + str(configs.name) + \"_\" + str(configs.n_jobs) + '_' + str(configs.n_devices)+'.pkl', 'infer')\n",
    "df = pd.read_pickle('logs/log_eval_PF_'  + str(configs.name) + \"_\" + str(configs.n_jobs) + '_' + str(configs.n_devices)+'.pkl', 'infer')\n",
    "df = pd.DataFrame(df)"
   ]
  },
  {
   "cell_type": "code",
   "execution_count": 196,
   "metadata": {},
   "outputs": [
    {
     "data": {
      "text/html": [
       "<div>\n",
       "<style scoped>\n",
       "    .dataframe tbody tr th:only-of-type {\n",
       "        vertical-align: middle;\n",
       "    }\n",
       "\n",
       "    .dataframe tbody tr th {\n",
       "        vertical-align: top;\n",
       "    }\n",
       "\n",
       "    .dataframe thead th {\n",
       "        text-align: right;\n",
       "    }\n",
       "</style>\n",
       "<table border=\"1\" class=\"dataframe\">\n",
       "  <thead>\n",
       "    <tr style=\"text-align: right;\">\n",
       "      <th></th>\n",
       "      <th>model</th>\n",
       "      <th>sample</th>\n",
       "      <th>time</th>\n",
       "      <th>cost</th>\n",
       "      <th>reward</th>\n",
       "      <th>iTime</th>\n",
       "      <th>iCost</th>\n",
       "    </tr>\n",
       "  </thead>\n",
       "  <tbody>\n",
       "    <tr>\n",
       "      <th>0</th>\n",
       "      <td>010</td>\n",
       "      <td>0</td>\n",
       "      <td>1025.00</td>\n",
       "      <td>725.0</td>\n",
       "      <td>-1321.666667</td>\n",
       "      <td>495.00</td>\n",
       "      <td>1620.0</td>\n",
       "    </tr>\n",
       "    <tr>\n",
       "      <th>1</th>\n",
       "      <td>010</td>\n",
       "      <td>1</td>\n",
       "      <td>1221.75</td>\n",
       "      <td>655.0</td>\n",
       "      <td>-1298.333333</td>\n",
       "      <td>396.75</td>\n",
       "      <td>1620.0</td>\n",
       "    </tr>\n",
       "    <tr>\n",
       "      <th>2</th>\n",
       "      <td>010</td>\n",
       "      <td>2</td>\n",
       "      <td>1096.25</td>\n",
       "      <td>720.0</td>\n",
       "      <td>-1320.000000</td>\n",
       "      <td>471.25</td>\n",
       "      <td>1620.0</td>\n",
       "    </tr>\n",
       "    <tr>\n",
       "      <th>3</th>\n",
       "      <td>010</td>\n",
       "      <td>3</td>\n",
       "      <td>1268.25</td>\n",
       "      <td>725.0</td>\n",
       "      <td>-1321.666667</td>\n",
       "      <td>363.25</td>\n",
       "      <td>1620.0</td>\n",
       "    </tr>\n",
       "    <tr>\n",
       "      <th>4</th>\n",
       "      <td>010</td>\n",
       "      <td>4</td>\n",
       "      <td>1212.50</td>\n",
       "      <td>630.0</td>\n",
       "      <td>-1290.000000</td>\n",
       "      <td>497.50</td>\n",
       "      <td>1620.0</td>\n",
       "    </tr>\n",
       "  </tbody>\n",
       "</table>\n",
       "</div>"
      ],
      "text/plain": [
       "  model  sample     time   cost       reward   iTime   iCost\n",
       "0   010       0  1025.00  725.0 -1321.666667  495.00  1620.0\n",
       "1   010       1  1221.75  655.0 -1298.333333  396.75  1620.0\n",
       "2   010       2  1096.25  720.0 -1320.000000  471.25  1620.0\n",
       "3   010       3  1268.25  725.0 -1321.666667  363.25  1620.0\n",
       "4   010       4  1212.50  630.0 -1290.000000  497.50  1620.0"
      ]
     },
     "execution_count": 196,
     "metadata": {},
     "output_type": "execute_result"
    }
   ],
   "source": [
    "\n",
    "df.columns = [\"model\",\"sample\",\"time\",\"cost\",\"reward\",\"iTime\",\"iCost\"]\n",
    "df.head()"
   ]
  },
  {
   "attachments": {},
   "cell_type": "markdown",
   "metadata": {},
   "source": [
    "# DRL - average all samples (NOT VALID)"
   ]
  },
  {
   "cell_type": "code",
   "execution_count": 197,
   "metadata": {},
   "outputs": [
    {
     "data": {
      "text/html": [
       "<div>\n",
       "<style scoped>\n",
       "    .dataframe tbody tr th:only-of-type {\n",
       "        vertical-align: middle;\n",
       "    }\n",
       "\n",
       "    .dataframe tbody tr th {\n",
       "        vertical-align: top;\n",
       "    }\n",
       "\n",
       "    .dataframe thead th {\n",
       "        text-align: right;\n",
       "    }\n",
       "</style>\n",
       "<table border=\"1\" class=\"dataframe\">\n",
       "  <thead>\n",
       "    <tr style=\"text-align: right;\">\n",
       "      <th></th>\n",
       "      <th>time</th>\n",
       "      <th>cost</th>\n",
       "    </tr>\n",
       "    <tr>\n",
       "      <th>model</th>\n",
       "      <th></th>\n",
       "      <th></th>\n",
       "    </tr>\n",
       "  </thead>\n",
       "  <tbody>\n",
       "    <tr>\n",
       "      <th>010</th>\n",
       "      <td>1159.344971</td>\n",
       "      <td>703.000000</td>\n",
       "    </tr>\n",
       "    <tr>\n",
       "      <th>100</th>\n",
       "      <td>2276.645020</td>\n",
       "      <td>1628.699951</td>\n",
       "    </tr>\n",
       "    <tr>\n",
       "      <th>19</th>\n",
       "      <td>991.244995</td>\n",
       "      <td>604.000000</td>\n",
       "    </tr>\n",
       "    <tr>\n",
       "      <th>28</th>\n",
       "      <td>714.945007</td>\n",
       "      <td>410.399994</td>\n",
       "    </tr>\n",
       "    <tr>\n",
       "      <th>37</th>\n",
       "      <td>749.044983</td>\n",
       "      <td>603.299988</td>\n",
       "    </tr>\n",
       "    <tr>\n",
       "      <th>46</th>\n",
       "      <td>730.445007</td>\n",
       "      <td>534.400024</td>\n",
       "    </tr>\n",
       "    <tr>\n",
       "      <th>55</th>\n",
       "      <td>735.544983</td>\n",
       "      <td>575.099976</td>\n",
       "    </tr>\n",
       "    <tr>\n",
       "      <th>64</th>\n",
       "      <td>841.844971</td>\n",
       "      <td>664.799988</td>\n",
       "    </tr>\n",
       "    <tr>\n",
       "      <th>73</th>\n",
       "      <td>726.445007</td>\n",
       "      <td>664.299988</td>\n",
       "    </tr>\n",
       "    <tr>\n",
       "      <th>82</th>\n",
       "      <td>733.044983</td>\n",
       "      <td>1515.800049</td>\n",
       "    </tr>\n",
       "    <tr>\n",
       "      <th>91</th>\n",
       "      <td>730.744995</td>\n",
       "      <td>1360.300049</td>\n",
       "    </tr>\n",
       "  </tbody>\n",
       "</table>\n",
       "</div>"
      ],
      "text/plain": [
       "              time         cost\n",
       "model                          \n",
       "010    1159.344971   703.000000\n",
       "100    2276.645020  1628.699951\n",
       "19      991.244995   604.000000\n",
       "28      714.945007   410.399994\n",
       "37      749.044983   603.299988\n",
       "46      730.445007   534.400024\n",
       "55      735.544983   575.099976\n",
       "64      841.844971   664.799988\n",
       "73      726.445007   664.299988\n",
       "82      733.044983  1515.800049\n",
       "91      730.744995  1360.300049"
      ]
     },
     "execution_count": 197,
     "metadata": {},
     "output_type": "execute_result"
    }
   ],
   "source": [
    "dfmodel = df.groupby(\"model\").agg({\"time\":mean,\"cost\":mean})\n",
    "dfmodel"
   ]
  },
  {
   "cell_type": "code",
   "execution_count": 198,
   "metadata": {},
   "outputs": [
    {
     "name": "stdout",
     "output_type": "stream",
     "text": [
      "<class 'pandas.core.frame.DataFrame'>\n"
     ]
    }
   ],
   "source": [
    "print(type(dfmodel))\n"
   ]
  },
  {
   "cell_type": "code",
   "execution_count": 199,
   "metadata": {},
   "outputs": [
    {
     "name": "stdout",
     "output_type": "stream",
     "text": [
      "010\n",
      "1159.345\n",
      "100\n",
      "2276.645\n",
      "19\n",
      "991.245\n",
      "28\n",
      "714.945\n",
      "37\n",
      "749.045\n",
      "46\n",
      "730.445\n",
      "55\n",
      "735.545\n",
      "64\n",
      "841.845\n",
      "73\n",
      "726.445\n",
      "82\n",
      "733.045\n",
      "91\n",
      "730.745\n"
     ]
    }
   ],
   "source": [
    "for i in range(len(dfmodel)):\n",
    "    print(dfmodel.iloc[i].name)\n",
    "    print(dfmodel.iloc[i].time)\n",
    "    "
   ]
  },
  {
   "cell_type": "code",
   "execution_count": 200,
   "metadata": {},
   "outputs": [],
   "source": [
    "def getWeithDecomposition(val):\n",
    "    if len(val)==3:\n",
    "        if val[0]==0:\n",
    "            return \"(0,1)\"\n",
    "        else:\n",
    "            return \"(1,0)\"\n",
    "    else:\n",
    "        return \"(%s,%s)\"%(val[0],val[1])\n",
    "    "
   ]
  },
  {
   "cell_type": "code",
   "execution_count": 202,
   "metadata": {},
   "outputs": [
    {
     "data": {
      "image/png": "[encoded data removed]",
      "text/plain": [
       "<Figure size 800x400 with 1 Axes>"
      ]
     },
     "metadata": {},
     "output_type": "display_data"
    }
   ],
   "source": [
    "fig, ax = plt.subplots(figsize=(8,4))\n",
    "\n",
    "ax.scatter(dfmodel.time, dfmodel.cost, s=30, facecolors='none', edgecolors='blue')\n",
    "\n",
    "\n",
    "for i in range(len(dfmodel)):\n",
    "    ax.annotate(getWeithDecomposition(dfmodel.iloc[i].name), (dfmodel.iloc[i].time, dfmodel.iloc[i].cost))\n",
    "\n",
    "plt.title(\"Objective Space. Case code: %s\"%configs.name)\n",
    "plt.xlabel(\"Time\", fontsize=14)\n",
    "plt.ylabel(\"Cost\", fontsize=14)\n",
    "# plt.savefig(\"images/pf_nsgaII-0.pdf\",dpi=300,bbox_inches = 'tight')\n",
    "plt.show()"
   ]
  },
  {
   "cell_type": "code",
   "execution_count": 203,
   "metadata": {},
   "outputs": [
    {
     "data": {
      "text/plain": [
       "(11, 2)"
      ]
     },
     "execution_count": 203,
     "metadata": {},
     "output_type": "execute_result"
    }
   ],
   "source": [
    "avg_pf = np.vstack((dfmodel.time.values,dfmodel.cost.values)).T\n",
    "avg_pf.shape"
   ]
  },
  {
   "cell_type": "code",
   "execution_count": 204,
   "metadata": {},
   "outputs": [
    {
     "data": {
      "text/plain": [
       "array([[1159.345,  703.   ],\n",
       "       [2276.645, 1628.7  ],\n",
       "       [ 991.245,  604.   ],\n",
       "       [ 714.945,  410.4  ],\n",
       "       [ 749.045,  603.3  ],\n",
       "       [ 730.445,  534.4  ],\n",
       "       [ 735.545,  575.1  ],\n",
       "       [ 841.845,  664.8  ],\n",
       "       [ 726.445,  664.3  ],\n",
       "       [ 733.045, 1515.8  ],\n",
       "       [ 730.745, 1360.3  ]], dtype=float32)"
      ]
     },
     "execution_count": 204,
     "metadata": {},
     "output_type": "execute_result"
    }
   ],
   "source": [
    "avg_pf"
   ]
  },
  {
   "cell_type": "code",
   "execution_count": 205,
   "metadata": {},
   "outputs": [
    {
     "name": "stdout",
     "output_type": "stream",
     "text": [
      "HV 0.0\n"
     ]
    }
   ],
   "source": [
    "ref_point = np.array([500., 900.])\n",
    "ind = HV(ref_point=ref_point)\n",
    "print(\"HV\", ind(avg_pf)) "
   ]
  },
  {
   "attachments": {},
   "cell_type": "markdown",
   "metadata": {},
   "source": [
    "# DRL one sample"
   ]
  },
  {
   "cell_type": "code",
   "execution_count": 206,
   "metadata": {},
   "outputs": [
    {
     "data": {
      "text/html": [
       "<div>\n",
       "<style scoped>\n",
       "    .dataframe tbody tr th:only-of-type {\n",
       "        vertical-align: middle;\n",
       "    }\n",
       "\n",
       "    .dataframe tbody tr th {\n",
       "        vertical-align: top;\n",
       "    }\n",
       "\n",
       "    .dataframe thead th {\n",
       "        text-align: right;\n",
       "    }\n",
       "</style>\n",
       "<table border=\"1\" class=\"dataframe\">\n",
       "  <thead>\n",
       "    <tr style=\"text-align: right;\">\n",
       "      <th></th>\n",
       "      <th>model</th>\n",
       "      <th>case</th>\n",
       "      <th>time</th>\n",
       "      <th>cost</th>\n",
       "      <th>reward</th>\n",
       "      <th>iTime</th>\n",
       "      <th>iCost</th>\n",
       "    </tr>\n",
       "  </thead>\n",
       "  <tbody>\n",
       "    <tr>\n",
       "      <th>0</th>\n",
       "      <td>010</td>\n",
       "      <td>0</td>\n",
       "      <td>1025.00</td>\n",
       "      <td>725.0</td>\n",
       "      <td>-1321.666667</td>\n",
       "      <td>495.00</td>\n",
       "      <td>1620.0</td>\n",
       "    </tr>\n",
       "    <tr>\n",
       "      <th>1</th>\n",
       "      <td>010</td>\n",
       "      <td>1</td>\n",
       "      <td>1221.75</td>\n",
       "      <td>655.0</td>\n",
       "      <td>-1298.333333</td>\n",
       "      <td>396.75</td>\n",
       "      <td>1620.0</td>\n",
       "    </tr>\n",
       "    <tr>\n",
       "      <th>2</th>\n",
       "      <td>010</td>\n",
       "      <td>2</td>\n",
       "      <td>1096.25</td>\n",
       "      <td>720.0</td>\n",
       "      <td>-1320.000000</td>\n",
       "      <td>471.25</td>\n",
       "      <td>1620.0</td>\n",
       "    </tr>\n",
       "    <tr>\n",
       "      <th>3</th>\n",
       "      <td>010</td>\n",
       "      <td>3</td>\n",
       "      <td>1268.25</td>\n",
       "      <td>725.0</td>\n",
       "      <td>-1321.666667</td>\n",
       "      <td>363.25</td>\n",
       "      <td>1620.0</td>\n",
       "    </tr>\n",
       "    <tr>\n",
       "      <th>4</th>\n",
       "      <td>010</td>\n",
       "      <td>4</td>\n",
       "      <td>1212.50</td>\n",
       "      <td>630.0</td>\n",
       "      <td>-1290.000000</td>\n",
       "      <td>497.50</td>\n",
       "      <td>1620.0</td>\n",
       "    </tr>\n",
       "  </tbody>\n",
       "</table>\n",
       "</div>"
      ],
      "text/plain": [
       "  model  case     time   cost       reward   iTime   iCost\n",
       "0   010     0  1025.00  725.0 -1321.666667  495.00  1620.0\n",
       "1   010     1  1221.75  655.0 -1298.333333  396.75  1620.0\n",
       "2   010     2  1096.25  720.0 -1320.000000  471.25  1620.0\n",
       "3   010     3  1268.25  725.0 -1321.666667  363.25  1620.0\n",
       "4   010     4  1212.50  630.0 -1290.000000  497.50  1620.0"
      ]
     },
     "execution_count": 206,
     "metadata": {},
     "output_type": "execute_result"
    }
   ],
   "source": [
    "# df = pd.read_pickle('logs/log_rnd_alloc_'  + str(configs.name) + \"_\" + str(configs.n_jobs) + '_' + str(configs.n_devices)+'.pkl', 'infer')\n",
    "df = pd.read_pickle('logs/log_eval_PF_'  + str(configs.name) + \"_\" + str(configs.n_jobs) + '_' + str(configs.n_devices)+'.pkl', 'infer')\n",
    "df = pd.DataFrame(df)\n",
    "df.columns = [\"model\",\"case\",\"time\",\"cost\",\"reward\",\"iTime\",\"iCost\"]\n",
    "df.head()\n"
   ]
  },
  {
   "cell_type": "code",
   "execution_count": 207,
   "metadata": {},
   "outputs": [
    {
     "data": {
      "text/html": [
       "<div>\n",
       "<style scoped>\n",
       "    .dataframe tbody tr th:only-of-type {\n",
       "        vertical-align: middle;\n",
       "    }\n",
       "\n",
       "    .dataframe tbody tr th {\n",
       "        vertical-align: top;\n",
       "    }\n",
       "\n",
       "    .dataframe thead th {\n",
       "        text-align: right;\n",
       "    }\n",
       "</style>\n",
       "<table border=\"1\" class=\"dataframe\">\n",
       "  <thead>\n",
       "    <tr style=\"text-align: right;\">\n",
       "      <th></th>\n",
       "      <th>model</th>\n",
       "      <th>case</th>\n",
       "      <th>time</th>\n",
       "      <th>cost</th>\n",
       "      <th>reward</th>\n",
       "      <th>iTime</th>\n",
       "      <th>iCost</th>\n",
       "    </tr>\n",
       "  </thead>\n",
       "  <tbody>\n",
       "    <tr>\n",
       "      <th>0</th>\n",
       "      <td>010</td>\n",
       "      <td>0</td>\n",
       "      <td>1025.0</td>\n",
       "      <td>725.0</td>\n",
       "      <td>-1321.666667</td>\n",
       "      <td>495.0</td>\n",
       "      <td>1620.0</td>\n",
       "    </tr>\n",
       "    <tr>\n",
       "      <th>50</th>\n",
       "      <td>19</td>\n",
       "      <td>0</td>\n",
       "      <td>1075.0</td>\n",
       "      <td>695.0</td>\n",
       "      <td>-1288.000000</td>\n",
       "      <td>495.0</td>\n",
       "      <td>1620.0</td>\n",
       "    </tr>\n",
       "    <tr>\n",
       "      <th>100</th>\n",
       "      <td>28</td>\n",
       "      <td>0</td>\n",
       "      <td>700.0</td>\n",
       "      <td>405.0</td>\n",
       "      <td>-1112.000000</td>\n",
       "      <td>495.0</td>\n",
       "      <td>1620.0</td>\n",
       "    </tr>\n",
       "    <tr>\n",
       "      <th>150</th>\n",
       "      <td>37</td>\n",
       "      <td>0</td>\n",
       "      <td>735.0</td>\n",
       "      <td>710.0</td>\n",
       "      <td>-1142.166667</td>\n",
       "      <td>495.0</td>\n",
       "      <td>1620.0</td>\n",
       "    </tr>\n",
       "    <tr>\n",
       "      <th>200</th>\n",
       "      <td>46</td>\n",
       "      <td>0</td>\n",
       "      <td>720.0</td>\n",
       "      <td>570.0</td>\n",
       "      <td>-1050.000000</td>\n",
       "      <td>495.0</td>\n",
       "      <td>1620.0</td>\n",
       "    </tr>\n",
       "    <tr>\n",
       "      <th>250</th>\n",
       "      <td>55</td>\n",
       "      <td>0</td>\n",
       "      <td>720.0</td>\n",
       "      <td>630.0</td>\n",
       "      <td>-1005.000000</td>\n",
       "      <td>495.0</td>\n",
       "      <td>1620.0</td>\n",
       "    </tr>\n",
       "    <tr>\n",
       "      <th>300</th>\n",
       "      <td>64</td>\n",
       "      <td>0</td>\n",
       "      <td>950.0</td>\n",
       "      <td>725.0</td>\n",
       "      <td>-1098.666667</td>\n",
       "      <td>495.0</td>\n",
       "      <td>1620.0</td>\n",
       "    </tr>\n",
       "    <tr>\n",
       "      <th>350</th>\n",
       "      <td>73</td>\n",
       "      <td>0</td>\n",
       "      <td>730.0</td>\n",
       "      <td>680.0</td>\n",
       "      <td>-903.000000</td>\n",
       "      <td>495.0</td>\n",
       "      <td>1620.0</td>\n",
       "    </tr>\n",
       "    <tr>\n",
       "      <th>400</th>\n",
       "      <td>82</td>\n",
       "      <td>0</td>\n",
       "      <td>725.0</td>\n",
       "      <td>1405.0</td>\n",
       "      <td>-889.666667</td>\n",
       "      <td>495.0</td>\n",
       "      <td>1620.0</td>\n",
       "    </tr>\n",
       "    <tr>\n",
       "      <th>450</th>\n",
       "      <td>91</td>\n",
       "      <td>0</td>\n",
       "      <td>730.0</td>\n",
       "      <td>1125.0</td>\n",
       "      <td>-802.500000</td>\n",
       "      <td>495.0</td>\n",
       "      <td>1620.0</td>\n",
       "    </tr>\n",
       "    <tr>\n",
       "      <th>500</th>\n",
       "      <td>100</td>\n",
       "      <td>0</td>\n",
       "      <td>2285.0</td>\n",
       "      <td>1575.0</td>\n",
       "      <td>-2285.000000</td>\n",
       "      <td>495.0</td>\n",
       "      <td>1620.0</td>\n",
       "    </tr>\n",
       "  </tbody>\n",
       "</table>\n",
       "</div>"
      ],
      "text/plain": [
       "    model  case    time    cost       reward  iTime   iCost\n",
       "0     010     0  1025.0   725.0 -1321.666667  495.0  1620.0\n",
       "50     19     0  1075.0   695.0 -1288.000000  495.0  1620.0\n",
       "100    28     0   700.0   405.0 -1112.000000  495.0  1620.0\n",
       "150    37     0   735.0   710.0 -1142.166667  495.0  1620.0\n",
       "200    46     0   720.0   570.0 -1050.000000  495.0  1620.0\n",
       "250    55     0   720.0   630.0 -1005.000000  495.0  1620.0\n",
       "300    64     0   950.0   725.0 -1098.666667  495.0  1620.0\n",
       "350    73     0   730.0   680.0  -903.000000  495.0  1620.0\n",
       "400    82     0   725.0  1405.0  -889.666667  495.0  1620.0\n",
       "450    91     0   730.0  1125.0  -802.500000  495.0  1620.0\n",
       "500   100     0  2285.0  1575.0 -2285.000000  495.0  1620.0"
      ]
     },
     "execution_count": 207,
     "metadata": {},
     "output_type": "execute_result"
    }
   ],
   "source": [
    "dfDRL = df[df.case==0]\n",
    "dfDRL"
   ]
  },
  {
   "cell_type": "code",
   "execution_count": 208,
   "metadata": {},
   "outputs": [],
   "source": [
    "avg_pf = np.vstack((dfDRL.time.values,dfDRL.cost.values)).T"
   ]
  },
  {
   "cell_type": "code",
   "execution_count": 209,
   "metadata": {},
   "outputs": [
    {
     "data": {
      "image/png": "[encoded data removed]",
      "text/plain": [
       "<Figure size 800x400 with 1 Axes>"
      ]
     },
     "metadata": {},
     "output_type": "display_data"
    }
   ],
   "source": [
    "fig, ax = plt.subplots(figsize=(8,4))\n",
    "\n",
    "ax.scatter(avg_pf[:,0], avg_pf[:,1], s=30, facecolors='none', edgecolors='blue')\n",
    "\n",
    "\n",
    "for i in range(len(dfmodel)):\n",
    "    ax.annotate(getWeithDecomposition(dfDRL.iloc[i].model), (avg_pf[i,0], avg_pf[i,1]))\n",
    "\n",
    "plt.title(\"Objective Space. Case code: %s\"%configs.name)\n",
    "plt.xlabel(\"Time\", fontsize=14)\n",
    "plt.ylabel(\"Cost\", fontsize=14)\n",
    "# plt.savefig(\"images/pf_nsgaII-0.pdf\",dpi=300,bbox_inches = 'tight')\n",
    "plt.show()"
   ]
  },
  {
   "cell_type": "code",
   "execution_count": null,
   "metadata": {},
   "outputs": [],
   "source": []
  },
  {
   "attachments": {},
   "cell_type": "markdown",
   "metadata": {},
   "source": [
    "# GA"
   ]
  },
  {
   "cell_type": "code",
   "execution_count": 210,
   "metadata": {},
   "outputs": [
    {
     "ename": "FileNotFoundError",
     "evalue": "[Errno 2] No such file or directory: 'logs/log_ga_pf_E999_9_9_999.pkl'",
     "output_type": "error",
     "traceback": [
      "\u001b[0;31m---------------------------------------------------------------------------\u001b[0m",
      "\u001b[0;31mFileNotFoundError\u001b[0m                         Traceback (most recent call last)",
      "Cell \u001b[0;32mIn[210], line 2\u001b[0m\n\u001b[1;32m      1\u001b[0m \u001b[39m# df = pd.read_pickle('logs/log_rnd_alloc_'  + str(configs.name) + \"_\" + str(configs.n_jobs) + '_' + str(configs.n_devices)+'.pkl', 'infer')\u001b[39;00m\n\u001b[0;32m----> 2\u001b[0m df \u001b[39m=\u001b[39m pd\u001b[39m.\u001b[39;49mread_pickle(\u001b[39m'\u001b[39;49m\u001b[39mlogs/log_ga_pf_\u001b[39;49m\u001b[39m'\u001b[39;49m  \u001b[39m+\u001b[39;49m \u001b[39mstr\u001b[39;49m(configs\u001b[39m.\u001b[39;49mname) \u001b[39m+\u001b[39;49m \u001b[39m\"\u001b[39;49m\u001b[39m_\u001b[39;49m\u001b[39m\"\u001b[39;49m \u001b[39m+\u001b[39;49m \u001b[39mstr\u001b[39;49m(configs\u001b[39m.\u001b[39;49mn_jobs) \u001b[39m+\u001b[39;49m \u001b[39m'\u001b[39;49m\u001b[39m_\u001b[39;49m\u001b[39m'\u001b[39;49m \u001b[39m+\u001b[39;49m \u001b[39mstr\u001b[39;49m(configs\u001b[39m.\u001b[39;49mn_devices)\u001b[39m+\u001b[39;49m\u001b[39m'\u001b[39;49m\u001b[39m.pkl\u001b[39;49m\u001b[39m'\u001b[39;49m, \u001b[39m'\u001b[39;49m\u001b[39minfer\u001b[39;49m\u001b[39m'\u001b[39;49m)\n\u001b[1;32m      3\u001b[0m df \u001b[39m=\u001b[39m pd\u001b[39m.\u001b[39mDataFrame(df)\n",
      "File \u001b[0;32m~/.pyenv/versions/3.9.7/envs/DGLenv/lib/python3.9/site-packages/pandas/io/pickle.py:190\u001b[0m, in \u001b[0;36mread_pickle\u001b[0;34m(filepath_or_buffer, compression, storage_options)\u001b[0m\n\u001b[1;32m    124\u001b[0m \u001b[39m\u001b[39m\u001b[39m\"\"\"\u001b[39;00m\n\u001b[1;32m    125\u001b[0m \u001b[39mLoad pickled pandas object (or any object) from file.\u001b[39;00m\n\u001b[1;32m    126\u001b[0m \n\u001b[0;32m   (...)\u001b[0m\n\u001b[1;32m    187\u001b[0m \u001b[39m4    4    9\u001b[39;00m\n\u001b[1;32m    188\u001b[0m \u001b[39m\"\"\"\u001b[39;00m\n\u001b[1;32m    189\u001b[0m excs_to_catch \u001b[39m=\u001b[39m (\u001b[39mAttributeError\u001b[39;00m, \u001b[39mImportError\u001b[39;00m, \u001b[39mModuleNotFoundError\u001b[39;00m, \u001b[39mTypeError\u001b[39;00m)\n\u001b[0;32m--> 190\u001b[0m \u001b[39mwith\u001b[39;00m get_handle(\n\u001b[1;32m    191\u001b[0m     filepath_or_buffer,\n\u001b[1;32m    192\u001b[0m     \u001b[39m\"\u001b[39;49m\u001b[39mrb\u001b[39;49m\u001b[39m\"\u001b[39;49m,\n\u001b[1;32m    193\u001b[0m     compression\u001b[39m=\u001b[39;49mcompression,\n\u001b[1;32m    194\u001b[0m     is_text\u001b[39m=\u001b[39;49m\u001b[39mFalse\u001b[39;49;00m,\n\u001b[1;32m    195\u001b[0m     storage_options\u001b[39m=\u001b[39;49mstorage_options,\n\u001b[1;32m    196\u001b[0m ) \u001b[39mas\u001b[39;00m handles:\n\u001b[1;32m    197\u001b[0m \n\u001b[1;32m    198\u001b[0m     \u001b[39m# 1) try standard library Pickle\u001b[39;00m\n\u001b[1;32m    199\u001b[0m     \u001b[39m# 2) try pickle_compat (older pandas version) to handle subclass changes\u001b[39;00m\n\u001b[1;32m    200\u001b[0m     \u001b[39m# 3) try pickle_compat with latin-1 encoding upon a UnicodeDecodeError\u001b[39;00m\n\u001b[1;32m    202\u001b[0m     \u001b[39mtry\u001b[39;00m:\n\u001b[1;32m    203\u001b[0m         \u001b[39m# TypeError for Cython complaints about object.__new__ vs Tick.__new__\u001b[39;00m\n\u001b[1;32m    204\u001b[0m         \u001b[39mtry\u001b[39;00m:\n",
      "File \u001b[0;32m~/.pyenv/versions/3.9.7/envs/DGLenv/lib/python3.9/site-packages/pandas/io/common.py:865\u001b[0m, in \u001b[0;36mget_handle\u001b[0;34m(path_or_buf, mode, encoding, compression, memory_map, is_text, errors, storage_options)\u001b[0m\n\u001b[1;32m    856\u001b[0m         handle \u001b[39m=\u001b[39m \u001b[39mopen\u001b[39m(\n\u001b[1;32m    857\u001b[0m             handle,\n\u001b[1;32m    858\u001b[0m             ioargs\u001b[39m.\u001b[39mmode,\n\u001b[0;32m   (...)\u001b[0m\n\u001b[1;32m    861\u001b[0m             newline\u001b[39m=\u001b[39m\u001b[39m\"\u001b[39m\u001b[39m\"\u001b[39m,\n\u001b[1;32m    862\u001b[0m         )\n\u001b[1;32m    863\u001b[0m     \u001b[39melse\u001b[39;00m:\n\u001b[1;32m    864\u001b[0m         \u001b[39m# Binary mode\u001b[39;00m\n\u001b[0;32m--> 865\u001b[0m         handle \u001b[39m=\u001b[39m \u001b[39mopen\u001b[39;49m(handle, ioargs\u001b[39m.\u001b[39;49mmode)\n\u001b[1;32m    866\u001b[0m     handles\u001b[39m.\u001b[39mappend(handle)\n\u001b[1;32m    868\u001b[0m \u001b[39m# Convert BytesIO or file objects passed with an encoding\u001b[39;00m\n",
      "\u001b[0;31mFileNotFoundError\u001b[0m: [Errno 2] No such file or directory: 'logs/log_ga_pf_E999_9_9_999.pkl'"
     ]
    }
   ],
   "source": [
    "# df = pd.read_pickle('logs/log_rnd_alloc_'  + str(configs.name) + \"_\" + str(configs.n_jobs) + '_' + str(configs.n_devices)+'.pkl', 'infer')\n",
    "df = pd.read_pickle('logs/log_ga_pf_'  + str(configs.name) + \"_\" + str(configs.n_jobs) + '_' + str(configs.n_devices)+'.pkl', 'infer')\n",
    "df = pd.DataFrame(df)"
   ]
  },
  {
   "cell_type": "code",
   "execution_count": 211,
   "metadata": {},
   "outputs": [
    {
     "ename": "ValueError",
     "evalue": "Length mismatch: Expected axis has 7 elements, new values have 4 elements",
     "output_type": "error",
     "traceback": [
      "\u001b[0;31m---------------------------------------------------------------------------\u001b[0m",
      "\u001b[0;31mValueError\u001b[0m                                Traceback (most recent call last)",
      "Cell \u001b[0;32mIn[211], line 1\u001b[0m\n\u001b[0;32m----> 1\u001b[0m df\u001b[39m.\u001b[39;49mcolumns \u001b[39m=\u001b[39m [\u001b[39m\"\u001b[39m\u001b[39mcase\u001b[39m\u001b[39m\"\u001b[39m,\u001b[39m\"\u001b[39m\u001b[39mtime\u001b[39m\u001b[39m\"\u001b[39m,\u001b[39m\"\u001b[39m\u001b[39mcost\u001b[39m\u001b[39m\"\u001b[39m,\u001b[39m\"\u001b[39m\u001b[39mexecutionTime\u001b[39m\u001b[39m\"\u001b[39m]\n\u001b[1;32m      2\u001b[0m df\u001b[39m.\u001b[39mhead()\n",
      "File \u001b[0;32m~/.pyenv/versions/3.9.7/envs/DGLenv/lib/python3.9/site-packages/pandas/core/generic.py:5915\u001b[0m, in \u001b[0;36mNDFrame.__setattr__\u001b[0;34m(self, name, value)\u001b[0m\n\u001b[1;32m   5913\u001b[0m \u001b[39mtry\u001b[39;00m:\n\u001b[1;32m   5914\u001b[0m     \u001b[39mobject\u001b[39m\u001b[39m.\u001b[39m\u001b[39m__getattribute__\u001b[39m(\u001b[39mself\u001b[39m, name)\n\u001b[0;32m-> 5915\u001b[0m     \u001b[39mreturn\u001b[39;00m \u001b[39mobject\u001b[39;49m\u001b[39m.\u001b[39;49m\u001b[39m__setattr__\u001b[39;49m(\u001b[39mself\u001b[39;49m, name, value)\n\u001b[1;32m   5916\u001b[0m \u001b[39mexcept\u001b[39;00m \u001b[39mAttributeError\u001b[39;00m:\n\u001b[1;32m   5917\u001b[0m     \u001b[39mpass\u001b[39;00m\n",
      "File \u001b[0;32m~/.pyenv/versions/3.9.7/envs/DGLenv/lib/python3.9/site-packages/pandas/_libs/properties.pyx:69\u001b[0m, in \u001b[0;36mpandas._libs.properties.AxisProperty.__set__\u001b[0;34m()\u001b[0m\n",
      "File \u001b[0;32m~/.pyenv/versions/3.9.7/envs/DGLenv/lib/python3.9/site-packages/pandas/core/generic.py:823\u001b[0m, in \u001b[0;36mNDFrame._set_axis\u001b[0;34m(self, axis, labels)\u001b[0m\n\u001b[1;32m    821\u001b[0m \u001b[39mdef\u001b[39;00m \u001b[39m_set_axis\u001b[39m(\u001b[39mself\u001b[39m, axis: \u001b[39mint\u001b[39m, labels: AnyArrayLike \u001b[39m|\u001b[39m \u001b[39mlist\u001b[39m) \u001b[39m-\u001b[39m\u001b[39m>\u001b[39m \u001b[39mNone\u001b[39;00m:\n\u001b[1;32m    822\u001b[0m     labels \u001b[39m=\u001b[39m ensure_index(labels)\n\u001b[0;32m--> 823\u001b[0m     \u001b[39mself\u001b[39;49m\u001b[39m.\u001b[39;49m_mgr\u001b[39m.\u001b[39;49mset_axis(axis, labels)\n\u001b[1;32m    824\u001b[0m     \u001b[39mself\u001b[39m\u001b[39m.\u001b[39m_clear_item_cache()\n",
      "File \u001b[0;32m~/.pyenv/versions/3.9.7/envs/DGLenv/lib/python3.9/site-packages/pandas/core/internals/managers.py:230\u001b[0m, in \u001b[0;36mBaseBlockManager.set_axis\u001b[0;34m(self, axis, new_labels)\u001b[0m\n\u001b[1;32m    228\u001b[0m \u001b[39mdef\u001b[39;00m \u001b[39mset_axis\u001b[39m(\u001b[39mself\u001b[39m, axis: \u001b[39mint\u001b[39m, new_labels: Index) \u001b[39m-\u001b[39m\u001b[39m>\u001b[39m \u001b[39mNone\u001b[39;00m:\n\u001b[1;32m    229\u001b[0m     \u001b[39m# Caller is responsible for ensuring we have an Index object.\u001b[39;00m\n\u001b[0;32m--> 230\u001b[0m     \u001b[39mself\u001b[39;49m\u001b[39m.\u001b[39;49m_validate_set_axis(axis, new_labels)\n\u001b[1;32m    231\u001b[0m     \u001b[39mself\u001b[39m\u001b[39m.\u001b[39maxes[axis] \u001b[39m=\u001b[39m new_labels\n",
      "File \u001b[0;32m~/.pyenv/versions/3.9.7/envs/DGLenv/lib/python3.9/site-packages/pandas/core/internals/base.py:70\u001b[0m, in \u001b[0;36mDataManager._validate_set_axis\u001b[0;34m(self, axis, new_labels)\u001b[0m\n\u001b[1;32m     67\u001b[0m     \u001b[39mpass\u001b[39;00m\n\u001b[1;32m     69\u001b[0m \u001b[39melif\u001b[39;00m new_len \u001b[39m!=\u001b[39m old_len:\n\u001b[0;32m---> 70\u001b[0m     \u001b[39mraise\u001b[39;00m \u001b[39mValueError\u001b[39;00m(\n\u001b[1;32m     71\u001b[0m         \u001b[39mf\u001b[39m\u001b[39m\"\u001b[39m\u001b[39mLength mismatch: Expected axis has \u001b[39m\u001b[39m{\u001b[39;00mold_len\u001b[39m}\u001b[39;00m\u001b[39m elements, new \u001b[39m\u001b[39m\"\u001b[39m\n\u001b[1;32m     72\u001b[0m         \u001b[39mf\u001b[39m\u001b[39m\"\u001b[39m\u001b[39mvalues have \u001b[39m\u001b[39m{\u001b[39;00mnew_len\u001b[39m}\u001b[39;00m\u001b[39m elements\u001b[39m\u001b[39m\"\u001b[39m\n\u001b[1;32m     73\u001b[0m     )\n",
      "\u001b[0;31mValueError\u001b[0m: Length mismatch: Expected axis has 7 elements, new values have 4 elements"
     ]
    }
   ],
   "source": [
    "df.columns = [\"case\",\"time\",\"cost\",\"executionTime\"]\n",
    "df.head()"
   ]
  },
  {
   "cell_type": "code",
   "execution_count": 212,
   "metadata": {},
   "outputs": [
    {
     "data": {
      "text/html": [
       "<div>\n",
       "<style scoped>\n",
       "    .dataframe tbody tr th:only-of-type {\n",
       "        vertical-align: middle;\n",
       "    }\n",
       "\n",
       "    .dataframe tbody tr th {\n",
       "        vertical-align: top;\n",
       "    }\n",
       "\n",
       "    .dataframe thead th {\n",
       "        text-align: right;\n",
       "    }\n",
       "</style>\n",
       "<table border=\"1\" class=\"dataframe\">\n",
       "  <thead>\n",
       "    <tr style=\"text-align: right;\">\n",
       "      <th></th>\n",
       "      <th>model</th>\n",
       "      <th>case</th>\n",
       "      <th>time</th>\n",
       "      <th>cost</th>\n",
       "      <th>reward</th>\n",
       "      <th>iTime</th>\n",
       "      <th>iCost</th>\n",
       "    </tr>\n",
       "  </thead>\n",
       "  <tbody>\n",
       "    <tr>\n",
       "      <th>0</th>\n",
       "      <td>010</td>\n",
       "      <td>0</td>\n",
       "      <td>1025.0</td>\n",
       "      <td>725.0</td>\n",
       "      <td>-1321.666667</td>\n",
       "      <td>495.0</td>\n",
       "      <td>1620.0</td>\n",
       "    </tr>\n",
       "    <tr>\n",
       "      <th>50</th>\n",
       "      <td>19</td>\n",
       "      <td>0</td>\n",
       "      <td>1075.0</td>\n",
       "      <td>695.0</td>\n",
       "      <td>-1288.000000</td>\n",
       "      <td>495.0</td>\n",
       "      <td>1620.0</td>\n",
       "    </tr>\n",
       "    <tr>\n",
       "      <th>100</th>\n",
       "      <td>28</td>\n",
       "      <td>0</td>\n",
       "      <td>700.0</td>\n",
       "      <td>405.0</td>\n",
       "      <td>-1112.000000</td>\n",
       "      <td>495.0</td>\n",
       "      <td>1620.0</td>\n",
       "    </tr>\n",
       "    <tr>\n",
       "      <th>150</th>\n",
       "      <td>37</td>\n",
       "      <td>0</td>\n",
       "      <td>735.0</td>\n",
       "      <td>710.0</td>\n",
       "      <td>-1142.166667</td>\n",
       "      <td>495.0</td>\n",
       "      <td>1620.0</td>\n",
       "    </tr>\n",
       "    <tr>\n",
       "      <th>200</th>\n",
       "      <td>46</td>\n",
       "      <td>0</td>\n",
       "      <td>720.0</td>\n",
       "      <td>570.0</td>\n",
       "      <td>-1050.000000</td>\n",
       "      <td>495.0</td>\n",
       "      <td>1620.0</td>\n",
       "    </tr>\n",
       "    <tr>\n",
       "      <th>250</th>\n",
       "      <td>55</td>\n",
       "      <td>0</td>\n",
       "      <td>720.0</td>\n",
       "      <td>630.0</td>\n",
       "      <td>-1005.000000</td>\n",
       "      <td>495.0</td>\n",
       "      <td>1620.0</td>\n",
       "    </tr>\n",
       "    <tr>\n",
       "      <th>300</th>\n",
       "      <td>64</td>\n",
       "      <td>0</td>\n",
       "      <td>950.0</td>\n",
       "      <td>725.0</td>\n",
       "      <td>-1098.666667</td>\n",
       "      <td>495.0</td>\n",
       "      <td>1620.0</td>\n",
       "    </tr>\n",
       "    <tr>\n",
       "      <th>350</th>\n",
       "      <td>73</td>\n",
       "      <td>0</td>\n",
       "      <td>730.0</td>\n",
       "      <td>680.0</td>\n",
       "      <td>-903.000000</td>\n",
       "      <td>495.0</td>\n",
       "      <td>1620.0</td>\n",
       "    </tr>\n",
       "    <tr>\n",
       "      <th>400</th>\n",
       "      <td>82</td>\n",
       "      <td>0</td>\n",
       "      <td>725.0</td>\n",
       "      <td>1405.0</td>\n",
       "      <td>-889.666667</td>\n",
       "      <td>495.0</td>\n",
       "      <td>1620.0</td>\n",
       "    </tr>\n",
       "    <tr>\n",
       "      <th>450</th>\n",
       "      <td>91</td>\n",
       "      <td>0</td>\n",
       "      <td>730.0</td>\n",
       "      <td>1125.0</td>\n",
       "      <td>-802.500000</td>\n",
       "      <td>495.0</td>\n",
       "      <td>1620.0</td>\n",
       "    </tr>\n",
       "    <tr>\n",
       "      <th>500</th>\n",
       "      <td>100</td>\n",
       "      <td>0</td>\n",
       "      <td>2285.0</td>\n",
       "      <td>1575.0</td>\n",
       "      <td>-2285.000000</td>\n",
       "      <td>495.0</td>\n",
       "      <td>1620.0</td>\n",
       "    </tr>\n",
       "  </tbody>\n",
       "</table>\n",
       "</div>"
      ],
      "text/plain": [
       "    model  case    time    cost       reward  iTime   iCost\n",
       "0     010     0  1025.0   725.0 -1321.666667  495.0  1620.0\n",
       "50     19     0  1075.0   695.0 -1288.000000  495.0  1620.0\n",
       "100    28     0   700.0   405.0 -1112.000000  495.0  1620.0\n",
       "150    37     0   735.0   710.0 -1142.166667  495.0  1620.0\n",
       "200    46     0   720.0   570.0 -1050.000000  495.0  1620.0\n",
       "250    55     0   720.0   630.0 -1005.000000  495.0  1620.0\n",
       "300    64     0   950.0   725.0 -1098.666667  495.0  1620.0\n",
       "350    73     0   730.0   680.0  -903.000000  495.0  1620.0\n",
       "400    82     0   725.0  1405.0  -889.666667  495.0  1620.0\n",
       "450    91     0   730.0  1125.0  -802.500000  495.0  1620.0\n",
       "500   100     0  2285.0  1575.0 -2285.000000  495.0  1620.0"
      ]
     },
     "execution_count": 212,
     "metadata": {},
     "output_type": "execute_result"
    }
   ],
   "source": [
    "dfga = df[df.case==0]\n",
    "dfga"
   ]
  },
  {
   "cell_type": "code",
   "execution_count": 213,
   "metadata": {},
   "outputs": [
    {
     "data": {
      "image/png": "[encoded data removed]",
      "text/plain": [
       "<Figure size 800x400 with 1 Axes>"
      ]
     },
     "metadata": {},
     "output_type": "display_data"
    }
   ],
   "source": [
    "fig, ax = plt.subplots(figsize=(8,4))\n",
    "ax.scatter(dfga.time, dfga.cost, s=30, facecolors='none', edgecolors='blue')\n",
    "plt.title(\"Objective Space. Case code: %s\"%configs.name)\n",
    "plt.xlabel(\"Time\", fontsize=14)\n",
    "plt.ylabel(\"Cost\", fontsize=14)\n",
    "# plt.savefig(\"images/pf_nsgaII-0.pdf\",dpi=300,bbox_inches = 'tight')\n",
    "plt.show()"
   ]
  },
  {
   "attachments": {},
   "cell_type": "markdown",
   "metadata": {},
   "source": [
    "# GA + DRL"
   ]
  },
  {
   "cell_type": "code",
   "execution_count": 214,
   "metadata": {},
   "outputs": [
    {
     "data": {
      "image/png": "[encoded data removed]",
      "text/plain": [
       "<Figure size 800x400 with 1 Axes>"
      ]
     },
     "metadata": {},
     "output_type": "display_data"
    }
   ],
   "source": [
    "fig, ax = plt.subplots(figsize=(8,4))\n",
    "ax.scatter(dfga.time, dfga.cost, s=30, facecolors='none', edgecolors='blue',label=\"NSGA\")\n",
    "\n",
    "ax.scatter(avg_pf[:,0], avg_pf[:,1], s=40, facecolors='none', edgecolors='red',label=\"DRL\")\n",
    "\n",
    "plt.title(\"Objective Space. Case code: %s\"%configs.name)\n",
    "plt.xlabel(\"Time\", fontsize=14)\n",
    "plt.ylabel(\"Cost\", fontsize=14)\n",
    "plt.legend()\n",
    "# plt.savefig(\"images/pf_nsgaII-0.pdf\",dpi=300,bbox_inches = 'tight')\n",
    "plt.show()"
   ]
  },
  {
   "cell_type": "code",
   "execution_count": 116,
   "metadata": {},
   "outputs": [],
   "source": [
    "ga_pf = np.vstack((dfga.time.values,dfga.cost.values)).T"
   ]
  },
  {
   "cell_type": "code",
   "execution_count": 117,
   "metadata": {},
   "outputs": [
    {
     "name": "stdout",
     "output_type": "stream",
     "text": [
      "H - GA  133672.0859375\n"
     ]
    }
   ],
   "source": [
    "ref_point = np.array([900., 900.])\n",
    "ind = HV(ref_point=ref_point)\n",
    "print(\"H - GA \", ind(ga_pf)) "
   ]
  },
  {
   "cell_type": "code",
   "execution_count": 119,
   "metadata": {},
   "outputs": [
    {
     "name": "stdout",
     "output_type": "stream",
     "text": [
      "H - DRL  601077.7541656494\n"
     ]
    }
   ],
   "source": [
    "print(\"H - DRL \", ind(avg_pf)) "
   ]
  },
  {
   "attachments": {},
   "cell_type": "markdown",
   "metadata": {},
   "source": [
    "### Violin plot del PF según pesos del modelo DRL"
   ]
  },
  {
   "cell_type": "code",
   "execution_count": 134,
   "metadata": {},
   "outputs": [
    {
     "data": {
      "text/html": [
       "<div>\n",
       "<style scoped>\n",
       "    .dataframe tbody tr th:only-of-type {\n",
       "        vertical-align: middle;\n",
       "    }\n",
       "\n",
       "    .dataframe tbody tr th {\n",
       "        vertical-align: top;\n",
       "    }\n",
       "\n",
       "    .dataframe thead th {\n",
       "        text-align: right;\n",
       "    }\n",
       "</style>\n",
       "<table border=\"1\" class=\"dataframe\">\n",
       "  <thead>\n",
       "    <tr style=\"text-align: right;\">\n",
       "      <th></th>\n",
       "      <th>model</th>\n",
       "      <th>time</th>\n",
       "      <th>cost</th>\n",
       "      <th>case</th>\n",
       "    </tr>\n",
       "  </thead>\n",
       "  <tbody>\n",
       "    <tr>\n",
       "      <th>0</th>\n",
       "      <td>010</td>\n",
       "      <td>166.083328</td>\n",
       "      <td>81.0</td>\n",
       "      <td>0</td>\n",
       "    </tr>\n",
       "    <tr>\n",
       "      <th>50</th>\n",
       "      <td>19</td>\n",
       "      <td>248.666672</td>\n",
       "      <td>81.0</td>\n",
       "      <td>0</td>\n",
       "    </tr>\n",
       "    <tr>\n",
       "      <th>100</th>\n",
       "      <td>28</td>\n",
       "      <td>171.250015</td>\n",
       "      <td>81.0</td>\n",
       "      <td>0</td>\n",
       "    </tr>\n",
       "    <tr>\n",
       "      <th>150</th>\n",
       "      <td>37</td>\n",
       "      <td>363.916656</td>\n",
       "      <td>145.0</td>\n",
       "      <td>0</td>\n",
       "    </tr>\n",
       "    <tr>\n",
       "      <th>200</th>\n",
       "      <td>46</td>\n",
       "      <td>203.916672</td>\n",
       "      <td>81.0</td>\n",
       "      <td>0</td>\n",
       "    </tr>\n",
       "    <tr>\n",
       "      <th>250</th>\n",
       "      <td>55</td>\n",
       "      <td>259.916656</td>\n",
       "      <td>114.0</td>\n",
       "      <td>0</td>\n",
       "    </tr>\n",
       "    <tr>\n",
       "      <th>300</th>\n",
       "      <td>64</td>\n",
       "      <td>324.416656</td>\n",
       "      <td>190.0</td>\n",
       "      <td>0</td>\n",
       "    </tr>\n",
       "    <tr>\n",
       "      <th>350</th>\n",
       "      <td>73</td>\n",
       "      <td>183.000015</td>\n",
       "      <td>97.0</td>\n",
       "      <td>0</td>\n",
       "    </tr>\n",
       "    <tr>\n",
       "      <th>400</th>\n",
       "      <td>82</td>\n",
       "      <td>279.499969</td>\n",
       "      <td>178.0</td>\n",
       "      <td>0</td>\n",
       "    </tr>\n",
       "    <tr>\n",
       "      <th>450</th>\n",
       "      <td>91</td>\n",
       "      <td>326.899994</td>\n",
       "      <td>810.0</td>\n",
       "      <td>0</td>\n",
       "    </tr>\n",
       "    <tr>\n",
       "      <th>500</th>\n",
       "      <td>100</td>\n",
       "      <td>326.899994</td>\n",
       "      <td>810.0</td>\n",
       "      <td>0</td>\n",
       "    </tr>\n",
       "  </tbody>\n",
       "</table>\n",
       "</div>"
      ],
      "text/plain": [
       "    model        time   cost  case\n",
       "0     010  166.083328   81.0     0\n",
       "50     19  248.666672   81.0     0\n",
       "100    28  171.250015   81.0     0\n",
       "150    37  363.916656  145.0     0\n",
       "200    46  203.916672   81.0     0\n",
       "250    55  259.916656  114.0     0\n",
       "300    64  324.416656  190.0     0\n",
       "350    73  183.000015   97.0     0\n",
       "400    82  279.499969  178.0     0\n",
       "450    91  326.899994  810.0     0\n",
       "500   100  326.899994  810.0     0"
      ]
     },
     "execution_count": 134,
     "metadata": {},
     "output_type": "execute_result"
    }
   ],
   "source": [
    "dtvio = dfDRL.loc[:,[\"model\",\"time\",\"cost\"]]\n",
    "dtvio[\"case\"]=np.zeros(len(dtvio),dtype=int)\n",
    "dtvio"
   ]
  },
  {
   "cell_type": "code",
   "execution_count": 135,
   "metadata": {},
   "outputs": [],
   "source": [
    "x = list(range(len(dtvio)))"
   ]
  },
  {
   "cell_type": "code",
   "execution_count": 169,
   "metadata": {},
   "outputs": [
    {
     "data": {
      "text/plain": [
       "array(['(0,1.)', '(.1,.9)', '(.2,.8)', '(.3,.7)', '(.4,.6)', '(.5,.5)',\n",
       "       '(.6,.4)', '(.7,.3)', '(.8,.2)', '(.9,.1)', '(1.,0)'], dtype='<U7')"
      ]
     },
     "execution_count": 169,
     "metadata": {},
     "output_type": "execute_result"
    }
   ],
   "source": [
    "def getWeithDecomposition(val):\n",
    "    if len(val)==3:\n",
    "        if val[0]==\"0\":\n",
    "            return \"(0,1.)\"\n",
    "        else:\n",
    "            return \"(1.,0)\"\n",
    "    else:\n",
    "        return \"(.%s,.%s)\"%(val[0],val[1])\n",
    "    \n",
    "fticks = np.vectorize(getWeithDecomposition)\n",
    "ticks = fticks(dtvio.model)\n",
    "ticks"
   ]
  },
  {
   "cell_type": "code",
   "execution_count": 174,
   "metadata": {},
   "outputs": [
    {
     "data": {
      "image/png": "[encoded data removed]",
      "text/plain": [
       "<Figure size 640x480 with 2 Axes>"
      ]
     },
     "metadata": {},
     "output_type": "display_data"
    }
   ],
   "source": [
    "fig, axes = plt.subplots(ncols=2, sharey=True)\n",
    "axes[0].barh(x, dtvio.time, align='center', color='red', zorder=10)\n",
    "axes[0].set(title='Time')\n",
    "axes[1].barh(x, dtvio.cost, align='center', color='blue', zorder=10)\n",
    "axes[1].set(title='Cost')\n",
    "\n",
    "axes[0].invert_xaxis()\n",
    "axes[0].set(yticks=x, yticklabels=ticks)\n",
    "axes[0].yaxis.tick_right()\n",
    "axes[1].yaxis.tick_left()\n",
    "\n",
    "\n",
    "\n",
    "for ax in axes.flat:\n",
    "    ax.margins(0.03)\n",
    "    ax.grid(True)\n",
    "\n",
    "fig.tight_layout()\n",
    "fig.subplots_adjust(wspace=0.23)\n",
    "plt.show()"
   ]
  },
  {
   "cell_type": "code",
   "execution_count": 185,
   "metadata": {},
   "outputs": [
    {
     "data": {
      "text/plain": [
       "0      010\n",
       "50      19\n",
       "100     28\n",
       "150     37\n",
       "200     46\n",
       "250     55\n",
       "300     64\n",
       "350     73\n",
       "400     82\n",
       "450     91\n",
       "500    100\n",
       "Name: model, dtype: object"
      ]
     },
     "execution_count": 185,
     "metadata": {},
     "output_type": "execute_result"
    }
   ],
   "source": [
    "dtvio.model"
   ]
  },
  {
   "cell_type": "code",
   "execution_count": 186,
   "metadata": {},
   "outputs": [
    {
     "data": {
      "text/plain": [
       "Index(['010', '100', '19', '28', '37', '46', '55', '64', '73', '82', '91'], dtype='object', name='model')"
      ]
     },
     "execution_count": 186,
     "metadata": {},
     "output_type": "execute_result"
    }
   ],
   "source": [
    "dfmodel #average DRL all cases\n",
    "print(dfmodel.index)"
   ]
  },
  {
   "cell_type": "code",
   "execution_count": 188,
   "metadata": {},
   "outputs": [],
   "source": [
    "dfrindex = dfmodel.reindex(['010', '19', '28', '37', '46', '55', '64', '73', '82', '91', '100'])"
   ]
  },
  {
   "cell_type": "code",
   "execution_count": 189,
   "metadata": {},
   "outputs": [
    {
     "data": {
      "image/png": "[encoded data removed]",
      "text/plain": [
       "<Figure size 640x480 with 2 Axes>"
      ]
     },
     "metadata": {},
     "output_type": "display_data"
    }
   ],
   "source": [
    "fig, axes = plt.subplots(ncols=2, sharey=True)\n",
    "axes[0].barh(x, dfrindex.time, align='center', color='red', zorder=10)\n",
    "axes[0].set(title='Time')\n",
    "axes[1].barh(x, dfrindex.cost, align='center', color='blue', zorder=10)\n",
    "axes[1].set(title='Cost')\n",
    "\n",
    "axes[0].invert_xaxis()\n",
    "axes[0].set(yticks=x, yticklabels=ticks)\n",
    "axes[0].yaxis.tick_right()\n",
    "axes[1].yaxis.tick_left()\n",
    "\n",
    "\n",
    "\n",
    "for ax in axes.flat:\n",
    "    ax.margins(0.03)\n",
    "    ax.grid(True)\n",
    "\n",
    "fig.tight_layout()\n",
    "fig.subplots_adjust(wspace=0.23)\n",
    "plt.show()"
   ]
  },
  {
   "cell_type": "code",
   "execution_count": null,
   "metadata": {},
   "outputs": [],
   "source": []
  }
 ],
 "metadata": {
  "kernelspec": {
   "display_name": "DGLenv",
   "language": "python",
   "name": "python3"
  },
  "language_info": {
   "codemirror_mode": {
    "name": "ipython",
    "version": 3
   },
   "file_extension": ".py",
   "mimetype": "text/x-python",
   "name": "python",
   "nbconvert_exporter": "python",
   "pygments_lexer": "ipython3",
   "version": "3.9.7"
  },
  "orig_nbformat": 4,
  "vscode": {
   "interpreter": {
    "hash": "f9d4a005f9d9f9889b4816c359e838e2ccf93e76cd59d84c8bf07b8b75af7947"
   }
  }
 },
 "nbformat": 4,
 "nbformat_minor": 2
}
