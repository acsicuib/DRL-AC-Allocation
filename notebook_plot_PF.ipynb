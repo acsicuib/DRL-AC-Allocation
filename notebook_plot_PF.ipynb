{
 "cells": [
  {
   "cell_type": "code",
   "execution_count": 470,
   "metadata": {},
   "outputs": [],
   "source": [
    "import pickle\n",
    "import pandas as pd\n",
    "import numpy as np\n",
    "import matplotlib.pyplot as plt\n",
    "import matplotlib as mpl\n",
    "from pylab import *\n",
    "from matplotlib import colors\n",
    "from matplotlib.colors import ListedColormap\n",
    "from argparse import Namespace\n",
    "from pymoo.indicators.hv import HV\n",
    "from pymoo.config import Config\n",
    "Config.warnings['not_compiled'] = False\n",
    "\n"
   ]
  },
  {
   "cell_type": "code",
   "execution_count": 471,
   "metadata": {},
   "outputs": [],
   "source": [
    "conf = !python  parameters.py"
   ]
  },
  {
   "cell_type": "code",
   "execution_count": 472,
   "metadata": {},
   "outputs": [],
   "source": [
    "configs = eval(conf[0])"
   ]
  },
  {
   "cell_type": "code",
   "execution_count": 558,
   "metadata": {},
   "outputs": [],
   "source": [
    "## Experiment config\n",
    "configs.name=\"E500\"\n",
    "configs.n_devices=499\n",
    "configs.n_jobs=6"
   ]
  },
  {
   "cell_type": "code",
   "execution_count": 559,
   "metadata": {},
   "outputs": [],
   "source": [
    "def getWeithDecomposition(val):\n",
    "    print(val)\n",
    "    if val[0]==\"0\":\n",
    "        return \"(0,1.)\"\n",
    "    elif val[0]==\"1\":\n",
    "        return \"(1.,0)\"\n",
    "    return \"(%s,%s)\"%(float(val[0:2])/100,float(val[2:])/100)"
   ]
  },
  {
   "attachments": {},
   "cell_type": "markdown",
   "metadata": {},
   "source": [
    "# DRL - average all samples"
   ]
  },
  {
   "cell_type": "code",
   "execution_count": 560,
   "metadata": {},
   "outputs": [],
   "source": [
    "## previou eval_trained_PF_ppo.py\n",
    "df = pd.read_pickle('logs/log_eval_PF_'  + str(configs.name) + \"_\" + str(configs.n_jobs) + '_' + str(configs.n_devices)+'.pkl', 'infer')\n",
    "df = pd.DataFrame(df)\n"
   ]
  },
  {
   "cell_type": "code",
   "execution_count": 561,
   "metadata": {},
   "outputs": [
    {
     "data": {
      "text/html": [
       "<div>\n",
       "<style scoped>\n",
       "    .dataframe tbody tr th:only-of-type {\n",
       "        vertical-align: middle;\n",
       "    }\n",
       "\n",
       "    .dataframe tbody tr th {\n",
       "        vertical-align: top;\n",
       "    }\n",
       "\n",
       "    .dataframe thead th {\n",
       "        text-align: right;\n",
       "    }\n",
       "</style>\n",
       "<table border=\"1\" class=\"dataframe\">\n",
       "  <thead>\n",
       "    <tr style=\"text-align: right;\">\n",
       "      <th></th>\n",
       "      <th>model</th>\n",
       "      <th>sample</th>\n",
       "      <th>time</th>\n",
       "      <th>cost</th>\n",
       "      <th>reward</th>\n",
       "      <th>iTime</th>\n",
       "      <th>iCost</th>\n",
       "    </tr>\n",
       "  </thead>\n",
       "  <tbody>\n",
       "    <tr>\n",
       "      <th>0</th>\n",
       "      <td>1000</td>\n",
       "      <td>0</td>\n",
       "      <td>113.0</td>\n",
       "      <td>676.0</td>\n",
       "      <td>-113.0</td>\n",
       "      <td>322.0</td>\n",
       "      <td>720.0</td>\n",
       "    </tr>\n",
       "    <tr>\n",
       "      <th>1</th>\n",
       "      <td>1000</td>\n",
       "      <td>1</td>\n",
       "      <td>117.0</td>\n",
       "      <td>815.0</td>\n",
       "      <td>-117.0</td>\n",
       "      <td>372.0</td>\n",
       "      <td>720.0</td>\n",
       "    </tr>\n",
       "    <tr>\n",
       "      <th>2</th>\n",
       "      <td>1000</td>\n",
       "      <td>2</td>\n",
       "      <td>125.0</td>\n",
       "      <td>825.0</td>\n",
       "      <td>-125.0</td>\n",
       "      <td>322.0</td>\n",
       "      <td>720.0</td>\n",
       "    </tr>\n",
       "    <tr>\n",
       "      <th>3</th>\n",
       "      <td>1000</td>\n",
       "      <td>3</td>\n",
       "      <td>109.0</td>\n",
       "      <td>647.0</td>\n",
       "      <td>-109.0</td>\n",
       "      <td>372.0</td>\n",
       "      <td>720.0</td>\n",
       "    </tr>\n",
       "    <tr>\n",
       "      <th>4</th>\n",
       "      <td>1000</td>\n",
       "      <td>4</td>\n",
       "      <td>113.0</td>\n",
       "      <td>819.0</td>\n",
       "      <td>-113.0</td>\n",
       "      <td>272.0</td>\n",
       "      <td>720.0</td>\n",
       "    </tr>\n",
       "    <tr>\n",
       "      <th>...</th>\n",
       "      <td>...</td>\n",
       "      <td>...</td>\n",
       "      <td>...</td>\n",
       "      <td>...</td>\n",
       "      <td>...</td>\n",
       "      <td>...</td>\n",
       "      <td>...</td>\n",
       "    </tr>\n",
       "    <tr>\n",
       "      <th>145</th>\n",
       "      <td>0100</td>\n",
       "      <td>25</td>\n",
       "      <td>1016.0</td>\n",
       "      <td>36.0</td>\n",
       "      <td>-36.0</td>\n",
       "      <td>272.0</td>\n",
       "      <td>720.0</td>\n",
       "    </tr>\n",
       "    <tr>\n",
       "      <th>146</th>\n",
       "      <td>0100</td>\n",
       "      <td>26</td>\n",
       "      <td>1036.0</td>\n",
       "      <td>36.0</td>\n",
       "      <td>-36.0</td>\n",
       "      <td>322.0</td>\n",
       "      <td>720.0</td>\n",
       "    </tr>\n",
       "    <tr>\n",
       "      <th>147</th>\n",
       "      <td>0100</td>\n",
       "      <td>27</td>\n",
       "      <td>1096.0</td>\n",
       "      <td>36.0</td>\n",
       "      <td>-36.0</td>\n",
       "      <td>322.0</td>\n",
       "      <td>720.0</td>\n",
       "    </tr>\n",
       "    <tr>\n",
       "      <th>148</th>\n",
       "      <td>0100</td>\n",
       "      <td>28</td>\n",
       "      <td>1128.0</td>\n",
       "      <td>45.0</td>\n",
       "      <td>-45.0</td>\n",
       "      <td>322.0</td>\n",
       "      <td>720.0</td>\n",
       "    </tr>\n",
       "    <tr>\n",
       "      <th>149</th>\n",
       "      <td>0100</td>\n",
       "      <td>29</td>\n",
       "      <td>845.0</td>\n",
       "      <td>36.0</td>\n",
       "      <td>-36.0</td>\n",
       "      <td>322.0</td>\n",
       "      <td>720.0</td>\n",
       "    </tr>\n",
       "  </tbody>\n",
       "</table>\n",
       "<p>150 rows × 7 columns</p>\n",
       "</div>"
      ],
      "text/plain": [
       "    model  sample    time   cost  reward  iTime  iCost\n",
       "0    1000       0   113.0  676.0  -113.0  322.0  720.0\n",
       "1    1000       1   117.0  815.0  -117.0  372.0  720.0\n",
       "2    1000       2   125.0  825.0  -125.0  322.0  720.0\n",
       "3    1000       3   109.0  647.0  -109.0  372.0  720.0\n",
       "4    1000       4   113.0  819.0  -113.0  272.0  720.0\n",
       "..    ...     ...     ...    ...     ...    ...    ...\n",
       "145  0100      25  1016.0   36.0   -36.0  272.0  720.0\n",
       "146  0100      26  1036.0   36.0   -36.0  322.0  720.0\n",
       "147  0100      27  1096.0   36.0   -36.0  322.0  720.0\n",
       "148  0100      28  1128.0   45.0   -45.0  322.0  720.0\n",
       "149  0100      29   845.0   36.0   -36.0  322.0  720.0\n",
       "\n",
       "[150 rows x 7 columns]"
      ]
     },
     "execution_count": 561,
     "metadata": {},
     "output_type": "execute_result"
    }
   ],
   "source": [
    "\n",
    "df.columns = [\"model\",\"sample\",\"time\",\"cost\",\"reward\",\"iTime\",\"iCost\"]\n",
    "df"
   ]
  },
  {
   "cell_type": "code",
   "execution_count": 562,
   "metadata": {},
   "outputs": [
    {
     "data": {
      "text/html": [
       "<div>\n",
       "<style scoped>\n",
       "    .dataframe tbody tr th:only-of-type {\n",
       "        vertical-align: middle;\n",
       "    }\n",
       "\n",
       "    .dataframe tbody tr th {\n",
       "        vertical-align: top;\n",
       "    }\n",
       "\n",
       "    .dataframe thead th {\n",
       "        text-align: right;\n",
       "    }\n",
       "</style>\n",
       "<table border=\"1\" class=\"dataframe\">\n",
       "  <thead>\n",
       "    <tr style=\"text-align: right;\">\n",
       "      <th></th>\n",
       "      <th>time</th>\n",
       "      <th>cost</th>\n",
       "    </tr>\n",
       "    <tr>\n",
       "      <th>model</th>\n",
       "      <th></th>\n",
       "      <th></th>\n",
       "    </tr>\n",
       "  </thead>\n",
       "  <tbody>\n",
       "    <tr>\n",
       "      <th>0100</th>\n",
       "      <td>953.733337</td>\n",
       "      <td>44.200001</td>\n",
       "    </tr>\n",
       "    <tr>\n",
       "      <th>1000</th>\n",
       "      <td>114.833336</td>\n",
       "      <td>702.200012</td>\n",
       "    </tr>\n",
       "    <tr>\n",
       "      <th>2575</th>\n",
       "      <td>251.066666</td>\n",
       "      <td>38.400002</td>\n",
       "    </tr>\n",
       "    <tr>\n",
       "      <th>5050</th>\n",
       "      <td>137.800003</td>\n",
       "      <td>74.366669</td>\n",
       "    </tr>\n",
       "    <tr>\n",
       "      <th>7525</th>\n",
       "      <td>112.166664</td>\n",
       "      <td>84.099998</td>\n",
       "    </tr>\n",
       "  </tbody>\n",
       "</table>\n",
       "</div>"
      ],
      "text/plain": [
       "             time        cost\n",
       "model                        \n",
       "0100   953.733337   44.200001\n",
       "1000   114.833336  702.200012\n",
       "2575   251.066666   38.400002\n",
       "5050   137.800003   74.366669\n",
       "7525   112.166664   84.099998"
      ]
     },
     "execution_count": 562,
     "metadata": {},
     "output_type": "execute_result"
    }
   ],
   "source": [
    "dfmodel = df.groupby(\"model\").agg({\"time\":mean,\"cost\":mean})\n",
    "dfmodel"
   ]
  },
  {
   "cell_type": "code",
   "execution_count": 563,
   "metadata": {},
   "outputs": [
    {
     "name": "stdout",
     "output_type": "stream",
     "text": [
      "<class 'pandas.core.frame.DataFrame'>\n"
     ]
    }
   ],
   "source": [
    "print(type(dfmodel))\n"
   ]
  },
  {
   "cell_type": "code",
   "execution_count": 564,
   "metadata": {},
   "outputs": [
    {
     "name": "stdout",
     "output_type": "stream",
     "text": [
      "0100\n",
      "953.73334\n",
      "1000\n",
      "114.833336\n",
      "2575\n",
      "251.06667\n",
      "5050\n",
      "137.8\n",
      "7525\n",
      "112.166664\n"
     ]
    }
   ],
   "source": [
    "for i in range(len(dfmodel)):\n",
    "    print(dfmodel.iloc[i].name)\n",
    "    print(dfmodel.iloc[i].time)\n",
    "    "
   ]
  },
  {
   "cell_type": "code",
   "execution_count": 565,
   "metadata": {},
   "outputs": [
    {
     "name": "stdout",
     "output_type": "stream",
     "text": [
      "0100\n",
      "1000\n",
      "2575\n",
      "5050\n",
      "7525\n"
     ]
    },
    {
     "data": {
      "image/png": "[encoded data removed]",
      "text/plain": [
       "<Figure size 800x400 with 1 Axes>"
      ]
     },
     "metadata": {},
     "output_type": "display_data"
    }
   ],
   "source": [
    "fig, ax = plt.subplots(figsize=(8,4))\n",
    "\n",
    "ax.scatter(dfmodel.time, dfmodel.cost, s=30, facecolors='none', edgecolors='blue')\n",
    "\n",
    "\n",
    "for i in range(len(dfmodel)):\n",
    "    ax.annotate(getWeithDecomposition(dfmodel.iloc[i].name), (dfmodel.iloc[i].time, dfmodel.iloc[i].cost))\n",
    "\n",
    "plt.title(\"Objective Space. Case code: %s\"%configs.name)\n",
    "plt.xlabel(\"Time\", fontsize=14)\n",
    "plt.ylabel(\"Cost\", fontsize=14)\n",
    "# plt.savefig(\"images/pf_nsgaII-0.pdf\",dpi=300,bbox_inches = 'tight')\n",
    "plt.show()"
   ]
  },
  {
   "cell_type": "code",
   "execution_count": 566,
   "metadata": {},
   "outputs": [
    {
     "data": {
      "text/plain": [
       "(5, 2)"
      ]
     },
     "execution_count": 566,
     "metadata": {},
     "output_type": "execute_result"
    }
   ],
   "source": [
    "avg_pf = np.vstack((dfmodel.time.values,dfmodel.cost.values)).T\n",
    "avg_pf.shape"
   ]
  },
  {
   "cell_type": "code",
   "execution_count": 567,
   "metadata": {},
   "outputs": [
    {
     "data": {
      "text/plain": [
       "array([[953.73334 ,  44.2     ],\n",
       "       [114.833336, 702.2     ],\n",
       "       [251.06667 ,  38.4     ],\n",
       "       [137.8     ,  74.36667 ],\n",
       "       [112.166664,  84.1     ]], dtype=float32)"
      ]
     },
     "execution_count": 567,
     "metadata": {},
     "output_type": "execute_result"
    }
   ],
   "source": [
    "avg_pf"
   ]
  },
  {
   "cell_type": "code",
   "execution_count": 568,
   "metadata": {},
   "outputs": [
    {
     "name": "stdout",
     "output_type": "stream",
     "text": [
      "HV 328911.93373287626\n"
     ]
    }
   ],
   "source": [
    "ref_point = np.array([500., 900.])\n",
    "ind = HV(ref_point=ref_point)\n",
    "print(\"HV\", ind(avg_pf)) "
   ]
  },
  {
   "attachments": {},
   "cell_type": "markdown",
   "metadata": {},
   "source": [
    "# DRL one sample"
   ]
  },
  {
   "cell_type": "code",
   "execution_count": 569,
   "metadata": {},
   "outputs": [
    {
     "data": {
      "text/html": [
       "<div>\n",
       "<style scoped>\n",
       "    .dataframe tbody tr th:only-of-type {\n",
       "        vertical-align: middle;\n",
       "    }\n",
       "\n",
       "    .dataframe tbody tr th {\n",
       "        vertical-align: top;\n",
       "    }\n",
       "\n",
       "    .dataframe thead th {\n",
       "        text-align: right;\n",
       "    }\n",
       "</style>\n",
       "<table border=\"1\" class=\"dataframe\">\n",
       "  <thead>\n",
       "    <tr style=\"text-align: right;\">\n",
       "      <th></th>\n",
       "      <th>model</th>\n",
       "      <th>case</th>\n",
       "      <th>time</th>\n",
       "      <th>cost</th>\n",
       "      <th>reward</th>\n",
       "      <th>iTime</th>\n",
       "      <th>iCost</th>\n",
       "    </tr>\n",
       "  </thead>\n",
       "  <tbody>\n",
       "    <tr>\n",
       "      <th>0</th>\n",
       "      <td>1000</td>\n",
       "      <td>0</td>\n",
       "      <td>113.0</td>\n",
       "      <td>676.0</td>\n",
       "      <td>-113.0</td>\n",
       "      <td>322.0</td>\n",
       "      <td>720.0</td>\n",
       "    </tr>\n",
       "    <tr>\n",
       "      <th>1</th>\n",
       "      <td>1000</td>\n",
       "      <td>1</td>\n",
       "      <td>117.0</td>\n",
       "      <td>815.0</td>\n",
       "      <td>-117.0</td>\n",
       "      <td>372.0</td>\n",
       "      <td>720.0</td>\n",
       "    </tr>\n",
       "    <tr>\n",
       "      <th>2</th>\n",
       "      <td>1000</td>\n",
       "      <td>2</td>\n",
       "      <td>125.0</td>\n",
       "      <td>825.0</td>\n",
       "      <td>-125.0</td>\n",
       "      <td>322.0</td>\n",
       "      <td>720.0</td>\n",
       "    </tr>\n",
       "    <tr>\n",
       "      <th>3</th>\n",
       "      <td>1000</td>\n",
       "      <td>3</td>\n",
       "      <td>109.0</td>\n",
       "      <td>647.0</td>\n",
       "      <td>-109.0</td>\n",
       "      <td>372.0</td>\n",
       "      <td>720.0</td>\n",
       "    </tr>\n",
       "    <tr>\n",
       "      <th>4</th>\n",
       "      <td>1000</td>\n",
       "      <td>4</td>\n",
       "      <td>113.0</td>\n",
       "      <td>819.0</td>\n",
       "      <td>-113.0</td>\n",
       "      <td>272.0</td>\n",
       "      <td>720.0</td>\n",
       "    </tr>\n",
       "  </tbody>\n",
       "</table>\n",
       "</div>"
      ],
      "text/plain": [
       "  model  case   time   cost  reward  iTime  iCost\n",
       "0  1000     0  113.0  676.0  -113.0  322.0  720.0\n",
       "1  1000     1  117.0  815.0  -117.0  372.0  720.0\n",
       "2  1000     2  125.0  825.0  -125.0  322.0  720.0\n",
       "3  1000     3  109.0  647.0  -109.0  372.0  720.0\n",
       "4  1000     4  113.0  819.0  -113.0  272.0  720.0"
      ]
     },
     "execution_count": 569,
     "metadata": {},
     "output_type": "execute_result"
    }
   ],
   "source": [
    "df = pd.read_pickle('logs/log_eval_PF_'  + str(configs.name) + \"_\" + str(configs.n_jobs) + '_' + str(configs.n_devices)+'.pkl', 'infer')\n",
    "df = pd.DataFrame(df)\n",
    "df.columns = [\"model\",\"case\",\"time\",\"cost\",\"reward\",\"iTime\",\"iCost\"]\n",
    "df.head()\n"
   ]
  },
  {
   "cell_type": "code",
   "execution_count": 573,
   "metadata": {},
   "outputs": [
    {
     "data": {
      "text/html": [
       "<div>\n",
       "<style scoped>\n",
       "    .dataframe tbody tr th:only-of-type {\n",
       "        vertical-align: middle;\n",
       "    }\n",
       "\n",
       "    .dataframe tbody tr th {\n",
       "        vertical-align: top;\n",
       "    }\n",
       "\n",
       "    .dataframe thead th {\n",
       "        text-align: right;\n",
       "    }\n",
       "</style>\n",
       "<table border=\"1\" class=\"dataframe\">\n",
       "  <thead>\n",
       "    <tr style=\"text-align: right;\">\n",
       "      <th></th>\n",
       "      <th>model</th>\n",
       "      <th>case</th>\n",
       "      <th>time</th>\n",
       "      <th>cost</th>\n",
       "      <th>reward</th>\n",
       "      <th>iTime</th>\n",
       "      <th>iCost</th>\n",
       "    </tr>\n",
       "  </thead>\n",
       "  <tbody>\n",
       "    <tr>\n",
       "      <th>0</th>\n",
       "      <td>1000</td>\n",
       "      <td>0</td>\n",
       "      <td>113.0</td>\n",
       "      <td>676.0</td>\n",
       "      <td>-113.00</td>\n",
       "      <td>322.0</td>\n",
       "      <td>720.0</td>\n",
       "    </tr>\n",
       "    <tr>\n",
       "      <th>30</th>\n",
       "      <td>7525</td>\n",
       "      <td>0</td>\n",
       "      <td>110.0</td>\n",
       "      <td>63.0</td>\n",
       "      <td>-98.25</td>\n",
       "      <td>322.0</td>\n",
       "      <td>720.0</td>\n",
       "    </tr>\n",
       "    <tr>\n",
       "      <th>60</th>\n",
       "      <td>5050</td>\n",
       "      <td>0</td>\n",
       "      <td>148.0</td>\n",
       "      <td>91.0</td>\n",
       "      <td>-119.50</td>\n",
       "      <td>322.0</td>\n",
       "      <td>720.0</td>\n",
       "    </tr>\n",
       "    <tr>\n",
       "      <th>90</th>\n",
       "      <td>2575</td>\n",
       "      <td>0</td>\n",
       "      <td>212.0</td>\n",
       "      <td>36.0</td>\n",
       "      <td>-80.00</td>\n",
       "      <td>322.0</td>\n",
       "      <td>720.0</td>\n",
       "    </tr>\n",
       "    <tr>\n",
       "      <th>120</th>\n",
       "      <td>0100</td>\n",
       "      <td>0</td>\n",
       "      <td>823.0</td>\n",
       "      <td>36.0</td>\n",
       "      <td>-36.00</td>\n",
       "      <td>322.0</td>\n",
       "      <td>720.0</td>\n",
       "    </tr>\n",
       "  </tbody>\n",
       "</table>\n",
       "</div>"
      ],
      "text/plain": [
       "    model  case   time   cost  reward  iTime  iCost\n",
       "0    1000     0  113.0  676.0 -113.00  322.0  720.0\n",
       "30   7525     0  110.0   63.0  -98.25  322.0  720.0\n",
       "60   5050     0  148.0   91.0 -119.50  322.0  720.0\n",
       "90   2575     0  212.0   36.0  -80.00  322.0  720.0\n",
       "120  0100     0  823.0   36.0  -36.00  322.0  720.0"
      ]
     },
     "execution_count": 573,
     "metadata": {},
     "output_type": "execute_result"
    }
   ],
   "source": [
    "CASE = 0 \n",
    "dfDRL = df[df.case==CASE]\n",
    "dfDRL"
   ]
  },
  {
   "cell_type": "code",
   "execution_count": 571,
   "metadata": {},
   "outputs": [
    {
     "data": {
      "text/plain": [
       "array([[113., 676.],\n",
       "       [110.,  63.],\n",
       "       [148.,  91.],\n",
       "       [212.,  36.],\n",
       "       [823.,  36.]], dtype=float32)"
      ]
     },
     "execution_count": 571,
     "metadata": {},
     "output_type": "execute_result"
    }
   ],
   "source": [
    "avg_pf = np.vstack((dfDRL.time.values,dfDRL.cost.values)).T\n",
    "avg_pf"
   ]
  },
  {
   "cell_type": "code",
   "execution_count": 572,
   "metadata": {},
   "outputs": [
    {
     "name": "stdout",
     "output_type": "stream",
     "text": [
      "(113.0, 676.0)\n",
      "1000\n",
      "(110.0, 63.0)\n",
      "7525\n",
      "(148.0, 91.0)\n",
      "5050\n",
      "(212.0, 36.0)\n",
      "2575\n",
      "(823.0, 36.0)\n",
      "0100\n"
     ]
    },
    {
     "data": {
      "image/png": "[encoded data removed]",
      "text/plain": [
       "<Figure size 800x400 with 1 Axes>"
      ]
     },
     "metadata": {},
     "output_type": "display_data"
    }
   ],
   "source": [
    "fig, ax = plt.subplots(figsize=(8,4))\n",
    "\n",
    "ax.scatter(avg_pf[:,0], avg_pf[:,1], s=30, facecolors='none', edgecolors='blue')\n",
    "\n",
    "\n",
    "for i in range(len(avg_pf)):\n",
    "    print((avg_pf[i,0], avg_pf[i,1]))\n",
    "    ax.annotate(getWeithDecomposition(dfDRL.iloc[i].model), (avg_pf[i,0]+12, avg_pf[i,1]-2.5))\n",
    "\n",
    "plt.title(\"Objective Space. Case code: %s\"%configs.name)\n",
    "plt.xlabel(\"Time\", fontsize=14)\n",
    "plt.ylabel(\"Cost\", fontsize=14)\n",
    "# plt.savefig(\"images/pf_nsgaII-0.pdf\",dpi=300,bbox_inches = 'tight')\n",
    "plt.show()"
   ]
  },
  {
   "attachments": {},
   "cell_type": "markdown",
   "metadata": {},
   "source": [
    "# GA"
   ]
  },
  {
   "cell_type": "code",
   "execution_count": 528,
   "metadata": {},
   "outputs": [],
   "source": [
    "df = pd.read_pickle('logs/log_ga_pf_'  + str(configs.name) + \"_\" + str(configs.n_jobs) + '_' + str(configs.n_devices)+'_0.pkl', 'infer')\n",
    "df = pd.DataFrame(df)\n"
   ]
  },
  {
   "cell_type": "code",
   "execution_count": 529,
   "metadata": {},
   "outputs": [
    {
     "data": {
      "text/html": [
       "<div>\n",
       "<style scoped>\n",
       "    .dataframe tbody tr th:only-of-type {\n",
       "        vertical-align: middle;\n",
       "    }\n",
       "\n",
       "    .dataframe tbody tr th {\n",
       "        vertical-align: top;\n",
       "    }\n",
       "\n",
       "    .dataframe thead th {\n",
       "        text-align: right;\n",
       "    }\n",
       "</style>\n",
       "<table border=\"1\" class=\"dataframe\">\n",
       "  <thead>\n",
       "    <tr style=\"text-align: right;\">\n",
       "      <th></th>\n",
       "      <th>case</th>\n",
       "      <th>time</th>\n",
       "      <th>cost</th>\n",
       "      <th>executionTime</th>\n",
       "    </tr>\n",
       "  </thead>\n",
       "  <tbody>\n",
       "    <tr>\n",
       "      <th>0</th>\n",
       "      <td>0</td>\n",
       "      <td>208.0</td>\n",
       "      <td>45.0</td>\n",
       "      <td>0 days 00:08:40</td>\n",
       "    </tr>\n",
       "    <tr>\n",
       "      <th>1</th>\n",
       "      <td>0</td>\n",
       "      <td>109.0</td>\n",
       "      <td>194.0</td>\n",
       "      <td>0 days 00:08:40</td>\n",
       "    </tr>\n",
       "    <tr>\n",
       "      <th>2</th>\n",
       "      <td>0</td>\n",
       "      <td>164.0</td>\n",
       "      <td>63.0</td>\n",
       "      <td>0 days 00:08:40</td>\n",
       "    </tr>\n",
       "    <tr>\n",
       "      <th>3</th>\n",
       "      <td>0</td>\n",
       "      <td>136.0</td>\n",
       "      <td>99.0</td>\n",
       "      <td>0 days 00:08:40</td>\n",
       "    </tr>\n",
       "    <tr>\n",
       "      <th>4</th>\n",
       "      <td>0</td>\n",
       "      <td>127.0</td>\n",
       "      <td>136.0</td>\n",
       "      <td>0 days 00:08:40</td>\n",
       "    </tr>\n",
       "  </tbody>\n",
       "</table>\n",
       "</div>"
      ],
      "text/plain": [
       "   case   time   cost   executionTime\n",
       "0     0  208.0   45.0 0 days 00:08:40\n",
       "1     0  109.0  194.0 0 days 00:08:40\n",
       "2     0  164.0   63.0 0 days 00:08:40\n",
       "3     0  136.0   99.0 0 days 00:08:40\n",
       "4     0  127.0  136.0 0 days 00:08:40"
      ]
     },
     "execution_count": 529,
     "metadata": {},
     "output_type": "execute_result"
    }
   ],
   "source": [
    "df.columns = [\"case\",\"time\",\"cost\",\"executionTime\"]\n",
    "df.head()"
   ]
  },
  {
   "cell_type": "code",
   "execution_count": 530,
   "metadata": {},
   "outputs": [
    {
     "data": {
      "text/html": [
       "<div>\n",
       "<style scoped>\n",
       "    .dataframe tbody tr th:only-of-type {\n",
       "        vertical-align: middle;\n",
       "    }\n",
       "\n",
       "    .dataframe tbody tr th {\n",
       "        vertical-align: top;\n",
       "    }\n",
       "\n",
       "    .dataframe thead th {\n",
       "        text-align: right;\n",
       "    }\n",
       "</style>\n",
       "<table border=\"1\" class=\"dataframe\">\n",
       "  <thead>\n",
       "    <tr style=\"text-align: right;\">\n",
       "      <th></th>\n",
       "      <th>case</th>\n",
       "      <th>time</th>\n",
       "      <th>cost</th>\n",
       "      <th>executionTime</th>\n",
       "    </tr>\n",
       "  </thead>\n",
       "  <tbody>\n",
       "    <tr>\n",
       "      <th>0</th>\n",
       "      <td>0</td>\n",
       "      <td>208.0</td>\n",
       "      <td>45.0</td>\n",
       "      <td>0 days 00:08:40</td>\n",
       "    </tr>\n",
       "    <tr>\n",
       "      <th>1</th>\n",
       "      <td>0</td>\n",
       "      <td>109.0</td>\n",
       "      <td>194.0</td>\n",
       "      <td>0 days 00:08:40</td>\n",
       "    </tr>\n",
       "    <tr>\n",
       "      <th>2</th>\n",
       "      <td>0</td>\n",
       "      <td>164.0</td>\n",
       "      <td>63.0</td>\n",
       "      <td>0 days 00:08:40</td>\n",
       "    </tr>\n",
       "    <tr>\n",
       "      <th>3</th>\n",
       "      <td>0</td>\n",
       "      <td>136.0</td>\n",
       "      <td>99.0</td>\n",
       "      <td>0 days 00:08:40</td>\n",
       "    </tr>\n",
       "    <tr>\n",
       "      <th>4</th>\n",
       "      <td>0</td>\n",
       "      <td>127.0</td>\n",
       "      <td>136.0</td>\n",
       "      <td>0 days 00:08:40</td>\n",
       "    </tr>\n",
       "    <tr>\n",
       "      <th>5</th>\n",
       "      <td>0</td>\n",
       "      <td>118.0</td>\n",
       "      <td>155.0</td>\n",
       "      <td>0 days 00:08:40</td>\n",
       "    </tr>\n",
       "    <tr>\n",
       "      <th>6</th>\n",
       "      <td>0</td>\n",
       "      <td>126.0</td>\n",
       "      <td>146.0</td>\n",
       "      <td>0 days 00:08:40</td>\n",
       "    </tr>\n",
       "    <tr>\n",
       "      <th>7</th>\n",
       "      <td>0</td>\n",
       "      <td>137.0</td>\n",
       "      <td>90.0</td>\n",
       "      <td>0 days 00:08:40</td>\n",
       "    </tr>\n",
       "    <tr>\n",
       "      <th>8</th>\n",
       "      <td>0</td>\n",
       "      <td>127.0</td>\n",
       "      <td>136.0</td>\n",
       "      <td>0 days 00:08:40</td>\n",
       "    </tr>\n",
       "    <tr>\n",
       "      <th>9</th>\n",
       "      <td>0</td>\n",
       "      <td>164.0</td>\n",
       "      <td>63.0</td>\n",
       "      <td>0 days 00:08:40</td>\n",
       "    </tr>\n",
       "    <tr>\n",
       "      <th>10</th>\n",
       "      <td>0</td>\n",
       "      <td>155.0</td>\n",
       "      <td>72.0</td>\n",
       "      <td>0 days 00:08:40</td>\n",
       "    </tr>\n",
       "    <tr>\n",
       "      <th>11</th>\n",
       "      <td>0</td>\n",
       "      <td>154.0</td>\n",
       "      <td>81.0</td>\n",
       "      <td>0 days 00:08:40</td>\n",
       "    </tr>\n",
       "    <tr>\n",
       "      <th>12</th>\n",
       "      <td>0</td>\n",
       "      <td>172.0</td>\n",
       "      <td>54.0</td>\n",
       "      <td>0 days 00:08:40</td>\n",
       "    </tr>\n",
       "    <tr>\n",
       "      <th>13</th>\n",
       "      <td>0</td>\n",
       "      <td>172.0</td>\n",
       "      <td>54.0</td>\n",
       "      <td>0 days 00:08:40</td>\n",
       "    </tr>\n",
       "  </tbody>\n",
       "</table>\n",
       "</div>"
      ],
      "text/plain": [
       "    case   time   cost   executionTime\n",
       "0      0  208.0   45.0 0 days 00:08:40\n",
       "1      0  109.0  194.0 0 days 00:08:40\n",
       "2      0  164.0   63.0 0 days 00:08:40\n",
       "3      0  136.0   99.0 0 days 00:08:40\n",
       "4      0  127.0  136.0 0 days 00:08:40\n",
       "5      0  118.0  155.0 0 days 00:08:40\n",
       "6      0  126.0  146.0 0 days 00:08:40\n",
       "7      0  137.0   90.0 0 days 00:08:40\n",
       "8      0  127.0  136.0 0 days 00:08:40\n",
       "9      0  164.0   63.0 0 days 00:08:40\n",
       "10     0  155.0   72.0 0 days 00:08:40\n",
       "11     0  154.0   81.0 0 days 00:08:40\n",
       "12     0  172.0   54.0 0 days 00:08:40\n",
       "13     0  172.0   54.0 0 days 00:08:40"
      ]
     },
     "execution_count": 530,
     "metadata": {},
     "output_type": "execute_result"
    }
   ],
   "source": [
    "dfga = df[df.case==0]\n",
    "dfga"
   ]
  },
  {
   "cell_type": "code",
   "execution_count": 531,
   "metadata": {},
   "outputs": [
    {
     "data": {
      "image/png": "[encoded data removed]",
      "text/plain": [
       "<Figure size 800x400 with 1 Axes>"
      ]
     },
     "metadata": {},
     "output_type": "display_data"
    }
   ],
   "source": [
    "fig, ax = plt.subplots(figsize=(8,4))\n",
    "ax.scatter(dfga.time, dfga.cost, s=30, facecolors='none', edgecolors='blue')\n",
    "ax.scatter(avg_pf[:,0], avg_pf[:,1], s=40, facecolors='none', edgecolors='red',label=\"DRL\")\n",
    "plt.title(\"Objective Space. Case code: %s\"%configs.name)\n",
    "plt.xlabel(\"Time\", fontsize=14)\n",
    "plt.ylabel(\"Cost\", fontsize=14)\n",
    "# plt.savefig(\"images/pf_nsgaII-0.pdf\",dpi=300,bbox_inches = 'tight')\n",
    "plt.show()"
   ]
  },
  {
   "attachments": {},
   "cell_type": "markdown",
   "metadata": {},
   "source": [
    "# GA + DRL"
   ]
  },
  {
   "cell_type": "code",
   "execution_count": 419,
   "metadata": {},
   "outputs": [
    {
     "data": {
      "image/png": "[encoded data removed]",
      "text/plain": [
       "<Figure size 800x400 with 1 Axes>"
      ]
     },
     "metadata": {},
     "output_type": "display_data"
    }
   ],
   "source": [
    "fig, ax = plt.subplots(figsize=(8,4))\n",
    "ax.scatter(dfga.time, dfga.cost, s=30, facecolors='none', edgecolors='blue',label=\"NSGA\")\n",
    "\n",
    "ax.scatter(avg_pf[:,0], avg_pf[:,1], s=40, facecolors='none', edgecolors='red',label=\"DRL\")\n",
    "\n",
    "plt.title(\"Objective Space. Case code: %s\"%configs.name)\n",
    "plt.xlabel(\"Time\", fontsize=14)\n",
    "plt.ylabel(\"Cost\", fontsize=14)\n",
    "plt.legend()\n",
    "# plt.savefig(\"images/pf_nsgaII-0.pdf\",dpi=300,bbox_inches = 'tight')\n",
    "plt.show()"
   ]
  },
  {
   "cell_type": "code",
   "execution_count": 285,
   "metadata": {},
   "outputs": [],
   "source": [
    "ga_pf = np.vstack((dfga.time.values,dfga.cost.values)).T"
   ]
  },
  {
   "cell_type": "code",
   "execution_count": 286,
   "metadata": {},
   "outputs": [
    {
     "name": "stdout",
     "output_type": "stream",
     "text": [
      "H - GA  0.0\n"
     ]
    }
   ],
   "source": [
    "ref_point = np.array([900., 900.])\n",
    "ind = HV(ref_point=ref_point)\n",
    "print(\"H - GA \", ind(ga_pf)) "
   ]
  },
  {
   "cell_type": "code",
   "execution_count": 287,
   "metadata": {},
   "outputs": [
    {
     "name": "stdout",
     "output_type": "stream",
     "text": [
      "H - DRL  48675.0\n"
     ]
    }
   ],
   "source": [
    "print(\"H - DRL \", ind(avg_pf)) "
   ]
  },
  {
   "attachments": {},
   "cell_type": "markdown",
   "metadata": {},
   "source": [
    "### Violin plot del PF según pesos del modelo DRL"
   ]
  },
  {
   "cell_type": "code",
   "execution_count": 420,
   "metadata": {},
   "outputs": [
    {
     "data": {
      "text/html": [
       "<div>\n",
       "<style scoped>\n",
       "    .dataframe tbody tr th:only-of-type {\n",
       "        vertical-align: middle;\n",
       "    }\n",
       "\n",
       "    .dataframe tbody tr th {\n",
       "        vertical-align: top;\n",
       "    }\n",
       "\n",
       "    .dataframe thead th {\n",
       "        text-align: right;\n",
       "    }\n",
       "</style>\n",
       "<table border=\"1\" class=\"dataframe\">\n",
       "  <thead>\n",
       "    <tr style=\"text-align: right;\">\n",
       "      <th></th>\n",
       "      <th>model</th>\n",
       "      <th>time</th>\n",
       "      <th>cost</th>\n",
       "      <th>case</th>\n",
       "    </tr>\n",
       "  </thead>\n",
       "  <tbody>\n",
       "    <tr>\n",
       "      <th>0</th>\n",
       "      <td>1000</td>\n",
       "      <td>372.0</td>\n",
       "      <td>1620.0</td>\n",
       "      <td>0</td>\n",
       "    </tr>\n",
       "    <tr>\n",
       "      <th>50</th>\n",
       "      <td>7525</td>\n",
       "      <td>596.0</td>\n",
       "      <td>2500.0</td>\n",
       "      <td>0</td>\n",
       "    </tr>\n",
       "    <tr>\n",
       "      <th>100</th>\n",
       "      <td>5050</td>\n",
       "      <td>1561.0</td>\n",
       "      <td>1720.0</td>\n",
       "      <td>0</td>\n",
       "    </tr>\n",
       "    <tr>\n",
       "      <th>150</th>\n",
       "      <td>2575</td>\n",
       "      <td>3573.0</td>\n",
       "      <td>198.0</td>\n",
       "      <td>0</td>\n",
       "    </tr>\n",
       "    <tr>\n",
       "      <th>200</th>\n",
       "      <td>0100</td>\n",
       "      <td>3338.0</td>\n",
       "      <td>367.0</td>\n",
       "      <td>0</td>\n",
       "    </tr>\n",
       "  </tbody>\n",
       "</table>\n",
       "</div>"
      ],
      "text/plain": [
       "    model    time    cost  case\n",
       "0    1000   372.0  1620.0     0\n",
       "50   7525   596.0  2500.0     0\n",
       "100  5050  1561.0  1720.0     0\n",
       "150  2575  3573.0   198.0     0\n",
       "200  0100  3338.0   367.0     0"
      ]
     },
     "execution_count": 420,
     "metadata": {},
     "output_type": "execute_result"
    }
   ],
   "source": [
    "dtvio = dfDRL.loc[:,[\"model\",\"time\",\"cost\"]]\n",
    "dtvio[\"case\"]=np.zeros(len(dtvio),dtype=int)\n",
    "dtvio"
   ]
  },
  {
   "cell_type": "code",
   "execution_count": 421,
   "metadata": {},
   "outputs": [],
   "source": [
    "x = list(range(len(dtvio)))"
   ]
  },
  {
   "cell_type": "code",
   "execution_count": 422,
   "metadata": {},
   "outputs": [
    {
     "data": {
      "text/plain": [
       "array(['(.1,.0)', '(.7,.5)', '(.5,.0)', '(.2,.5)', '(.0,.1)'], dtype='<U7')"
      ]
     },
     "execution_count": 422,
     "metadata": {},
     "output_type": "execute_result"
    }
   ],
   "source": [
    "def getWeithDecomposition(val):\n",
    "    if len(val)==3:\n",
    "        if val[0]==\"0\":\n",
    "            return \"(0,1.)\"\n",
    "        else:\n",
    "            return \"(1.,0)\"\n",
    "    else:\n",
    "        return \"(.%s,.%s)\"%(val[0],val[1])\n",
    "    \n",
    "fticks = np.vectorize(getWeithDecomposition)\n",
    "ticks = fticks(dtvio.model)\n",
    "ticks"
   ]
  },
  {
   "cell_type": "code",
   "execution_count": 423,
   "metadata": {},
   "outputs": [
    {
     "data": {
      "image/png": "[encoded data removed]",
      "text/plain": [
       "<Figure size 640x480 with 2 Axes>"
      ]
     },
     "metadata": {},
     "output_type": "display_data"
    }
   ],
   "source": [
    "fig, axes = plt.subplots(ncols=2, sharey=True)\n",
    "axes[0].barh(x, dtvio.time, align='center', color='red', zorder=10)\n",
    "axes[0].set(title='Time')\n",
    "axes[1].barh(x, dtvio.cost, align='center', color='blue', zorder=10)\n",
    "axes[1].set(title='Cost')\n",
    "\n",
    "axes[0].invert_xaxis()\n",
    "axes[0].set(yticks=x, yticklabels=ticks)\n",
    "axes[0].yaxis.tick_right()\n",
    "axes[1].yaxis.tick_left()\n",
    "\n",
    "\n",
    "\n",
    "for ax in axes.flat:\n",
    "    ax.margins(0.03)\n",
    "    ax.grid(True)\n",
    "\n",
    "fig.tight_layout()\n",
    "fig.subplots_adjust(wspace=0.23)\n",
    "plt.show()"
   ]
  },
  {
   "cell_type": "code",
   "execution_count": 292,
   "metadata": {},
   "outputs": [
    {
     "data": {
      "text/plain": [
       "0      1000\n",
       "50     7525\n",
       "100    5050\n",
       "150    2575\n",
       "200    0100\n",
       "Name: model, dtype: object"
      ]
     },
     "execution_count": 292,
     "metadata": {},
     "output_type": "execute_result"
    }
   ],
   "source": [
    "dtvio.model"
   ]
  },
  {
   "cell_type": "code",
   "execution_count": 293,
   "metadata": {},
   "outputs": [
    {
     "name": "stdout",
     "output_type": "stream",
     "text": [
      "Index(['0100', '1000', '2575', '5050', '7525'], dtype='object', name='model')\n"
     ]
    }
   ],
   "source": [
    "dfmodel #average DRL all cases\n",
    "print(dfmodel.index)"
   ]
  },
  {
   "cell_type": "code",
   "execution_count": 294,
   "metadata": {},
   "outputs": [],
   "source": [
    "dfrindex = dfmodel.reindex(['010', '19', '28', '37', '46', '55', '64', '73', '82', '91', '100'])"
   ]
  },
  {
   "cell_type": "code",
   "execution_count": 295,
   "metadata": {},
   "outputs": [
    {
     "ename": "ValueError",
     "evalue": "shape mismatch: objects cannot be broadcast to a single shape.  Mismatch is between arg 2 with shape (11,) and arg 3 with shape (5,).",
     "output_type": "error",
     "traceback": [
      "\u001b[0;31m---------------------------------------------------------------------------\u001b[0m",
      "\u001b[0;31mValueError\u001b[0m                                Traceback (most recent call last)",
      "Cell \u001b[0;32mIn[295], line 2\u001b[0m\n\u001b[1;32m      1\u001b[0m fig, axes \u001b[39m=\u001b[39m plt\u001b[39m.\u001b[39msubplots(ncols\u001b[39m=\u001b[39m\u001b[39m2\u001b[39m, sharey\u001b[39m=\u001b[39m\u001b[39mTrue\u001b[39;00m)\n\u001b[0;32m----> 2\u001b[0m axes[\u001b[39m0\u001b[39;49m]\u001b[39m.\u001b[39;49mbarh(x, dfrindex\u001b[39m.\u001b[39;49mtime, align\u001b[39m=\u001b[39;49m\u001b[39m'\u001b[39;49m\u001b[39mcenter\u001b[39;49m\u001b[39m'\u001b[39;49m, color\u001b[39m=\u001b[39;49m\u001b[39m'\u001b[39;49m\u001b[39mred\u001b[39;49m\u001b[39m'\u001b[39;49m, zorder\u001b[39m=\u001b[39;49m\u001b[39m10\u001b[39;49m)\n\u001b[1;32m      3\u001b[0m axes[\u001b[39m0\u001b[39m]\u001b[39m.\u001b[39mset(title\u001b[39m=\u001b[39m\u001b[39m'\u001b[39m\u001b[39mTime\u001b[39m\u001b[39m'\u001b[39m)\n\u001b[1;32m      4\u001b[0m axes[\u001b[39m1\u001b[39m]\u001b[39m.\u001b[39mbarh(x, dfrindex\u001b[39m.\u001b[39mcost, align\u001b[39m=\u001b[39m\u001b[39m'\u001b[39m\u001b[39mcenter\u001b[39m\u001b[39m'\u001b[39m, color\u001b[39m=\u001b[39m\u001b[39m'\u001b[39m\u001b[39mblue\u001b[39m\u001b[39m'\u001b[39m, zorder\u001b[39m=\u001b[39m\u001b[39m10\u001b[39m)\n",
      "File \u001b[0;32m~/.pyenv/versions/3.9.7/envs/DGLenv/lib/python3.9/site-packages/matplotlib/axes/_axes.py:2629\u001b[0m, in \u001b[0;36mAxes.barh\u001b[0;34m(self, y, width, height, left, align, data, **kwargs)\u001b[0m\n\u001b[1;32m   2519\u001b[0m \u001b[39m\u001b[39m\u001b[39mr\u001b[39m\u001b[39m\"\"\"\u001b[39;00m\n\u001b[1;32m   2520\u001b[0m \u001b[39mMake a horizontal bar plot.\u001b[39;00m\n\u001b[1;32m   2521\u001b[0m \n\u001b[0;32m   (...)\u001b[0m\n\u001b[1;32m   2626\u001b[0m \u001b[39m:doc:`/gallery/lines_bars_and_markers/horizontal_barchart_distribution`.\u001b[39;00m\n\u001b[1;32m   2627\u001b[0m \u001b[39m\"\"\"\u001b[39;00m\n\u001b[1;32m   2628\u001b[0m kwargs\u001b[39m.\u001b[39msetdefault(\u001b[39m'\u001b[39m\u001b[39morientation\u001b[39m\u001b[39m'\u001b[39m, \u001b[39m'\u001b[39m\u001b[39mhorizontal\u001b[39m\u001b[39m'\u001b[39m)\n\u001b[0;32m-> 2629\u001b[0m patches \u001b[39m=\u001b[39m \u001b[39mself\u001b[39;49m\u001b[39m.\u001b[39;49mbar(x\u001b[39m=\u001b[39;49mleft, height\u001b[39m=\u001b[39;49mheight, width\u001b[39m=\u001b[39;49mwidth, bottom\u001b[39m=\u001b[39;49my,\n\u001b[1;32m   2630\u001b[0m                    align\u001b[39m=\u001b[39;49malign, data\u001b[39m=\u001b[39;49mdata, \u001b[39m*\u001b[39;49m\u001b[39m*\u001b[39;49mkwargs)\n\u001b[1;32m   2631\u001b[0m \u001b[39mreturn\u001b[39;00m patches\n",
      "File \u001b[0;32m~/.pyenv/versions/3.9.7/envs/DGLenv/lib/python3.9/site-packages/matplotlib/__init__.py:1433\u001b[0m, in \u001b[0;36m_preprocess_data.<locals>.inner\u001b[0;34m(ax, data, *args, **kwargs)\u001b[0m\n\u001b[1;32m   1430\u001b[0m \u001b[39m@functools\u001b[39m\u001b[39m.\u001b[39mwraps(func)\n\u001b[1;32m   1431\u001b[0m \u001b[39mdef\u001b[39;00m \u001b[39minner\u001b[39m(ax, \u001b[39m*\u001b[39margs, data\u001b[39m=\u001b[39m\u001b[39mNone\u001b[39;00m, \u001b[39m*\u001b[39m\u001b[39m*\u001b[39mkwargs):\n\u001b[1;32m   1432\u001b[0m     \u001b[39mif\u001b[39;00m data \u001b[39mis\u001b[39;00m \u001b[39mNone\u001b[39;00m:\n\u001b[0;32m-> 1433\u001b[0m         \u001b[39mreturn\u001b[39;00m func(ax, \u001b[39m*\u001b[39;49m\u001b[39mmap\u001b[39;49m(sanitize_sequence, args), \u001b[39m*\u001b[39;49m\u001b[39m*\u001b[39;49mkwargs)\n\u001b[1;32m   1435\u001b[0m     bound \u001b[39m=\u001b[39m new_sig\u001b[39m.\u001b[39mbind(ax, \u001b[39m*\u001b[39margs, \u001b[39m*\u001b[39m\u001b[39m*\u001b[39mkwargs)\n\u001b[1;32m   1436\u001b[0m     auto_label \u001b[39m=\u001b[39m (bound\u001b[39m.\u001b[39marguments\u001b[39m.\u001b[39mget(label_namer)\n\u001b[1;32m   1437\u001b[0m                   \u001b[39mor\u001b[39;00m bound\u001b[39m.\u001b[39mkwargs\u001b[39m.\u001b[39mget(label_namer))\n",
      "File \u001b[0;32m~/.pyenv/versions/3.9.7/envs/DGLenv/lib/python3.9/site-packages/matplotlib/axes/_axes.py:2397\u001b[0m, in \u001b[0;36mAxes.bar\u001b[0;34m(self, x, height, width, bottom, align, **kwargs)\u001b[0m\n\u001b[1;32m   2394\u001b[0m     \u001b[39mif\u001b[39;00m yerr \u001b[39mis\u001b[39;00m \u001b[39mnot\u001b[39;00m \u001b[39mNone\u001b[39;00m:\n\u001b[1;32m   2395\u001b[0m         yerr \u001b[39m=\u001b[39m \u001b[39mself\u001b[39m\u001b[39m.\u001b[39m_convert_dx(yerr, y0, y, \u001b[39mself\u001b[39m\u001b[39m.\u001b[39mconvert_yunits)\n\u001b[0;32m-> 2397\u001b[0m x, height, width, y, linewidth, hatch \u001b[39m=\u001b[39m np\u001b[39m.\u001b[39;49mbroadcast_arrays(\n\u001b[1;32m   2398\u001b[0m     \u001b[39m# Make args iterable too.\u001b[39;49;00m\n\u001b[1;32m   2399\u001b[0m     np\u001b[39m.\u001b[39;49matleast_1d(x), height, width, y, linewidth, hatch)\n\u001b[1;32m   2401\u001b[0m \u001b[39m# Now that units have been converted, set the tick locations.\u001b[39;00m\n\u001b[1;32m   2402\u001b[0m \u001b[39mif\u001b[39;00m orientation \u001b[39m==\u001b[39m \u001b[39m'\u001b[39m\u001b[39mvertical\u001b[39m\u001b[39m'\u001b[39m:\n",
      "File \u001b[0;32m<__array_function__ internals>:180\u001b[0m, in \u001b[0;36mbroadcast_arrays\u001b[0;34m(*args, **kwargs)\u001b[0m\n",
      "File \u001b[0;32m~/.pyenv/versions/3.9.7/envs/DGLenv/lib/python3.9/site-packages/numpy/lib/stride_tricks.py:540\u001b[0m, in \u001b[0;36mbroadcast_arrays\u001b[0;34m(subok, *args)\u001b[0m\n\u001b[1;32m    533\u001b[0m \u001b[39m# nditer is not used here to avoid the limit of 32 arrays.\u001b[39;00m\n\u001b[1;32m    534\u001b[0m \u001b[39m# Otherwise, something like the following one-liner would suffice:\u001b[39;00m\n\u001b[1;32m    535\u001b[0m \u001b[39m# return np.nditer(args, flags=['multi_index', 'zerosize_ok'],\u001b[39;00m\n\u001b[1;32m    536\u001b[0m \u001b[39m#                  order='C').itviews\u001b[39;00m\n\u001b[1;32m    538\u001b[0m args \u001b[39m=\u001b[39m [np\u001b[39m.\u001b[39marray(_m, copy\u001b[39m=\u001b[39m\u001b[39mFalse\u001b[39;00m, subok\u001b[39m=\u001b[39msubok) \u001b[39mfor\u001b[39;00m _m \u001b[39min\u001b[39;00m args]\n\u001b[0;32m--> 540\u001b[0m shape \u001b[39m=\u001b[39m _broadcast_shape(\u001b[39m*\u001b[39;49margs)\n\u001b[1;32m    542\u001b[0m \u001b[39mif\u001b[39;00m \u001b[39mall\u001b[39m(array\u001b[39m.\u001b[39mshape \u001b[39m==\u001b[39m shape \u001b[39mfor\u001b[39;00m array \u001b[39min\u001b[39;00m args):\n\u001b[1;32m    543\u001b[0m     \u001b[39m# Common case where nothing needs to be broadcasted.\u001b[39;00m\n\u001b[1;32m    544\u001b[0m     \u001b[39mreturn\u001b[39;00m args\n",
      "File \u001b[0;32m~/.pyenv/versions/3.9.7/envs/DGLenv/lib/python3.9/site-packages/numpy/lib/stride_tricks.py:422\u001b[0m, in \u001b[0;36m_broadcast_shape\u001b[0;34m(*args)\u001b[0m\n\u001b[1;32m    417\u001b[0m \u001b[39m\u001b[39m\u001b[39m\"\"\"Returns the shape of the arrays that would result from broadcasting the\u001b[39;00m\n\u001b[1;32m    418\u001b[0m \u001b[39msupplied arrays against each other.\u001b[39;00m\n\u001b[1;32m    419\u001b[0m \u001b[39m\"\"\"\u001b[39;00m\n\u001b[1;32m    420\u001b[0m \u001b[39m# use the old-iterator because np.nditer does not handle size 0 arrays\u001b[39;00m\n\u001b[1;32m    421\u001b[0m \u001b[39m# consistently\u001b[39;00m\n\u001b[0;32m--> 422\u001b[0m b \u001b[39m=\u001b[39m np\u001b[39m.\u001b[39;49mbroadcast(\u001b[39m*\u001b[39;49margs[:\u001b[39m32\u001b[39;49m])\n\u001b[1;32m    423\u001b[0m \u001b[39m# unfortunately, it cannot handle 32 or more arguments directly\u001b[39;00m\n\u001b[1;32m    424\u001b[0m \u001b[39mfor\u001b[39;00m pos \u001b[39min\u001b[39;00m \u001b[39mrange\u001b[39m(\u001b[39m32\u001b[39m, \u001b[39mlen\u001b[39m(args), \u001b[39m31\u001b[39m):\n\u001b[1;32m    425\u001b[0m     \u001b[39m# ironically, np.broadcast does not properly handle np.broadcast\u001b[39;00m\n\u001b[1;32m    426\u001b[0m     \u001b[39m# objects (it treats them as scalars)\u001b[39;00m\n\u001b[1;32m    427\u001b[0m     \u001b[39m# use broadcasting to avoid allocating the full array\u001b[39;00m\n",
      "\u001b[0;31mValueError\u001b[0m: shape mismatch: objects cannot be broadcast to a single shape.  Mismatch is between arg 2 with shape (11,) and arg 3 with shape (5,)."
     ]
    },
    {
     "data": {
      "image/png": "[encoded data removed]",
      "text/plain": [
       "<Figure size 640x480 with 2 Axes>"
      ]
     },
     "metadata": {},
     "output_type": "display_data"
    }
   ],
   "source": [
    "fig, axes = plt.subplots(ncols=2, sharey=True)\n",
    "axes[0].barh(x, dfrindex.time, align='center', color='red', zorder=10)\n",
    "axes[0].set(title='Time')\n",
    "axes[1].barh(x, dfrindex.cost, align='center', color='blue', zorder=10)\n",
    "axes[1].set(title='Cost')\n",
    "\n",
    "axes[0].invert_xaxis()\n",
    "axes[0].set(yticks=x, yticklabels=ticks)\n",
    "axes[0].yaxis.tick_right()\n",
    "axes[1].yaxis.tick_left()\n",
    "\n",
    "\n",
    "\n",
    "for ax in axes.flat:\n",
    "    ax.margins(0.03)\n",
    "    ax.grid(True)\n",
    "\n",
    "fig.tight_layout()\n",
    "fig.subplots_adjust(wspace=0.23)\n",
    "plt.show()"
   ]
  },
  {
   "attachments": {},
   "cell_type": "markdown",
   "metadata": {},
   "source": [
    "# GA MONO"
   ]
  },
  {
   "cell_type": "code",
   "execution_count": 479,
   "metadata": {},
   "outputs": [
    {
     "data": {
      "text/plain": [
       "['0100', '2575', '5050', '7525', '1000']"
      ]
     },
     "execution_count": 479,
     "metadata": {},
     "output_type": "execute_result"
    }
   ],
   "source": [
    "weigthRange = list(np.arange(0,11,2.5))\n",
    "combinationsWeightTC = list(zip(weigthRange,weigthRange[::-1])) #[(0, 10), (1, 9), (2, 8), (3, 7), (4, 6), (5, 5), (6, 4), (7, 3), (8, 2), (9, 1), (10, 0)]\n",
    "allCombination = combinationsWeightTC\n",
    "allCombination\n",
    "\n",
    "combinations = [\"0100\",\"2575\",\"5050\",\"7525\",\"1000\"]\n",
    "combinations\n"
   ]
  },
  {
   "cell_type": "code",
   "execution_count": 519,
   "metadata": {},
   "outputs": [
    {
     "name": "stdout",
     "output_type": "stream",
     "text": [
      "w0100\n",
      "\t (1, 6)\n",
      "w2575\n",
      "\t (1, 6)\n",
      "w5050\n",
      "\t (1, 6)\n",
      "w7525\n",
      "\t (1, 6)\n",
      "w1000\n",
      "\t (1, 6)\n"
     ]
    },
    {
     "data": {
      "text/html": [
       "<div>\n",
       "<style scoped>\n",
       "    .dataframe tbody tr th:only-of-type {\n",
       "        vertical-align: middle;\n",
       "    }\n",
       "\n",
       "    .dataframe tbody tr th {\n",
       "        vertical-align: top;\n",
       "    }\n",
       "\n",
       "    .dataframe thead th {\n",
       "        text-align: right;\n",
       "    }\n",
       "</style>\n",
       "<table border=\"1\" class=\"dataframe\">\n",
       "  <thead>\n",
       "    <tr style=\"text-align: right;\">\n",
       "      <th></th>\n",
       "      <th>case</th>\n",
       "      <th>time</th>\n",
       "      <th>cost</th>\n",
       "      <th>constraing</th>\n",
       "      <th>exec</th>\n",
       "      <th>model</th>\n",
       "    </tr>\n",
       "  </thead>\n",
       "  <tbody>\n",
       "    <tr>\n",
       "      <th>0</th>\n",
       "      <td>0</td>\n",
       "      <td>1168.0</td>\n",
       "      <td>36.0</td>\n",
       "      <td>0</td>\n",
       "      <td>0 days 00:02:25</td>\n",
       "      <td>0100</td>\n",
       "    </tr>\n",
       "    <tr>\n",
       "      <th>0</th>\n",
       "      <td>0</td>\n",
       "      <td>143.0</td>\n",
       "      <td>36.0</td>\n",
       "      <td>0</td>\n",
       "      <td>0 days 00:03:29</td>\n",
       "      <td>2575</td>\n",
       "    </tr>\n",
       "    <tr>\n",
       "      <th>0</th>\n",
       "      <td>0</td>\n",
       "      <td>105.0</td>\n",
       "      <td>54.0</td>\n",
       "      <td>0</td>\n",
       "      <td>0 days 00:03:29</td>\n",
       "      <td>5050</td>\n",
       "    </tr>\n",
       "    <tr>\n",
       "      <th>0</th>\n",
       "      <td>0</td>\n",
       "      <td>111.0</td>\n",
       "      <td>128.0</td>\n",
       "      <td>0</td>\n",
       "      <td>0 days 00:03:12</td>\n",
       "      <td>7525</td>\n",
       "    </tr>\n",
       "    <tr>\n",
       "      <th>0</th>\n",
       "      <td>0</td>\n",
       "      <td>108.0</td>\n",
       "      <td>724.0</td>\n",
       "      <td>0</td>\n",
       "      <td>0 days 00:02:39</td>\n",
       "      <td>1000</td>\n",
       "    </tr>\n",
       "  </tbody>\n",
       "</table>\n",
       "</div>"
      ],
      "text/plain": [
       "  case    time   cost constraing            exec model\n",
       "0    0  1168.0   36.0          0 0 days 00:02:25  0100\n",
       "0    0   143.0   36.0          0 0 days 00:03:29  2575\n",
       "0    0   105.0   54.0          0 0 days 00:03:29  5050\n",
       "0    0   111.0  128.0          0 0 days 00:03:12  7525\n",
       "0    0   108.0  724.0          0 0 days 00:02:39  1000"
      ]
     },
     "execution_count": 519,
     "metadata": {},
     "output_type": "execute_result"
    }
   ],
   "source": [
    "dall = pd.DataFrame([],columns= [\"case\",\"time\",\"cost\",\"constraing\",\"exec\",\"model\"])\n",
    "for combi in combinations:\n",
    "    print(\"w%s\"%combi)\n",
    "    df = pd.read_pickle('logs/log_ga_pf_mono_'  + str(configs.name) + \"_\" + str(configs.n_jobs) + '_' + str(configs.n_devices)+'_0_w%s.pkl'%combi, 'infer')\n",
    "    df = pd.DataFrame(df)\n",
    "    df.columns = [\"case\",\"time\",\"cost\",\"constraing\",\"exec\"]\n",
    "    df=df[:1]\n",
    "    df[\"model\"]=[combi]*len(df)\n",
    "    print(\"\\t\",df.shape)\n",
    "    dall = pd.concat([dall, df], axis=0)\n",
    "    \n",
    "dall.shape\n",
    "dall.head()"
   ]
  },
  {
   "cell_type": "code",
   "execution_count": 520,
   "metadata": {},
   "outputs": [
    {
     "data": {
      "text/html": [
       "<div>\n",
       "<style scoped>\n",
       "    .dataframe tbody tr th:only-of-type {\n",
       "        vertical-align: middle;\n",
       "    }\n",
       "\n",
       "    .dataframe tbody tr th {\n",
       "        vertical-align: top;\n",
       "    }\n",
       "\n",
       "    .dataframe thead th {\n",
       "        text-align: right;\n",
       "    }\n",
       "</style>\n",
       "<table border=\"1\" class=\"dataframe\">\n",
       "  <thead>\n",
       "    <tr style=\"text-align: right;\">\n",
       "      <th></th>\n",
       "      <th>case</th>\n",
       "      <th>time</th>\n",
       "      <th>cost</th>\n",
       "      <th>constraing</th>\n",
       "      <th>exec</th>\n",
       "      <th>model</th>\n",
       "    </tr>\n",
       "  </thead>\n",
       "  <tbody>\n",
       "    <tr>\n",
       "      <th>0</th>\n",
       "      <td>0</td>\n",
       "      <td>1168.0</td>\n",
       "      <td>36.0</td>\n",
       "      <td>0</td>\n",
       "      <td>0 days 00:02:25</td>\n",
       "      <td>0100</td>\n",
       "    </tr>\n",
       "    <tr>\n",
       "      <th>0</th>\n",
       "      <td>0</td>\n",
       "      <td>108.0</td>\n",
       "      <td>724.0</td>\n",
       "      <td>0</td>\n",
       "      <td>0 days 00:02:39</td>\n",
       "      <td>1000</td>\n",
       "    </tr>\n",
       "    <tr>\n",
       "      <th>0</th>\n",
       "      <td>0</td>\n",
       "      <td>143.0</td>\n",
       "      <td>36.0</td>\n",
       "      <td>0</td>\n",
       "      <td>0 days 00:03:29</td>\n",
       "      <td>2575</td>\n",
       "    </tr>\n",
       "    <tr>\n",
       "      <th>0</th>\n",
       "      <td>0</td>\n",
       "      <td>105.0</td>\n",
       "      <td>54.0</td>\n",
       "      <td>0</td>\n",
       "      <td>0 days 00:03:29</td>\n",
       "      <td>5050</td>\n",
       "    </tr>\n",
       "    <tr>\n",
       "      <th>0</th>\n",
       "      <td>0</td>\n",
       "      <td>111.0</td>\n",
       "      <td>128.0</td>\n",
       "      <td>0</td>\n",
       "      <td>0 days 00:03:12</td>\n",
       "      <td>7525</td>\n",
       "    </tr>\n",
       "  </tbody>\n",
       "</table>\n",
       "</div>"
      ],
      "text/plain": [
       "  case    time   cost constraing            exec model\n",
       "0    0  1168.0   36.0          0 0 days 00:02:25  0100\n",
       "0    0   108.0  724.0          0 0 days 00:02:39  1000\n",
       "0    0   143.0   36.0          0 0 days 00:03:29  2575\n",
       "0    0   105.0   54.0          0 0 days 00:03:29  5050\n",
       "0    0   111.0  128.0          0 0 days 00:03:12  7525"
      ]
     },
     "execution_count": 520,
     "metadata": {},
     "output_type": "execute_result"
    }
   ],
   "source": [
    "dmono = dall.groupby(\"model\").sample(frac=1)\n",
    "dmono"
   ]
  },
  {
   "cell_type": "code",
   "execution_count": 522,
   "metadata": {},
   "outputs": [
    {
     "data": {
      "text/plain": [
       "[Text(0.5, 1.0, 'Mono values')]"
      ]
     },
     "execution_count": 522,
     "metadata": {},
     "output_type": "execute_result"
    },
    {
     "data": {
      "image/png": "[encoded data removed]",
      "text/plain": [
       "<Figure size 640x480 with 1 Axes>"
      ]
     },
     "metadata": {},
     "output_type": "display_data"
    }
   ],
   "source": [
    "import seaborn as sns\n",
    "\n",
    "sns.scatterplot(\n",
    "    data=dmono,\n",
    "    x=\"time\", y=\"cost\",\n",
    "    hue=\"model\", \n",
    "\n",
    ").set(title='Mono values')"
   ]
  },
  {
   "cell_type": "code",
   "execution_count": 576,
   "metadata": {},
   "outputs": [
    {
     "name": "stdout",
     "output_type": "stream",
     "text": [
      "0100\n",
      "1000\n",
      "2575\n",
      "5050\n",
      "7525\n"
     ]
    },
    {
     "data": {
      "image/png": "[encoded data removed]",
      "text/plain": [
       "<Figure size 800x400 with 2 Axes>"
      ]
     },
     "metadata": {},
     "output_type": "display_data"
    }
   ],
   "source": [
    "from mpl_toolkits.axes_grid1.inset_locator import zoomed_inset_axes, mark_inset\n",
    "fig, ax = plt.subplots(figsize=(8,4))\n",
    "\n",
    "axins1 = zoomed_inset_axes(ax, zoom = 2, loc='center right')\n",
    "axins1.scatter(dmono.time, dmono.cost, s=30, facecolors='none', edgecolors='blue') #MONO solutions\n",
    "axins1.scatter(dfga.time, dfga.cost, s=30, facecolors='cyan', marker=\"H\" ,edgecolors='cyan') ## PF\n",
    "axins1.tick_params(labelleft=False, labelbottom=False)\n",
    "axins1.scatter(dfDRL.time, dfDRL.cost, s=35, facecolors='red', marker=\"P\" ,edgecolors='red') ## PF\n",
    "axins1.scatter(dfmodel.time, dfmodel.cost, s=30, facecolors='orange', edgecolors='orange')\n",
    "\n",
    "for i in range(len(avg_pf)):\n",
    "    # print((avg_pf[i,0], avg_pf[i,1]))\n",
    "    axins1.annotate(getWeithDecomposition(dmono.iloc[i].model), (dmono.iloc[i].time+12, dmono.iloc[i].cost-2.5),fontsize=10)\n",
    "\n",
    "\n",
    "#axins1.plot(y,datapts.T,'mo')\n",
    "x1, x2, y1, y2 = 60,250,10,220 \n",
    "axins1.set_xlim(x1, x2)\n",
    "axins1.set_ylim(y1, y2)\n",
    "\n",
    "\n",
    "ax.scatter(dmono.time, dmono.cost, s=30, facecolors='none', edgecolors='blue') #MONO solutions\n",
    "ax.scatter(dfga.time, dfga.cost, s=30, facecolors='cyan', marker=\"H\" ,edgecolors='cyan') ## PF\n",
    "ax.scatter(dfDRL.time, dfDRL.cost, s=35, facecolors='red', marker=\"P\" ,edgecolors='red') ## PF\n",
    "ax.scatter(dfmodel.time, dfmodel.cost, s=30, facecolors='orange', edgecolors='orange')\n",
    "\n",
    "mark_inset(ax, axins1, loc1=2, loc2=4, fc=\"none\", ec=\".25\")\n",
    "# plt.title(\"Mono GA \")\n",
    "ax.set_xlabel(\"Time\", fontsize=14)\n",
    "ax.set_ylabel(\"Cost\", fontsize=14)\n",
    "# plt.savefig(\"images/pf_nsgaII-0.pdf\",dpi=300,bbox_inches = 'tight')\n",
    "plt.show()"
   ]
  },
  {
   "cell_type": "code",
   "execution_count": 475,
   "metadata": {},
   "outputs": [
    {
     "data": {
      "text/html": [
       "<div>\n",
       "<style scoped>\n",
       "    .dataframe tbody tr th:only-of-type {\n",
       "        vertical-align: middle;\n",
       "    }\n",
       "\n",
       "    .dataframe tbody tr th {\n",
       "        vertical-align: top;\n",
       "    }\n",
       "\n",
       "    .dataframe thead th {\n",
       "        text-align: right;\n",
       "    }\n",
       "</style>\n",
       "<table border=\"1\" class=\"dataframe\">\n",
       "  <thead>\n",
       "    <tr style=\"text-align: right;\">\n",
       "      <th></th>\n",
       "      <th>case</th>\n",
       "      <th>time</th>\n",
       "      <th>cost</th>\n",
       "      <th>constraing</th>\n",
       "      <th>exec</th>\n",
       "    </tr>\n",
       "  </thead>\n",
       "  <tbody>\n",
       "    <tr>\n",
       "      <th>0</th>\n",
       "      <td>0</td>\n",
       "      <td>105.0</td>\n",
       "      <td>54.0</td>\n",
       "      <td>0</td>\n",
       "      <td>0 days 00:03:29</td>\n",
       "    </tr>\n",
       "    <tr>\n",
       "      <th>1</th>\n",
       "      <td>0</td>\n",
       "      <td>105.0</td>\n",
       "      <td>54.0</td>\n",
       "      <td>0</td>\n",
       "      <td>0 days 00:03:29</td>\n",
       "    </tr>\n",
       "    <tr>\n",
       "      <th>2</th>\n",
       "      <td>0</td>\n",
       "      <td>105.0</td>\n",
       "      <td>54.0</td>\n",
       "      <td>0</td>\n",
       "      <td>0 days 00:03:29</td>\n",
       "    </tr>\n",
       "    <tr>\n",
       "      <th>3</th>\n",
       "      <td>0</td>\n",
       "      <td>105.0</td>\n",
       "      <td>54.0</td>\n",
       "      <td>0</td>\n",
       "      <td>0 days 00:03:29</td>\n",
       "    </tr>\n",
       "    <tr>\n",
       "      <th>4</th>\n",
       "      <td>0</td>\n",
       "      <td>105.0</td>\n",
       "      <td>54.0</td>\n",
       "      <td>0</td>\n",
       "      <td>0 days 00:03:29</td>\n",
       "    </tr>\n",
       "    <tr>\n",
       "      <th>...</th>\n",
       "      <td>...</td>\n",
       "      <td>...</td>\n",
       "      <td>...</td>\n",
       "      <td>...</td>\n",
       "      <td>...</td>\n",
       "    </tr>\n",
       "    <tr>\n",
       "      <th>83</th>\n",
       "      <td>0</td>\n",
       "      <td>105.0</td>\n",
       "      <td>54.0</td>\n",
       "      <td>0</td>\n",
       "      <td>0 days 00:03:29</td>\n",
       "    </tr>\n",
       "    <tr>\n",
       "      <th>84</th>\n",
       "      <td>0</td>\n",
       "      <td>105.0</td>\n",
       "      <td>54.0</td>\n",
       "      <td>0</td>\n",
       "      <td>0 days 00:03:29</td>\n",
       "    </tr>\n",
       "    <tr>\n",
       "      <th>85</th>\n",
       "      <td>0</td>\n",
       "      <td>105.0</td>\n",
       "      <td>54.0</td>\n",
       "      <td>0</td>\n",
       "      <td>0 days 00:03:29</td>\n",
       "    </tr>\n",
       "    <tr>\n",
       "      <th>86</th>\n",
       "      <td>0</td>\n",
       "      <td>105.0</td>\n",
       "      <td>54.0</td>\n",
       "      <td>0</td>\n",
       "      <td>0 days 00:03:29</td>\n",
       "    </tr>\n",
       "    <tr>\n",
       "      <th>87</th>\n",
       "      <td>0</td>\n",
       "      <td>105.0</td>\n",
       "      <td>54.0</td>\n",
       "      <td>0</td>\n",
       "      <td>0 days 00:03:29</td>\n",
       "    </tr>\n",
       "  </tbody>\n",
       "</table>\n",
       "<p>88 rows × 5 columns</p>\n",
       "</div>"
      ],
      "text/plain": [
       "    case   time  cost  constraing            exec\n",
       "0      0  105.0  54.0           0 0 days 00:03:29\n",
       "1      0  105.0  54.0           0 0 days 00:03:29\n",
       "2      0  105.0  54.0           0 0 days 00:03:29\n",
       "3      0  105.0  54.0           0 0 days 00:03:29\n",
       "4      0  105.0  54.0           0 0 days 00:03:29\n",
       "..   ...    ...   ...         ...             ...\n",
       "83     0  105.0  54.0           0 0 days 00:03:29\n",
       "84     0  105.0  54.0           0 0 days 00:03:29\n",
       "85     0  105.0  54.0           0 0 days 00:03:29\n",
       "86     0  105.0  54.0           0 0 days 00:03:29\n",
       "87     0  105.0  54.0           0 0 days 00:03:29\n",
       "\n",
       "[88 rows x 5 columns]"
      ]
     },
     "execution_count": 475,
     "metadata": {},
     "output_type": "execute_result"
    }
   ],
   "source": [
    "df = pd.read_pickle('logs/log_ga_pf_mono_'  + str(configs.name) + \"_\" + str(configs.n_jobs) + '_' + str(configs.n_devices)+'_0_w5050.pkl', 'infer')\n",
    "df = pd.DataFrame(df)\n",
    "df.columns = [\"case\",\"time\",\"cost\",\"constraing\",\"exec\"]\n",
    "df"
   ]
  },
  {
   "cell_type": "code",
   "execution_count": 469,
   "metadata": {},
   "outputs": [
    {
     "ename": "FileNotFoundError",
     "evalue": "[Errno 2] No such file or directory: 'logs/log_eval_PF_default_3_9.pkl'",
     "output_type": "error",
     "traceback": [
      "\u001b[0;31m---------------------------------------------------------------------------\u001b[0m",
      "\u001b[0;31mFileNotFoundError\u001b[0m                         Traceback (most recent call last)",
      "Cell \u001b[0;32mIn[469], line 1\u001b[0m\n\u001b[0;32m----> 1\u001b[0m dfDRL \u001b[39m=\u001b[39m pd\u001b[39m.\u001b[39;49mread_pickle(\u001b[39m'\u001b[39;49m\u001b[39mlogs/log_eval_PF_\u001b[39;49m\u001b[39m'\u001b[39;49m  \u001b[39m+\u001b[39;49m \u001b[39mstr\u001b[39;49m(configs\u001b[39m.\u001b[39;49mname) \u001b[39m+\u001b[39;49m \u001b[39m\"\u001b[39;49m\u001b[39m_\u001b[39;49m\u001b[39m\"\u001b[39;49m \u001b[39m+\u001b[39;49m \u001b[39mstr\u001b[39;49m(configs\u001b[39m.\u001b[39;49mn_jobs) \u001b[39m+\u001b[39;49m \u001b[39m'\u001b[39;49m\u001b[39m_\u001b[39;49m\u001b[39m'\u001b[39;49m \u001b[39m+\u001b[39;49m \u001b[39mstr\u001b[39;49m(configs\u001b[39m.\u001b[39;49mn_devices)\u001b[39m+\u001b[39;49m\u001b[39m'\u001b[39;49m\u001b[39m.pkl\u001b[39;49m\u001b[39m'\u001b[39;49m, \u001b[39m'\u001b[39;49m\u001b[39minfer\u001b[39;49m\u001b[39m'\u001b[39;49m)\n\u001b[1;32m      2\u001b[0m dfDRL \u001b[39m=\u001b[39m pd\u001b[39m.\u001b[39mDataFrame(dfDRL)\n\u001b[1;32m      3\u001b[0m dfDRL\u001b[39m.\u001b[39mcolumns \u001b[39m=\u001b[39m [\u001b[39m\"\u001b[39m\u001b[39mmodel\u001b[39m\u001b[39m\"\u001b[39m,\u001b[39m\"\u001b[39m\u001b[39mcase\u001b[39m\u001b[39m\"\u001b[39m,\u001b[39m\"\u001b[39m\u001b[39mtime\u001b[39m\u001b[39m\"\u001b[39m,\u001b[39m\"\u001b[39m\u001b[39mcost\u001b[39m\u001b[39m\"\u001b[39m,\u001b[39m\"\u001b[39m\u001b[39mreward\u001b[39m\u001b[39m\"\u001b[39m,\u001b[39m\"\u001b[39m\u001b[39miTime\u001b[39m\u001b[39m\"\u001b[39m,\u001b[39m\"\u001b[39m\u001b[39miCost\u001b[39m\u001b[39m\"\u001b[39m]\n",
      "File \u001b[0;32m~/.pyenv/versions/3.9.7/envs/DGLenv/lib/python3.9/site-packages/pandas/io/pickle.py:190\u001b[0m, in \u001b[0;36mread_pickle\u001b[0;34m(filepath_or_buffer, compression, storage_options)\u001b[0m\n\u001b[1;32m    124\u001b[0m \u001b[39m\u001b[39m\u001b[39m\"\"\"\u001b[39;00m\n\u001b[1;32m    125\u001b[0m \u001b[39mLoad pickled pandas object (or any object) from file.\u001b[39;00m\n\u001b[1;32m    126\u001b[0m \n\u001b[0;32m   (...)\u001b[0m\n\u001b[1;32m    187\u001b[0m \u001b[39m4    4    9\u001b[39;00m\n\u001b[1;32m    188\u001b[0m \u001b[39m\"\"\"\u001b[39;00m\n\u001b[1;32m    189\u001b[0m excs_to_catch \u001b[39m=\u001b[39m (\u001b[39mAttributeError\u001b[39;00m, \u001b[39mImportError\u001b[39;00m, \u001b[39mModuleNotFoundError\u001b[39;00m, \u001b[39mTypeError\u001b[39;00m)\n\u001b[0;32m--> 190\u001b[0m \u001b[39mwith\u001b[39;00m get_handle(\n\u001b[1;32m    191\u001b[0m     filepath_or_buffer,\n\u001b[1;32m    192\u001b[0m     \u001b[39m\"\u001b[39;49m\u001b[39mrb\u001b[39;49m\u001b[39m\"\u001b[39;49m,\n\u001b[1;32m    193\u001b[0m     compression\u001b[39m=\u001b[39;49mcompression,\n\u001b[1;32m    194\u001b[0m     is_text\u001b[39m=\u001b[39;49m\u001b[39mFalse\u001b[39;49;00m,\n\u001b[1;32m    195\u001b[0m     storage_options\u001b[39m=\u001b[39;49mstorage_options,\n\u001b[1;32m    196\u001b[0m ) \u001b[39mas\u001b[39;00m handles:\n\u001b[1;32m    197\u001b[0m \n\u001b[1;32m    198\u001b[0m     \u001b[39m# 1) try standard library Pickle\u001b[39;00m\n\u001b[1;32m    199\u001b[0m     \u001b[39m# 2) try pickle_compat (older pandas version) to handle subclass changes\u001b[39;00m\n\u001b[1;32m    200\u001b[0m     \u001b[39m# 3) try pickle_compat with latin-1 encoding upon a UnicodeDecodeError\u001b[39;00m\n\u001b[1;32m    202\u001b[0m     \u001b[39mtry\u001b[39;00m:\n\u001b[1;32m    203\u001b[0m         \u001b[39m# TypeError for Cython complaints about object.__new__ vs Tick.__new__\u001b[39;00m\n\u001b[1;32m    204\u001b[0m         \u001b[39mtry\u001b[39;00m:\n",
      "File \u001b[0;32m~/.pyenv/versions/3.9.7/envs/DGLenv/lib/python3.9/site-packages/pandas/io/common.py:865\u001b[0m, in \u001b[0;36mget_handle\u001b[0;34m(path_or_buf, mode, encoding, compression, memory_map, is_text, errors, storage_options)\u001b[0m\n\u001b[1;32m    856\u001b[0m         handle \u001b[39m=\u001b[39m \u001b[39mopen\u001b[39m(\n\u001b[1;32m    857\u001b[0m             handle,\n\u001b[1;32m    858\u001b[0m             ioargs\u001b[39m.\u001b[39mmode,\n\u001b[0;32m   (...)\u001b[0m\n\u001b[1;32m    861\u001b[0m             newline\u001b[39m=\u001b[39m\u001b[39m\"\u001b[39m\u001b[39m\"\u001b[39m,\n\u001b[1;32m    862\u001b[0m         )\n\u001b[1;32m    863\u001b[0m     \u001b[39melse\u001b[39;00m:\n\u001b[1;32m    864\u001b[0m         \u001b[39m# Binary mode\u001b[39;00m\n\u001b[0;32m--> 865\u001b[0m         handle \u001b[39m=\u001b[39m \u001b[39mopen\u001b[39;49m(handle, ioargs\u001b[39m.\u001b[39;49mmode)\n\u001b[1;32m    866\u001b[0m     handles\u001b[39m.\u001b[39mappend(handle)\n\u001b[1;32m    868\u001b[0m \u001b[39m# Convert BytesIO or file objects passed with an encoding\u001b[39;00m\n",
      "\u001b[0;31mFileNotFoundError\u001b[0m: [Errno 2] No such file or directory: 'logs/log_eval_PF_default_3_9.pkl'"
     ]
    }
   ],
   "source": [
    "dfDRL = pd.read_pickle('logs/log_eval_PF_'  + str(configs.name) + \"_\" + str(configs.n_jobs) + '_' + str(configs.n_devices)+'.pkl', 'infer')\n",
    "dfDRL = pd.DataFrame(dfDRL)\n",
    "dfDRL.columns = [\"model\",\"case\",\"time\",\"cost\",\"reward\",\"iTime\",\"iCost\"]\n",
    "dt = dfDRL[dfDRL.model==\"5050\"]\n",
    "dt[\"reward2\"] = dt.time*0.5+(dt.cost*(0.5/3))\n",
    "dt"
   ]
  },
  {
   "cell_type": "code",
   "execution_count": null,
   "metadata": {},
   "outputs": [],
   "source": []
  }
 ],
 "metadata": {
  "kernelspec": {
   "display_name": "DGLenv",
   "language": "python",
   "name": "python3"
  },
  "language_info": {
   "codemirror_mode": {
    "name": "ipython",
    "version": 3
   },
   "file_extension": ".py",
   "mimetype": "text/x-python",
   "name": "python",
   "nbconvert_exporter": "python",
   "pygments_lexer": "ipython3",
   "version": "3.9.7"
  },
  "orig_nbformat": 4,
  "vscode": {
   "interpreter": {
    "hash": "f9d4a005f9d9f9889b4816c359e838e2ccf93e76cd59d84c8bf07b8b75af7947"
   }
  }
 },
 "nbformat": 4,
 "nbformat_minor": 2
}
