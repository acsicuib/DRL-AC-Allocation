{
 "cells": [
  {
   "cell_type": "code",
   "execution_count": 190,
   "metadata": {},
   "outputs": [],
   "source": [
    "import pickle\n",
    "import pandas as pd\n",
    "import numpy as np\n",
    "import matplotlib.pyplot as plt\n",
    "import matplotlib as mpl\n",
    "from pylab import *\n",
    "from matplotlib import colors\n",
    "from matplotlib.colors import ListedColormap\n",
    "from argparse import Namespace\n",
    "from pymoo.indicators.hv import HV\n",
    "from pymoo.config import Config\n",
    "Config.warnings['not_compiled'] = False\n",
    "\n"
   ]
  },
  {
   "cell_type": "code",
   "execution_count": 191,
   "metadata": {},
   "outputs": [],
   "source": [
    "conf = !python  parameters.py"
   ]
  },
  {
   "cell_type": "code",
   "execution_count": 192,
   "metadata": {},
   "outputs": [
    {
     "data": {
      "text/plain": [
       "100"
      ]
     },
     "execution_count": 192,
     "metadata": {},
     "output_type": "execute_result"
    }
   ],
   "source": [
    "configs = eval(conf[0])\n",
    "configs.et_normalize_coef_cost"
   ]
  },
  {
   "cell_type": "code",
   "execution_count": 194,
   "metadata": {},
   "outputs": [],
   "source": [
    "## ESPECIFIC CONFIGS\n",
    "configs.name=\"E999_9\"\n",
    "configs.n_devices=999\n",
    "configs.n_jobs=9"
   ]
  },
  {
   "cell_type": "code",
   "execution_count": 195,
   "metadata": {},
   "outputs": [],
   "source": [
    "# df = pd.read_pickle('logs/log_rnd_alloc_'  + str(configs.name) + \"_\" + str(configs.n_jobs) + '_' + str(configs.n_devices)+'.pkl', 'infer')\n",
    "df = pd.read_pickle('logs/log_eval_PF_'  + str(configs.name) + \"_\" + str(configs.n_jobs) + '_' + str(configs.n_devices)+'.pkl', 'infer')\n",
    "df = pd.DataFrame(df)"
   ]
  },
  {
   "cell_type": "code",
   "execution_count": 196,
   "metadata": {},
   "outputs": [
    {
     "data": {
      "text/html": [
       "<div>\n",
       "<style scoped>\n",
       "    .dataframe tbody tr th:only-of-type {\n",
       "        vertical-align: middle;\n",
       "    }\n",
       "\n",
       "    .dataframe tbody tr th {\n",
       "        vertical-align: top;\n",
       "    }\n",
       "\n",
       "    .dataframe thead th {\n",
       "        text-align: right;\n",
       "    }\n",
       "</style>\n",
       "<table border=\"1\" class=\"dataframe\">\n",
       "  <thead>\n",
       "    <tr style=\"text-align: right;\">\n",
       "      <th></th>\n",
       "      <th>model</th>\n",
       "      <th>sample</th>\n",
       "      <th>time</th>\n",
       "      <th>cost</th>\n",
       "      <th>reward</th>\n",
       "      <th>iTime</th>\n",
       "      <th>iCost</th>\n",
       "    </tr>\n",
       "  </thead>\n",
       "  <tbody>\n",
       "    <tr>\n",
       "      <th>0</th>\n",
       "      <td>010</td>\n",
       "      <td>0</td>\n",
       "      <td>1025.00</td>\n",
       "      <td>725.0</td>\n",
       "      <td>-1321.666667</td>\n",
       "      <td>495.00</td>\n",
       "      <td>1620.0</td>\n",
       "    </tr>\n",
       "    <tr>\n",
       "      <th>1</th>\n",
       "      <td>010</td>\n",
       "      <td>1</td>\n",
       "      <td>1221.75</td>\n",
       "      <td>655.0</td>\n",
       "      <td>-1298.333333</td>\n",
       "      <td>396.75</td>\n",
       "      <td>1620.0</td>\n",
       "    </tr>\n",
       "    <tr>\n",
       "      <th>2</th>\n",
       "      <td>010</td>\n",
       "      <td>2</td>\n",
       "      <td>1096.25</td>\n",
       "      <td>720.0</td>\n",
       "      <td>-1320.000000</td>\n",
       "      <td>471.25</td>\n",
       "      <td>1620.0</td>\n",
       "    </tr>\n",
       "    <tr>\n",
       "      <th>3</th>\n",
       "      <td>010</td>\n",
       "      <td>3</td>\n",
       "      <td>1268.25</td>\n",
       "      <td>725.0</td>\n",
       "      <td>-1321.666667</td>\n",
       "      <td>363.25</td>\n",
       "      <td>1620.0</td>\n",
       "    </tr>\n",
       "    <tr>\n",
       "      <th>4</th>\n",
       "      <td>010</td>\n",
       "      <td>4</td>\n",
       "      <td>1212.50</td>\n",
       "      <td>630.0</td>\n",
       "      <td>-1290.000000</td>\n",
       "      <td>497.50</td>\n",
       "      <td>1620.0</td>\n",
       "    </tr>\n",
       "  </tbody>\n",
       "</table>\n",
       "</div>"
      ],
      "text/plain": [
       "  model  sample     time   cost       reward   iTime   iCost\n",
       "0   010       0  1025.00  725.0 -1321.666667  495.00  1620.0\n",
       "1   010       1  1221.75  655.0 -1298.333333  396.75  1620.0\n",
       "2   010       2  1096.25  720.0 -1320.000000  471.25  1620.0\n",
       "3   010       3  1268.25  725.0 -1321.666667  363.25  1620.0\n",
       "4   010       4  1212.50  630.0 -1290.000000  497.50  1620.0"
      ]
     },
     "execution_count": 196,
     "metadata": {},
     "output_type": "execute_result"
    }
   ],
   "source": [
    "\n",
    "df.columns = [\"model\",\"sample\",\"time\",\"cost\",\"reward\",\"iTime\",\"iCost\"]\n",
    "df.head()"
   ]
  },
  {
   "attachments": {},
   "cell_type": "markdown",
   "metadata": {},
   "source": [
    "# DRL - average all samples (NOT VALID)"
   ]
  },
  {
   "cell_type": "code",
   "execution_count": 197,
   "metadata": {},
   "outputs": [
    {
     "data": {
      "text/html": [
       "<div>\n",
       "<style scoped>\n",
       "    .dataframe tbody tr th:only-of-type {\n",
       "        vertical-align: middle;\n",
       "    }\n",
       "\n",
       "    .dataframe tbody tr th {\n",
       "        vertical-align: top;\n",
       "    }\n",
       "\n",
       "    .dataframe thead th {\n",
       "        text-align: right;\n",
       "    }\n",
       "</style>\n",
       "<table border=\"1\" class=\"dataframe\">\n",
       "  <thead>\n",
       "    <tr style=\"text-align: right;\">\n",
       "      <th></th>\n",
       "      <th>time</th>\n",
       "      <th>cost</th>\n",
       "    </tr>\n",
       "    <tr>\n",
       "      <th>model</th>\n",
       "      <th></th>\n",
       "      <th></th>\n",
       "    </tr>\n",
       "  </thead>\n",
       "  <tbody>\n",
       "    <tr>\n",
       "      <th>010</th>\n",
       "      <td>1159.344971</td>\n",
       "      <td>703.000000</td>\n",
       "    </tr>\n",
       "    <tr>\n",
       "      <th>100</th>\n",
       "      <td>2276.645020</td>\n",
       "      <td>1628.699951</td>\n",
       "    </tr>\n",
       "    <tr>\n",
       "      <th>19</th>\n",
       "      <td>991.244995</td>\n",
       "      <td>604.000000</td>\n",
       "    </tr>\n",
       "    <tr>\n",
       "      <th>28</th>\n",
       "      <td>714.945007</td>\n",
       "      <td>410.399994</td>\n",
       "    </tr>\n",
       "    <tr>\n",
       "      <th>37</th>\n",
       "      <td>749.044983</td>\n",
       "      <td>603.299988</td>\n",
       "    </tr>\n",
       "    <tr>\n",
       "      <th>46</th>\n",
       "      <td>730.445007</td>\n",
       "      <td>534.400024</td>\n",
       "    </tr>\n",
       "    <tr>\n",
       "      <th>55</th>\n",
       "      <td>735.544983</td>\n",
       "      <td>575.099976</td>\n",
       "    </tr>\n",
       "    <tr>\n",
       "      <th>64</th>\n",
       "      <td>841.844971</td>\n",
       "      <td>664.799988</td>\n",
       "    </tr>\n",
       "    <tr>\n",
       "      <th>73</th>\n",
       "      <td>726.445007</td>\n",
       "      <td>664.299988</td>\n",
       "    </tr>\n",
       "    <tr>\n",
       "      <th>82</th>\n",
       "      <td>733.044983</td>\n",
       "      <td>1515.800049</td>\n",
       "    </tr>\n",
       "    <tr>\n",
       "      <th>91</th>\n",
       "      <td>730.744995</td>\n",
       "      <td>1360.300049</td>\n",
       "    </tr>\n",
       "  </tbody>\n",
       "</table>\n",
       "</div>"
      ],
      "text/plain": [
       "              time         cost\n",
       "model                          \n",
       "010    1159.344971   703.000000\n",
       "100    2276.645020  1628.699951\n",
       "19      991.244995   604.000000\n",
       "28      714.945007   410.399994\n",
       "37      749.044983   603.299988\n",
       "46      730.445007   534.400024\n",
       "55      735.544983   575.099976\n",
       "64      841.844971   664.799988\n",
       "73      726.445007   664.299988\n",
       "82      733.044983  1515.800049\n",
       "91      730.744995  1360.300049"
      ]
     },
     "execution_count": 197,
     "metadata": {},
     "output_type": "execute_result"
    }
   ],
   "source": [
    "dfmodel = df.groupby(\"model\").agg({\"time\":mean,\"cost\":mean})\n",
    "dfmodel"
   ]
  },
  {
   "cell_type": "code",
   "execution_count": 198,
   "metadata": {},
   "outputs": [
    {
     "name": "stdout",
     "output_type": "stream",
     "text": [
      "<class 'pandas.core.frame.DataFrame'>\n"
     ]
    }
   ],
   "source": [
    "print(type(dfmodel))\n"
   ]
  },
  {
   "cell_type": "code",
   "execution_count": 199,
   "metadata": {},
   "outputs": [
    {
     "name": "stdout",
     "output_type": "stream",
     "text": [
      "010\n",
      "1159.345\n",
      "100\n",
      "2276.645\n",
      "19\n",
      "991.245\n",
      "28\n",
      "714.945\n",
      "37\n",
      "749.045\n",
      "46\n",
      "730.445\n",
      "55\n",
      "735.545\n",
      "64\n",
      "841.845\n",
      "73\n",
      "726.445\n",
      "82\n",
      "733.045\n",
      "91\n",
      "730.745\n"
     ]
    }
   ],
   "source": [
    "for i in range(len(dfmodel)):\n",
    "    print(dfmodel.iloc[i].name)\n",
    "    print(dfmodel.iloc[i].time)\n",
    "    "
   ]
  },
  {
   "cell_type": "code",
   "execution_count": 200,
   "metadata": {},
   "outputs": [],
   "source": [
    "def getWeithDecomposition(val):\n",
    "    if len(val)==3:\n",
    "        if val[0]==0:\n",
    "            return \"(0,1)\"\n",
    "        else:\n",
    "            return \"(1,0)\"\n",
    "    else:\n",
    "        return \"(%s,%s)\"%(val[0],val[1])\n",
    "    "
   ]
  },
  {
   "cell_type": "code",
   "execution_count": 202,
   "metadata": {},
   "outputs": [
    {
     "data": {
      "image/png": "[encoded data removed]",
      "text/plain": [
       "<Figure size 800x400 with 1 Axes>"
      ]
     },
     "metadata": {},
     "output_type": "display_data"
    }
   ],
   "source": [
    "fig, ax = plt.subplots(figsize=(8,4))\n",
    "\n",
    "ax.scatter(dfmodel.time, dfmodel.cost, s=30, facecolors='none', edgecolors='blue')\n",
    "\n",
    "\n",
    "for i in range(len(dfmodel)):\n",
    "    ax.annotate(getWeithDecomposition(dfmodel.iloc[i].name), (dfmodel.iloc[i].time, dfmodel.iloc[i].cost))\n",
    "\n",
    "plt.title(\"Objective Space. Case code: %s\"%configs.name)\n",
    "plt.xlabel(\"Time\", fontsize=14)\n",
    "plt.ylabel(\"Cost\", fontsize=14)\n",
    "# plt.savefig(\"images/pf_nsgaII-0.pdf\",dpi=300,bbox_inches = 'tight')\n",
    "plt.show()"
   ]
  },
  {
   "cell_type": "code",
   "execution_count": 203,
   "metadata": {},
   "outputs": [
    {
     "data": {
      "text/plain": [
       "(11, 2)"
      ]
     },
     "execution_count": 203,
     "metadata": {},
     "output_type": "execute_result"
    }
   ],
   "source": [
    "avg_pf = np.vstack((dfmodel.time.values,dfmodel.cost.values)).T\n",
    "avg_pf.shape"
   ]
  },
  {
   "cell_type": "code",
   "execution_count": 204,
   "metadata": {},
   "outputs": [
    {
     "data": {
      "text/plain": [
       "array([[1159.345,  703.   ],\n",
       "       [2276.645, 1628.7  ],\n",
       "       [ 991.245,  604.   ],\n",
       "       [ 714.945,  410.4  ],\n",
       "       [ 749.045,  603.3  ],\n",
       "       [ 730.445,  534.4  ],\n",
       "       [ 735.545,  575.1  ],\n",
       "       [ 841.845,  664.8  ],\n",
       "       [ 726.445,  664.3  ],\n",
       "       [ 733.045, 1515.8  ],\n",
       "       [ 730.745, 1360.3  ]], dtype=float32)"
      ]
     },
     "execution_count": 204,
     "metadata": {},
     "output_type": "execute_result"
    }
   ],
   "source": [
    "avg_pf"
   ]
  },
  {
   "cell_type": "code",
   "execution_count": 205,
   "metadata": {},
   "outputs": [
    {
     "name": "stdout",
     "output_type": "stream",
     "text": [
      "HV 0.0\n"
     ]
    }
   ],
   "source": [
    "ref_point = np.array([500., 900.])\n",
    "ind = HV(ref_point=ref_point)\n",
    "print(\"HV\", ind(avg_pf)) "
   ]
  },
  {
   "attachments": {},
   "cell_type": "markdown",
   "metadata": {},
   "source": [
    "# DRL one sample"
   ]
  },
  {
   "cell_type": "code",
   "execution_count": 206,
   "metadata": {},
   "outputs": [
    {
     "data": {
      "text/html": [
       "<div>\n",
       "<style scoped>\n",
       "    .dataframe tbody tr th:only-of-type {\n",
       "        vertical-align: middle;\n",
       "    }\n",
       "\n",
       "    .dataframe tbody tr th {\n",
       "        vertical-align: top;\n",
       "    }\n",
       "\n",
       "    .dataframe thead th {\n",
       "        text-align: right;\n",
       "    }\n",
       "</style>\n",
       "<table border=\"1\" class=\"dataframe\">\n",
       "  <thead>\n",
       "    <tr style=\"text-align: right;\">\n",
       "      <th></th>\n",
       "      <th>model</th>\n",
       "      <th>case</th>\n",
       "      <th>time</th>\n",
       "      <th>cost</th>\n",
       "      <th>reward</th>\n",
       "      <th>iTime</th>\n",
       "      <th>iCost</th>\n",
       "    </tr>\n",
       "  </thead>\n",
       "  <tbody>\n",
       "    <tr>\n",
       "      <th>0</th>\n",
       "      <td>010</td>\n",
       "      <td>0</td>\n",
       "      <td>1025.00</td>\n",
       "      <td>725.0</td>\n",
       "      <td>-1321.666667</td>\n",
       "      <td>495.00</td>\n",
       "      <td>1620.0</td>\n",
       "    </tr>\n",
       "    <tr>\n",
       "      <th>1</th>\n",
       "      <td>010</td>\n",
       "      <td>1</td>\n",
       "      <td>1221.75</td>\n",
       "      <td>655.0</td>\n",
       "      <td>-1298.333333</td>\n",
       "      <td>396.75</td>\n",
       "      <td>1620.0</td>\n",
       "    </tr>\n",
       "    <tr>\n",
       "      <th>2</th>\n",
       "      <td>010</td>\n",
       "      <td>2</td>\n",
       "      <td>1096.25</td>\n",
       "      <td>720.0</td>\n",
       "      <td>-1320.000000</td>\n",
       "      <td>471.25</td>\n",
       "      <td>1620.0</td>\n",
       "    </tr>\n",
       "    <tr>\n",
       "      <th>3</th>\n",
       "      <td>010</td>\n",
       "      <td>3</td>\n",
       "      <td>1268.25</td>\n",
       "      <td>725.0</td>\n",
       "      <td>-1321.666667</td>\n",
       "      <td>363.25</td>\n",
       "      <td>1620.0</td>\n",
       "    </tr>\n",
       "    <tr>\n",
       "      <th>4</th>\n",
       "      <td>010</td>\n",
       "      <td>4</td>\n",
       "      <td>1212.50</td>\n",
       "      <td>630.0</td>\n",
       "      <td>-1290.000000</td>\n",
       "      <td>497.50</td>\n",
       "      <td>1620.0</td>\n",
       "    </tr>\n",
       "  </tbody>\n",
       "</table>\n",
       "</div>"
      ],
      "text/plain": [
       "  model  case     time   cost       reward   iTime   iCost\n",
       "0   010     0  1025.00  725.0 -1321.666667  495.00  1620.0\n",
       "1   010     1  1221.75  655.0 -1298.333333  396.75  1620.0\n",
       "2   010     2  1096.25  720.0 -1320.000000  471.25  1620.0\n",
       "3   010     3  1268.25  725.0 -1321.666667  363.25  1620.0\n",
       "4   010     4  1212.50  630.0 -1290.000000  497.50  1620.0"
      ]
     },
     "execution_count": 206,
     "metadata": {},
     "output_type": "execute_result"
    }
   ],
   "source": [
    "# df = pd.read_pickle('logs/log_rnd_alloc_'  + str(configs.name) + \"_\" + str(configs.n_jobs) + '_' + str(configs.n_devices)+'.pkl', 'infer')\n",
    "df = pd.read_pickle('logs/log_eval_PF_'  + str(configs.name) + \"_\" + str(configs.n_jobs) + '_' + str(configs.n_devices)+'.pkl', 'infer')\n",
    "df = pd.DataFrame(df)\n",
    "df.columns = [\"model\",\"case\",\"time\",\"cost\",\"reward\",\"iTime\",\"iCost\"]\n",
    "df.head()\n"
   ]
  },
  {
   "cell_type": "code",
   "execution_count": 207,
   "metadata": {},
   "outputs": [
    {
     "data": {
      "text/html": [
       "<div>\n",
       "<style scoped>\n",
       "    .dataframe tbody tr th:only-of-type {\n",
       "        vertical-align: middle;\n",
       "    }\n",
       "\n",
       "    .dataframe tbody tr th {\n",
       "        vertical-align: top;\n",
       "    }\n",
       "\n",
       "    .dataframe thead th {\n",
       "        text-align: right;\n",
       "    }\n",
       "</style>\n",
       "<table border=\"1\" class=\"dataframe\">\n",
       "  <thead>\n",
       "    <tr style=\"text-align: right;\">\n",
       "      <th></th>\n",
       "      <th>model</th>\n",
       "      <th>case</th>\n",
       "      <th>time</th>\n",
       "      <th>cost</th>\n",
       "      <th>reward</th>\n",
       "      <th>iTime</th>\n",
       "      <th>iCost</th>\n",
       "    </tr>\n",
       "  </thead>\n",
       "  <tbody>\n",
       "    <tr>\n",
       "      <th>0</th>\n",
       "      <td>010</td>\n",
       "      <td>0</td>\n",
       "      <td>1025.0</td>\n",
       "      <td>725.0</td>\n",
       "      <td>-1321.666667</td>\n",
       "      <td>495.0</td>\n",
       "      <td>1620.0</td>\n",
       "    </tr>\n",
       "    <tr>\n",
       "      <th>50</th>\n",
       "      <td>19</td>\n",
       "      <td>0</td>\n",
       "      <td>1075.0</td>\n",
       "      <td>695.0</td>\n",
       "      <td>-1288.000000</td>\n",
       "      <td>495.0</td>\n",
       "      <td>1620.0</td>\n",
       "    </tr>\n",
       "    <tr>\n",
       "      <th>100</th>\n",
       "      <td>28</td>\n",
       "      <td>0</td>\n",
       "      <td>700.0</td>\n",
       "      <td>405.0</td>\n",
       "      <td>-1112.000000</td>\n",
       "      <td>495.0</td>\n",
       "      <td>1620.0</td>\n",
       "    </tr>\n",
       "    <tr>\n",
       "      <th>150</th>\n",
       "      <td>37</td>\n",
       "      <td>0</td>\n",
       "      <td>735.0</td>\n",
       "      <td>710.0</td>\n",
       "      <td>-1142.166667</td>\n",
       "      <td>495.0</td>\n",
       "      <td>1620.0</td>\n",
       "    </tr>\n",
       "    <tr>\n",
       "      <th>200</th>\n",
       "      <td>46</td>\n",
       "      <td>0</td>\n",
       "      <td>720.0</td>\n",
       "      <td>570.0</td>\n",
       "      <td>-1050.000000</td>\n",
       "      <td>495.0</td>\n",
       "      <td>1620.0</td>\n",
       "    </tr>\n",
       "    <tr>\n",
       "      <th>250</th>\n",
       "      <td>55</td>\n",
       "      <td>0</td>\n",
       "      <td>720.0</td>\n",
       "      <td>630.0</td>\n",
       "      <td>-1005.000000</td>\n",
       "      <td>495.0</td>\n",
       "      <td>1620.0</td>\n",
       "    </tr>\n",
       "    <tr>\n",
       "      <th>300</th>\n",
       "      <td>64</td>\n",
       "      <td>0</td>\n",
       "      <td>950.0</td>\n",
       "      <td>725.0</td>\n",
       "      <td>-1098.666667</td>\n",
       "      <td>495.0</td>\n",
       "      <td>1620.0</td>\n",
       "    </tr>\n",
       "    <tr>\n",
       "      <th>350</th>\n",
       "      <td>73</td>\n",
       "      <td>0</td>\n",
       "      <td>730.0</td>\n",
       "      <td>680.0</td>\n",
       "      <td>-903.000000</td>\n",
       "      <td>495.0</td>\n",
       "      <td>1620.0</td>\n",
       "    </tr>\n",
       "    <tr>\n",
       "      <th>400</th>\n",
       "      <td>82</td>\n",
       "      <td>0</td>\n",
       "      <td>725.0</td>\n",
       "      <td>1405.0</td>\n",
       "      <td>-889.666667</td>\n",
       "      <td>495.0</td>\n",
       "      <td>1620.0</td>\n",
       "    </tr>\n",
       "    <tr>\n",
       "      <th>450</th>\n",
       "      <td>91</td>\n",
       "      <td>0</td>\n",
       "      <td>730.0</td>\n",
       "      <td>1125.0</td>\n",
       "      <td>-802.500000</td>\n",
       "      <td>495.0</td>\n",
       "      <td>1620.0</td>\n",
       "    </tr>\n",
       "    <tr>\n",
       "      <th>500</th>\n",
       "      <td>100</td>\n",
       "      <td>0</td>\n",
       "      <td>2285.0</td>\n",
       "      <td>1575.0</td>\n",
       "      <td>-2285.000000</td>\n",
       "      <td>495.0</td>\n",
       "      <td>1620.0</td>\n",
       "    </tr>\n",
       "  </tbody>\n",
       "</table>\n",
       "</div>"
      ],
      "text/plain": [
       "    model  case    time    cost       reward  iTime   iCost\n",
       "0     010     0  1025.0   725.0 -1321.666667  495.0  1620.0\n",
       "50     19     0  1075.0   695.0 -1288.000000  495.0  1620.0\n",
       "100    28     0   700.0   405.0 -1112.000000  495.0  1620.0\n",
       "150    37     0   735.0   710.0 -1142.166667  495.0  1620.0\n",
       "200    46     0   720.0   570.0 -1050.000000  495.0  1620.0\n",
       "250    55     0   720.0   630.0 -1005.000000  495.0  1620.0\n",
       "300    64     0   950.0   725.0 -1098.666667  495.0  1620.0\n",
       "350    73     0   730.0   680.0  -903.000000  495.0  1620.0\n",
       "400    82     0   725.0  1405.0  -889.666667  495.0  1620.0\n",
       "450    91     0   730.0  1125.0  -802.500000  495.0  1620.0\n",
       "500   100     0  2285.0  1575.0 -2285.000000  495.0  1620.0"
      ]
     },
     "execution_count": 207,
     "metadata": {},
     "output_type": "execute_result"
    }
   ],
   "source": [
    "dfDRL = df[df.case==0]\n",
    "dfDRL"
   ]
  },
  {
   "cell_type": "code",
   "execution_count": 208,
   "metadata": {},
   "outputs": [],
   "source": [
    "avg_pf = np.vstack((dfDRL.time.values,dfDRL.cost.values)).T"
   ]
  },
  {
   "cell_type": "code",
   "execution_count": 209,
   "metadata": {},
   "outputs": [
    {
     "data": {
      "image/png": "[encoded data removed]",
      "text/plain": [
       "<Figure size 800x400 with 1 Axes>"
      ]
     },
     "metadata": {},
     "output_type": "display_data"
    }
   ],
   "source": [
    "fig, ax = plt.subplots(figsize=(8,4))\n",
    "\n",
    "ax.scatter(avg_pf[:,0], avg_pf[:,1], s=30, facecolors='none', edgecolors='blue')\n",
    "\n",
    "\n",
    "for i in range(len(dfmodel)):\n",
    "    ax.annotate(getWeithDecomposition(dfDRL.iloc[i].model), (avg_pf[i,0], avg_pf[i,1]))\n",
    "\n",
    "plt.title(\"Objective Space. Case code: %s\"%configs.name)\n",
    "plt.xlabel(\"Time\", fontsize=14)\n",
    "plt.ylabel(\"Cost\", fontsize=14)\n",
    "# plt.savefig(\"images/pf_nsgaII-0.pdf\",dpi=300,bbox_inches = 'tight')\n",
    "plt.show()"
   ]
  },
  {
   "cell_type": "code",
   "execution_count": null,
   "metadata": {},
   "outputs": [],
   "source": []
  },
  {
   "attachments": {},
   "cell_type": "markdown",
   "metadata": {},
   "source": [
    "# GA"
   ]
  },
  {
   "cell_type": "code",
   "execution_count": 215,
   "metadata": {},
   "outputs": [],
   "source": [
    "# df = pd.read_pickle('logs/log_rnd_alloc_'  + str(configs.name) + \"_\" + str(configs.n_jobs) + '_' + str(configs.n_devices)+'.pkl', 'infer')\n",
    "\n",
    "df = pd.read_pickle('logs/log_ga_pf_'  + str(configs.name) + \"_\" + str(configs.n_jobs) + '_' + str(configs.n_devices)+'_0.pkl', 'infer')\n",
    "# df = pd.read_pickle('logs/log_ga_pf_'  + str(configs.name) + \"_\" + str(configs.n_jobs) + '_' + str(configs.n_devices)+'.pkl', 'infer')\n",
    "df = pd.DataFrame(df)\n",
    "\n"
   ]
  },
  {
   "cell_type": "code",
   "execution_count": 216,
   "metadata": {},
   "outputs": [
    {
     "data": {
      "text/html": [
       "<div>\n",
       "<style scoped>\n",
       "    .dataframe tbody tr th:only-of-type {\n",
       "        vertical-align: middle;\n",
       "    }\n",
       "\n",
       "    .dataframe tbody tr th {\n",
       "        vertical-align: top;\n",
       "    }\n",
       "\n",
       "    .dataframe thead th {\n",
       "        text-align: right;\n",
       "    }\n",
       "</style>\n",
       "<table border=\"1\" class=\"dataframe\">\n",
       "  <thead>\n",
       "    <tr style=\"text-align: right;\">\n",
       "      <th></th>\n",
       "      <th>case</th>\n",
       "      <th>time</th>\n",
       "      <th>cost</th>\n",
       "      <th>executionTime</th>\n",
       "    </tr>\n",
       "  </thead>\n",
       "  <tbody>\n",
       "    <tr>\n",
       "      <th>0</th>\n",
       "      <td>0</td>\n",
       "      <td>1145.0</td>\n",
       "      <td>720.0</td>\n",
       "      <td>2023.254134</td>\n",
       "    </tr>\n",
       "    <tr>\n",
       "      <th>1</th>\n",
       "      <td>0</td>\n",
       "      <td>930.0</td>\n",
       "      <td>875.0</td>\n",
       "      <td>2023.254134</td>\n",
       "    </tr>\n",
       "    <tr>\n",
       "      <th>2</th>\n",
       "      <td>0</td>\n",
       "      <td>960.0</td>\n",
       "      <td>845.0</td>\n",
       "      <td>2023.254134</td>\n",
       "    </tr>\n",
       "    <tr>\n",
       "      <th>3</th>\n",
       "      <td>0</td>\n",
       "      <td>1045.0</td>\n",
       "      <td>755.0</td>\n",
       "      <td>2023.254134</td>\n",
       "    </tr>\n",
       "    <tr>\n",
       "      <th>4</th>\n",
       "      <td>0</td>\n",
       "      <td>1165.0</td>\n",
       "      <td>705.0</td>\n",
       "      <td>2023.254134</td>\n",
       "    </tr>\n",
       "  </tbody>\n",
       "</table>\n",
       "</div>"
      ],
      "text/plain": [
       "   case    time   cost  executionTime\n",
       "0     0  1145.0  720.0    2023.254134\n",
       "1     0   930.0  875.0    2023.254134\n",
       "2     0   960.0  845.0    2023.254134\n",
       "3     0  1045.0  755.0    2023.254134\n",
       "4     0  1165.0  705.0    2023.254134"
      ]
     },
     "execution_count": 216,
     "metadata": {},
     "output_type": "execute_result"
    }
   ],
   "source": [
    "df.columns = [\"case\",\"time\",\"cost\",\"executionTime\"]\n",
    "df.head()"
   ]
  },
  {
   "cell_type": "code",
   "execution_count": 217,
   "metadata": {},
   "outputs": [
    {
     "data": {
      "text/html": [
       "<div>\n",
       "<style scoped>\n",
       "    .dataframe tbody tr th:only-of-type {\n",
       "        vertical-align: middle;\n",
       "    }\n",
       "\n",
       "    .dataframe tbody tr th {\n",
       "        vertical-align: top;\n",
       "    }\n",
       "\n",
       "    .dataframe thead th {\n",
       "        text-align: right;\n",
       "    }\n",
       "</style>\n",
       "<table border=\"1\" class=\"dataframe\">\n",
       "  <thead>\n",
       "    <tr style=\"text-align: right;\">\n",
       "      <th></th>\n",
       "      <th>case</th>\n",
       "      <th>time</th>\n",
       "      <th>cost</th>\n",
       "      <th>executionTime</th>\n",
       "    </tr>\n",
       "  </thead>\n",
       "  <tbody>\n",
       "    <tr>\n",
       "      <th>0</th>\n",
       "      <td>0</td>\n",
       "      <td>1145.0</td>\n",
       "      <td>720.0</td>\n",
       "      <td>2023.254134</td>\n",
       "    </tr>\n",
       "    <tr>\n",
       "      <th>1</th>\n",
       "      <td>0</td>\n",
       "      <td>930.0</td>\n",
       "      <td>875.0</td>\n",
       "      <td>2023.254134</td>\n",
       "    </tr>\n",
       "    <tr>\n",
       "      <th>2</th>\n",
       "      <td>0</td>\n",
       "      <td>960.0</td>\n",
       "      <td>845.0</td>\n",
       "      <td>2023.254134</td>\n",
       "    </tr>\n",
       "    <tr>\n",
       "      <th>3</th>\n",
       "      <td>0</td>\n",
       "      <td>1045.0</td>\n",
       "      <td>755.0</td>\n",
       "      <td>2023.254134</td>\n",
       "    </tr>\n",
       "    <tr>\n",
       "      <th>4</th>\n",
       "      <td>0</td>\n",
       "      <td>1165.0</td>\n",
       "      <td>705.0</td>\n",
       "      <td>2023.254134</td>\n",
       "    </tr>\n",
       "    <tr>\n",
       "      <th>5</th>\n",
       "      <td>0</td>\n",
       "      <td>915.0</td>\n",
       "      <td>900.0</td>\n",
       "      <td>2023.254134</td>\n",
       "    </tr>\n",
       "    <tr>\n",
       "      <th>6</th>\n",
       "      <td>0</td>\n",
       "      <td>1005.0</td>\n",
       "      <td>790.0</td>\n",
       "      <td>2023.254134</td>\n",
       "    </tr>\n",
       "    <tr>\n",
       "      <th>7</th>\n",
       "      <td>0</td>\n",
       "      <td>1000.0</td>\n",
       "      <td>800.0</td>\n",
       "      <td>2023.254134</td>\n",
       "    </tr>\n",
       "    <tr>\n",
       "      <th>8</th>\n",
       "      <td>0</td>\n",
       "      <td>1110.0</td>\n",
       "      <td>730.0</td>\n",
       "      <td>2023.254134</td>\n",
       "    </tr>\n",
       "    <tr>\n",
       "      <th>9</th>\n",
       "      <td>0</td>\n",
       "      <td>1115.0</td>\n",
       "      <td>725.0</td>\n",
       "      <td>2023.254134</td>\n",
       "    </tr>\n",
       "    <tr>\n",
       "      <th>10</th>\n",
       "      <td>0</td>\n",
       "      <td>945.0</td>\n",
       "      <td>850.0</td>\n",
       "      <td>2023.254134</td>\n",
       "    </tr>\n",
       "    <tr>\n",
       "      <th>11</th>\n",
       "      <td>0</td>\n",
       "      <td>1060.0</td>\n",
       "      <td>740.0</td>\n",
       "      <td>2023.254134</td>\n",
       "    </tr>\n",
       "    <tr>\n",
       "      <th>12</th>\n",
       "      <td>0</td>\n",
       "      <td>1215.0</td>\n",
       "      <td>690.0</td>\n",
       "      <td>2023.254134</td>\n",
       "    </tr>\n",
       "    <tr>\n",
       "      <th>13</th>\n",
       "      <td>0</td>\n",
       "      <td>1015.0</td>\n",
       "      <td>780.0</td>\n",
       "      <td>2023.254134</td>\n",
       "    </tr>\n",
       "    <tr>\n",
       "      <th>14</th>\n",
       "      <td>0</td>\n",
       "      <td>1275.0</td>\n",
       "      <td>665.0</td>\n",
       "      <td>2023.254134</td>\n",
       "    </tr>\n",
       "    <tr>\n",
       "      <th>15</th>\n",
       "      <td>0</td>\n",
       "      <td>965.0</td>\n",
       "      <td>820.0</td>\n",
       "      <td>2023.254134</td>\n",
       "    </tr>\n",
       "    <tr>\n",
       "      <th>16</th>\n",
       "      <td>0</td>\n",
       "      <td>1030.0</td>\n",
       "      <td>760.0</td>\n",
       "      <td>2023.254134</td>\n",
       "    </tr>\n",
       "    <tr>\n",
       "      <th>17</th>\n",
       "      <td>0</td>\n",
       "      <td>1200.0</td>\n",
       "      <td>695.0</td>\n",
       "      <td>2023.254134</td>\n",
       "    </tr>\n",
       "    <tr>\n",
       "      <th>18</th>\n",
       "      <td>0</td>\n",
       "      <td>1150.0</td>\n",
       "      <td>715.0</td>\n",
       "      <td>2023.254134</td>\n",
       "    </tr>\n",
       "    <tr>\n",
       "      <th>19</th>\n",
       "      <td>0</td>\n",
       "      <td>1250.0</td>\n",
       "      <td>680.0</td>\n",
       "      <td>2023.254134</td>\n",
       "    </tr>\n",
       "    <tr>\n",
       "      <th>20</th>\n",
       "      <td>0</td>\n",
       "      <td>1110.0</td>\n",
       "      <td>730.0</td>\n",
       "      <td>2023.254134</td>\n",
       "    </tr>\n",
       "    <tr>\n",
       "      <th>21</th>\n",
       "      <td>0</td>\n",
       "      <td>1085.0</td>\n",
       "      <td>735.0</td>\n",
       "      <td>2023.254134</td>\n",
       "    </tr>\n",
       "    <tr>\n",
       "      <th>22</th>\n",
       "      <td>0</td>\n",
       "      <td>995.0</td>\n",
       "      <td>815.0</td>\n",
       "      <td>2023.254134</td>\n",
       "    </tr>\n",
       "  </tbody>\n",
       "</table>\n",
       "</div>"
      ],
      "text/plain": [
       "    case    time   cost  executionTime\n",
       "0      0  1145.0  720.0    2023.254134\n",
       "1      0   930.0  875.0    2023.254134\n",
       "2      0   960.0  845.0    2023.254134\n",
       "3      0  1045.0  755.0    2023.254134\n",
       "4      0  1165.0  705.0    2023.254134\n",
       "5      0   915.0  900.0    2023.254134\n",
       "6      0  1005.0  790.0    2023.254134\n",
       "7      0  1000.0  800.0    2023.254134\n",
       "8      0  1110.0  730.0    2023.254134\n",
       "9      0  1115.0  725.0    2023.254134\n",
       "10     0   945.0  850.0    2023.254134\n",
       "11     0  1060.0  740.0    2023.254134\n",
       "12     0  1215.0  690.0    2023.254134\n",
       "13     0  1015.0  780.0    2023.254134\n",
       "14     0  1275.0  665.0    2023.254134\n",
       "15     0   965.0  820.0    2023.254134\n",
       "16     0  1030.0  760.0    2023.254134\n",
       "17     0  1200.0  695.0    2023.254134\n",
       "18     0  1150.0  715.0    2023.254134\n",
       "19     0  1250.0  680.0    2023.254134\n",
       "20     0  1110.0  730.0    2023.254134\n",
       "21     0  1085.0  735.0    2023.254134\n",
       "22     0   995.0  815.0    2023.254134"
      ]
     },
     "execution_count": 217,
     "metadata": {},
     "output_type": "execute_result"
    }
   ],
   "source": [
    "dfga = df[df.case==0]\n",
    "dfga"
   ]
  },
  {
   "cell_type": "code",
   "execution_count": 218,
   "metadata": {},
   "outputs": [
    {
     "data": {
      "image/png": "[encoded data removed]",
      "text/plain": [
       "<Figure size 800x400 with 1 Axes>"
      ]
     },
     "metadata": {},
     "output_type": "display_data"
    }
   ],
   "source": [
    "fig, ax = plt.subplots(figsize=(8,4))\n",
    "ax.scatter(dfga.time, dfga.cost, s=30, facecolors='none', edgecolors='blue')\n",
    "plt.title(\"Objective Space. Case code: %s\"%configs.name)\n",
    "plt.xlabel(\"Time\", fontsize=14)\n",
    "plt.ylabel(\"Cost\", fontsize=14)\n",
    "# plt.savefig(\"images/pf_nsgaII-0.pdf\",dpi=300,bbox_inches = 'tight')\n",
    "plt.show()"
   ]
  },
  {
   "attachments": {},
   "cell_type": "markdown",
   "metadata": {},
   "source": [
    "# GA + DRL"
   ]
  },
  {
   "cell_type": "code",
   "execution_count": 219,
   "metadata": {},
   "outputs": [
    {
     "data": {
      "image/png": "[encoded data removed]",
      "text/plain": [
       "<Figure size 800x400 with 1 Axes>"
      ]
     },
     "metadata": {},
     "output_type": "display_data"
    }
   ],
   "source": [
    "fig, ax = plt.subplots(figsize=(8,4))\n",
    "ax.scatter(dfga.time, dfga.cost, s=30, facecolors='none', edgecolors='blue',label=\"NSGA\")\n",
    "\n",
    "ax.scatter(avg_pf[:,0], avg_pf[:,1], s=40, facecolors='none', edgecolors='red',label=\"DRL\")\n",
    "\n",
    "plt.title(\"Objective Space. Case code: %s\"%configs.name)\n",
    "plt.xlabel(\"Time\", fontsize=14)\n",
    "plt.ylabel(\"Cost\", fontsize=14)\n",
    "plt.legend()\n",
    "# plt.savefig(\"images/pf_nsgaII-0.pdf\",dpi=300,bbox_inches = 'tight')\n",
    "plt.show()"
   ]
  },
  {
   "cell_type": "code",
   "execution_count": 116,
   "metadata": {},
   "outputs": [],
   "source": [
    "ga_pf = np.vstack((dfga.time.values,dfga.cost.values)).T"
   ]
  },
  {
   "cell_type": "code",
   "execution_count": 117,
   "metadata": {},
   "outputs": [
    {
     "name": "stdout",
     "output_type": "stream",
     "text": [
      "H - GA  133672.0859375\n"
     ]
    }
   ],
   "source": [
    "ref_point = np.array([900., 900.])\n",
    "ind = HV(ref_point=ref_point)\n",
    "print(\"H - GA \", ind(ga_pf)) "
   ]
  },
  {
   "cell_type": "code",
   "execution_count": 119,
   "metadata": {},
   "outputs": [
    {
     "name": "stdout",
     "output_type": "stream",
     "text": [
      "H - DRL  601077.7541656494\n"
     ]
    }
   ],
   "source": [
    "print(\"H - DRL \", ind(avg_pf)) "
   ]
  },
  {
   "attachments": {},
   "cell_type": "markdown",
   "metadata": {},
   "source": [
    "### Violin plot del PF según pesos del modelo DRL"
   ]
  },
  {
   "cell_type": "code",
   "execution_count": 134,
   "metadata": {},
   "outputs": [
    {
     "data": {
      "text/html": [
       "<div>\n",
       "<style scoped>\n",
       "    .dataframe tbody tr th:only-of-type {\n",
       "        vertical-align: middle;\n",
       "    }\n",
       "\n",
       "    .dataframe tbody tr th {\n",
       "        vertical-align: top;\n",
       "    }\n",
       "\n",
       "    .dataframe thead th {\n",
       "        text-align: right;\n",
       "    }\n",
       "</style>\n",
       "<table border=\"1\" class=\"dataframe\">\n",
       "  <thead>\n",
       "    <tr style=\"text-align: right;\">\n",
       "      <th></th>\n",
       "      <th>model</th>\n",
       "      <th>time</th>\n",
       "      <th>cost</th>\n",
       "      <th>case</th>\n",
       "    </tr>\n",
       "  </thead>\n",
       "  <tbody>\n",
       "    <tr>\n",
       "      <th>0</th>\n",
       "      <td>010</td>\n",
       "      <td>166.083328</td>\n",
       "      <td>81.0</td>\n",
       "      <td>0</td>\n",
       "    </tr>\n",
       "    <tr>\n",
       "      <th>50</th>\n",
       "      <td>19</td>\n",
       "      <td>248.666672</td>\n",
       "      <td>81.0</td>\n",
       "      <td>0</td>\n",
       "    </tr>\n",
       "    <tr>\n",
       "      <th>100</th>\n",
       "      <td>28</td>\n",
       "      <td>171.250015</td>\n",
       "      <td>81.0</td>\n",
       "      <td>0</td>\n",
       "    </tr>\n",
       "    <tr>\n",
       "      <th>150</th>\n",
       "      <td>37</td>\n",
       "      <td>363.916656</td>\n",
       "      <td>145.0</td>\n",
       "      <td>0</td>\n",
       "    </tr>\n",
       "    <tr>\n",
       "      <th>200</th>\n",
       "      <td>46</td>\n",
       "      <td>203.916672</td>\n",
       "      <td>81.0</td>\n",
       "      <td>0</td>\n",
       "    </tr>\n",
       "    <tr>\n",
       "      <th>250</th>\n",
       "      <td>55</td>\n",
       "      <td>259.916656</td>\n",
       "      <td>114.0</td>\n",
       "      <td>0</td>\n",
       "    </tr>\n",
       "    <tr>\n",
       "      <th>300</th>\n",
       "      <td>64</td>\n",
       "      <td>324.416656</td>\n",
       "      <td>190.0</td>\n",
       "      <td>0</td>\n",
       "    </tr>\n",
       "    <tr>\n",
       "      <th>350</th>\n",
       "      <td>73</td>\n",
       "      <td>183.000015</td>\n",
       "      <td>97.0</td>\n",
       "      <td>0</td>\n",
       "    </tr>\n",
       "    <tr>\n",
       "      <th>400</th>\n",
       "      <td>82</td>\n",
       "      <td>279.499969</td>\n",
       "      <td>178.0</td>\n",
       "      <td>0</td>\n",
       "    </tr>\n",
       "    <tr>\n",
       "      <th>450</th>\n",
       "      <td>91</td>\n",
       "      <td>326.899994</td>\n",
       "      <td>810.0</td>\n",
       "      <td>0</td>\n",
       "    </tr>\n",
       "    <tr>\n",
       "      <th>500</th>\n",
       "      <td>100</td>\n",
       "      <td>326.899994</td>\n",
       "      <td>810.0</td>\n",
       "      <td>0</td>\n",
       "    </tr>\n",
       "  </tbody>\n",
       "</table>\n",
       "</div>"
      ],
      "text/plain": [
       "    model        time   cost  case\n",
       "0     010  166.083328   81.0     0\n",
       "50     19  248.666672   81.0     0\n",
       "100    28  171.250015   81.0     0\n",
       "150    37  363.916656  145.0     0\n",
       "200    46  203.916672   81.0     0\n",
       "250    55  259.916656  114.0     0\n",
       "300    64  324.416656  190.0     0\n",
       "350    73  183.000015   97.0     0\n",
       "400    82  279.499969  178.0     0\n",
       "450    91  326.899994  810.0     0\n",
       "500   100  326.899994  810.0     0"
      ]
     },
     "execution_count": 134,
     "metadata": {},
     "output_type": "execute_result"
    }
   ],
   "source": [
    "dtvio = dfDRL.loc[:,[\"model\",\"time\",\"cost\"]]\n",
    "dtvio[\"case\"]=np.zeros(len(dtvio),dtype=int)\n",
    "dtvio"
   ]
  },
  {
   "cell_type": "code",
   "execution_count": 135,
   "metadata": {},
   "outputs": [],
   "source": [
    "x = list(range(len(dtvio)))"
   ]
  },
  {
   "cell_type": "code",
   "execution_count": 169,
   "metadata": {},
   "outputs": [
    {
     "data": {
      "text/plain": [
       "array(['(0,1.)', '(.1,.9)', '(.2,.8)', '(.3,.7)', '(.4,.6)', '(.5,.5)',\n",
       "       '(.6,.4)', '(.7,.3)', '(.8,.2)', '(.9,.1)', '(1.,0)'], dtype='<U7')"
      ]
     },
     "execution_count": 169,
     "metadata": {},
     "output_type": "execute_result"
    }
   ],
   "source": [
    "def getWeithDecomposition(val):\n",
    "    if len(val)==3:\n",
    "        if val[0]==\"0\":\n",
    "            return \"(0,1.)\"\n",
    "        else:\n",
    "            return \"(1.,0)\"\n",
    "    else:\n",
    "        return \"(.%s,.%s)\"%(val[0],val[1])\n",
    "    \n",
    "fticks = np.vectorize(getWeithDecomposition)\n",
    "ticks = fticks(dtvio.model)\n",
    "ticks"
   ]
  },
  {
   "cell_type": "code",
   "execution_count": 174,
   "metadata": {},
   "outputs": [
    {
     "data": {
      "image/png": "[encoded data removed]",
      "text/plain": [
       "<Figure size 640x480 with 2 Axes>"
      ]
     },
     "metadata": {},
     "output_type": "display_data"
    }
   ],
   "source": [
    "fig, axes = plt.subplots(ncols=2, sharey=True)\n",
    "axes[0].barh(x, dtvio.time, align='center', color='red', zorder=10)\n",
    "axes[0].set(title='Time')\n",
    "axes[1].barh(x, dtvio.cost, align='center', color='blue', zorder=10)\n",
    "axes[1].set(title='Cost')\n",
    "\n",
    "axes[0].invert_xaxis()\n",
    "axes[0].set(yticks=x, yticklabels=ticks)\n",
    "axes[0].yaxis.tick_right()\n",
    "axes[1].yaxis.tick_left()\n",
    "\n",
    "\n",
    "\n",
    "for ax in axes.flat:\n",
    "    ax.margins(0.03)\n",
    "    ax.grid(True)\n",
    "\n",
    "fig.tight_layout()\n",
    "fig.subplots_adjust(wspace=0.23)\n",
    "plt.show()"
   ]
  },
  {
   "cell_type": "code",
   "execution_count": 185,
   "metadata": {},
   "outputs": [
    {
     "data": {
      "text/plain": [
       "0      010\n",
       "50      19\n",
       "100     28\n",
       "150     37\n",
       "200     46\n",
       "250     55\n",
       "300     64\n",
       "350     73\n",
       "400     82\n",
       "450     91\n",
       "500    100\n",
       "Name: model, dtype: object"
      ]
     },
     "execution_count": 185,
     "metadata": {},
     "output_type": "execute_result"
    }
   ],
   "source": [
    "dtvio.model"
   ]
  },
  {
   "cell_type": "code",
   "execution_count": 186,
   "metadata": {},
   "outputs": [
    {
     "data": {
      "text/plain": [
       "Index(['010', '100', '19', '28', '37', '46', '55', '64', '73', '82', '91'], dtype='object', name='model')"
      ]
     },
     "execution_count": 186,
     "metadata": {},
     "output_type": "execute_result"
    }
   ],
   "source": [
    "dfmodel #average DRL all cases\n",
    "print(dfmodel.index)"
   ]
  },
  {
   "cell_type": "code",
   "execution_count": 188,
   "metadata": {},
   "outputs": [],
   "source": [
    "dfrindex = dfmodel.reindex(['010', '19', '28', '37', '46', '55', '64', '73', '82', '91', '100'])"
   ]
  },
  {
   "cell_type": "code",
   "execution_count": 189,
   "metadata": {},
   "outputs": [
    {
     "data": {
      "image/png": "[encoded data removed]",
      "text/plain": [
       "<Figure size 640x480 with 2 Axes>"
      ]
     },
     "metadata": {},
     "output_type": "display_data"
    }
   ],
   "source": [
    "fig, axes = plt.subplots(ncols=2, sharey=True)\n",
    "axes[0].barh(x, dfrindex.time, align='center', color='red', zorder=10)\n",
    "axes[0].set(title='Time')\n",
    "axes[1].barh(x, dfrindex.cost, align='center', color='blue', zorder=10)\n",
    "axes[1].set(title='Cost')\n",
    "\n",
    "axes[0].invert_xaxis()\n",
    "axes[0].set(yticks=x, yticklabels=ticks)\n",
    "axes[0].yaxis.tick_right()\n",
    "axes[1].yaxis.tick_left()\n",
    "\n",
    "\n",
    "\n",
    "for ax in axes.flat:\n",
    "    ax.margins(0.03)\n",
    "    ax.grid(True)\n",
    "\n",
    "fig.tight_layout()\n",
    "fig.subplots_adjust(wspace=0.23)\n",
    "plt.show()"
   ]
  },
  {
   "cell_type": "code",
   "execution_count": null,
   "metadata": {},
   "outputs": [],
   "source": []
  }
 ],
 "metadata": {
  "kernelspec": {
   "display_name": "DGLenv",
   "language": "python",
   "name": "python3"
  },
  "language_info": {
   "codemirror_mode": {
    "name": "ipython",
    "version": 3
   },
   "file_extension": ".py",
   "mimetype": "text/x-python",
   "name": "python",
   "nbconvert_exporter": "python",
   "pygments_lexer": "ipython3",
   "version": "3.9.7"
  },
  "orig_nbformat": 4,
  "vscode": {
   "interpreter": {
    "hash": "f9d4a005f9d9f9889b4816c359e838e2ccf93e76cd59d84c8bf07b8b75af7947"
   }
  }
 },
 "nbformat": 4,
 "nbformat_minor": 2
}
