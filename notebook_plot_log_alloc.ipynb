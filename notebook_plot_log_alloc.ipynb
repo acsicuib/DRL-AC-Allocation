{
 "cells": [
  {
   "cell_type": "code",
   "execution_count": 64,
   "metadata": {},
   "outputs": [],
   "source": [
    "import pickle\n",
    "import configs\n",
    "import pandas as pd\n",
    "import numpy as np\n",
    "import matplotlib.pyplot as plt\n",
    "import matplotlib as mpl"
   ]
  },
  {
   "cell_type": "code",
   "execution_count": 37,
   "metadata": {},
   "outputs": [],
   "source": [
    "# f = open('trainlogs/log_alloc_train_' + str(configs.n_jobs) + '_' + str(configs.n_machines) + '_' + str(configs.task_time_low) + '_' + str(configs.task_time_high)+'.pkl', 'rb')\n",
    "# data = pickle.load(f)\n",
    "# f.close()\n"
   ]
  },
  {
   "cell_type": "code",
   "execution_count": 74,
   "metadata": {},
   "outputs": [],
   "source": [
    "df = pd.read_pickle('trainlogs/log_alloc_train_' + str(configs.n_jobs) + '_' + str(configs.n_machines) + '_' + str(configs.task_time_low) + '_' + str(configs.task_time_high)+'.pkl', 'infer')"
   ]
  },
  {
   "cell_type": "code",
   "execution_count": 75,
   "metadata": {},
   "outputs": [
    {
     "data": {
      "text/plain": [
       "(160, 9)"
      ]
     },
     "execution_count": 75,
     "metadata": {},
     "output_type": "execute_result"
    }
   ],
   "source": [
    "machines,speed, lat = [],[],[]\n",
    "for x in range(len(df)):\n",
    "    machines.append(df[x][1])\n",
    "    speed.append(df[x][2])\n",
    "    lat.append(df[x][3])\n",
    "machines = np.array(machines)\n",
    "speed = np.array(speed)\n",
    "lat = np.array(lat)\n",
    "machines.shape\n",
    "        "
   ]
  },
  {
   "cell_type": "code",
   "execution_count": 76,
   "metadata": {},
   "outputs": [
    {
     "data": {
      "text/plain": [
       "array([[20.,  5.,  5., 10., 30.,  5.,  5., 20., 20.],\n",
       "       [ 1.,  5., 20., 20.,  5.,  1., 10., 20., 20.],\n",
       "       [ 5., 10.,  5., 20.,  5.,  5., 20., 15., 30.],\n",
       "       [30.,  5.,  5.,  1., 10.,  5.,  5., 20., 20.],\n",
       "       [20., 10.,  1., 30., 20.,  1., 20.,  1.,  1.],\n",
       "       [ 5., 10., 30., 30., 20., 10., 10., 10., 30.],\n",
       "       [ 1., 20., 10., 15., 10.,  1., 10., 10., 15.],\n",
       "       [30., 10., 30., 30., 20., 30., 30., 15., 20.],\n",
       "       [20., 20.,  5., 30., 10.,  5., 10., 30., 20.],\n",
       "       [10., 30., 10.,  1., 30.,  1., 10., 30., 20.],\n",
       "       [30., 30., 30.,  5.,  5.,  5.,  5.,  5.,  5.],\n",
       "       [10.,  5., 10.,  5.,  5.,  5., 10.,  1.,  5.],\n",
       "       [30., 20., 15., 15., 30., 30., 30., 15., 30.],\n",
       "       [15.,  5., 15., 15., 30., 20., 20.,  5.,  5.],\n",
       "       [20., 20., 20., 20.,  1., 30., 20.,  5.,  5.],\n",
       "       [20.,  5., 20.,  5.,  5.,  5., 10.,  5.,  1.],\n",
       "       [30.,  1., 10.,  1.,  5., 20., 10., 10.,  1.],\n",
       "       [ 5., 15., 30., 15., 15., 15., 30., 30., 30.],\n",
       "       [15., 30.,  1.,  1., 15., 20.,  5., 20., 30.],\n",
       "       [15., 15.,  1., 30., 30., 20.,  1., 10.,  1.],\n",
       "       [30.,  1.,  1.,  5., 30.,  5., 30.,  1.,  5.],\n",
       "       [15., 15., 15., 30., 15., 15., 10., 10., 15.],\n",
       "       [30.,  5., 20., 20., 20., 30., 10., 30., 10.],\n",
       "       [ 5., 30., 20., 20.,  5., 20., 20., 20.,  1.],\n",
       "       [ 5., 15., 10.,  5., 15., 15.,  1., 15.,  1.],\n",
       "       [30.,  1., 10.,  1., 30.,  5.,  1., 30., 30.],\n",
       "       [30., 15., 30., 15.,  1., 30., 15., 30., 30.],\n",
       "       [ 1., 15., 15., 15., 15.,  5., 15.,  1., 15.],\n",
       "       [15., 15., 10., 30., 30., 30., 10., 30., 30.],\n",
       "       [15., 20., 20., 15., 10., 30., 30., 15., 10.],\n",
       "       [20., 30., 30., 10., 30., 15., 30., 10., 20.],\n",
       "       [30., 10., 10., 10., 10., 10., 10., 15., 30.],\n",
       "       [30., 30., 15., 30., 30., 20., 30., 30., 20.],\n",
       "       [ 5., 20.,  1., 20., 15., 10.,  1., 15., 10.],\n",
       "       [30., 20., 10.,  1., 20.,  5., 30., 20., 30.],\n",
       "       [30., 30., 10.,  5., 30., 30.,  5., 30.,  5.],\n",
       "       [30.,  5., 10., 10., 15., 10., 10.,  1.,  1.],\n",
       "       [30., 15.,  1., 20., 30., 15., 30.,  1.,  1.],\n",
       "       [15., 15., 10., 10., 30., 15., 30., 10., 15.],\n",
       "       [20., 10., 20., 30., 30., 10., 30., 20., 30.]])"
      ]
     },
     "execution_count": 76,
     "metadata": {},
     "output_type": "execute_result"
    }
   ],
   "source": [
    "lat[:40]\n",
    "    "
   ]
  },
  {
   "cell_type": "code",
   "execution_count": 84,
   "metadata": {},
   "outputs": [],
   "source": [
    "from pylab import *\n",
    "cmap = cm.get_cmap('jet',6)\n"
   ]
  },
  {
   "cell_type": "code",
   "execution_count": 85,
   "metadata": {},
   "outputs": [
    {
     "data": {
      "image/png": "[encoded data removed]",
      "text/plain": [
       "<Figure size 432x288 with 5 Axes>"
      ]
     },
     "metadata": {
      "needs_background": "light"
     },
     "output_type": "display_data"
    }
   ],
   "source": [
    "fig, (ax1, ax2, ax3, ax4) = plt.subplots(1, 4)\n",
    "im2 = ax1.imshow(lat[:40], cmap=cmap)\n",
    "im2 = ax2.imshow(lat[40:80], cmap=cmap)\n",
    "im2 = ax3.imshow(lat[80:120], cmap=cmap)\n",
    "im2 = ax4.imshow(lat[120:160], cmap=cmap)\n",
    "cbar_ax = fig.add_axes([0.88, 0.15, 0.04, 0.7])\n",
    "fig.colorbar(im2, cax=cbar_ax)\n",
    "\n",
    "plt.show()"
   ]
  },
  {
   "cell_type": "code",
   "execution_count": null,
   "metadata": {},
   "outputs": [],
   "source": []
  }
 ],
 "metadata": {
  "kernelspec": {
   "display_name": "my397",
   "language": "python",
   "name": "python3"
  },
  "language_info": {
   "codemirror_mode": {
    "name": "ipython",
    "version": 3
   },
   "file_extension": ".py",
   "mimetype": "text/x-python",
   "name": "python",
   "nbconvert_exporter": "python",
   "pygments_lexer": "ipython3",
   "version": "3.9.7"
  },
  "orig_nbformat": 4,
  "vscode": {
   "interpreter": {
    "hash": "8b38137d60f5ef6101ebd11fd805c6415d52a5c999d13278488bced8392256b3"
   }
  }
 },
 "nbformat": 4,
 "nbformat_minor": 2
}
