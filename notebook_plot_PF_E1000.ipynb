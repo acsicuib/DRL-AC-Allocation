{
 "cells": [
  {
   "cell_type": "code",
   "execution_count": 4,
   "metadata": {},
   "outputs": [],
   "source": [
    "import pickle\n",
    "import pandas as pd\n",
    "import numpy as np\n",
    "import matplotlib.pyplot as plt\n",
    "import matplotlib as mpl\n",
    "from pylab import *\n",
    "from matplotlib import colors\n",
    "from matplotlib.colors import ListedColormap\n",
    "from argparse import Namespace\n",
    "from pymoo.indicators.hv import HV\n",
    "from pymoo.config import Config\n",
    "Config.warnings['not_compiled'] = False\n",
    "\n"
   ]
  },
  {
   "cell_type": "code",
   "execution_count": 5,
   "metadata": {},
   "outputs": [],
   "source": [
    "conf = !python  parameters.py"
   ]
  },
  {
   "cell_type": "code",
   "execution_count": 6,
   "metadata": {},
   "outputs": [],
   "source": [
    "configs = eval(conf[0])"
   ]
  },
  {
   "cell_type": "code",
   "execution_count": 7,
   "metadata": {},
   "outputs": [],
   "source": [
    "## Experiment config\n",
    "configs.name=\"E1000v2\"\n",
    "configs.n_devices=999\n",
    "configs.n_jobs=9"
   ]
  },
  {
   "cell_type": "code",
   "execution_count": 8,
   "metadata": {},
   "outputs": [],
   "source": [
    "def getWeithDecomposition(val):\n",
    "    print(val)\n",
    "    if val[0]==\"0\":\n",
    "        return \"(0,1.)\"\n",
    "    elif val[0]==\"1\":\n",
    "        return \"(1.,0)\"\n",
    "    return \"(%s,%s)\"%(float(val[0:2])/100,float(val[2:])/100)"
   ]
  },
  {
   "attachments": {},
   "cell_type": "markdown",
   "metadata": {},
   "source": [
    "# DRL - average all samples"
   ]
  },
  {
   "cell_type": "code",
   "execution_count": 9,
   "metadata": {},
   "outputs": [
    {
     "data": {
      "text/html": [
       "<div>\n",
       "<style scoped>\n",
       "    .dataframe tbody tr th:only-of-type {\n",
       "        vertical-align: middle;\n",
       "    }\n",
       "\n",
       "    .dataframe tbody tr th {\n",
       "        vertical-align: top;\n",
       "    }\n",
       "\n",
       "    .dataframe thead th {\n",
       "        text-align: right;\n",
       "    }\n",
       "</style>\n",
       "<table border=\"1\" class=\"dataframe\">\n",
       "  <thead>\n",
       "    <tr style=\"text-align: right;\">\n",
       "      <th></th>\n",
       "      <th>0</th>\n",
       "      <th>1</th>\n",
       "      <th>2</th>\n",
       "      <th>3</th>\n",
       "      <th>4</th>\n",
       "      <th>5</th>\n",
       "      <th>6</th>\n",
       "      <th>7</th>\n",
       "    </tr>\n",
       "  </thead>\n",
       "  <tbody>\n",
       "    <tr>\n",
       "      <th>0</th>\n",
       "      <td>1000</td>\n",
       "      <td>0</td>\n",
       "      <td>260.0</td>\n",
       "      <td>1716.0</td>\n",
       "      <td>-260.00</td>\n",
       "      <td>562.0</td>\n",
       "      <td>1620.0</td>\n",
       "      <td>0.690426</td>\n",
       "    </tr>\n",
       "    <tr>\n",
       "      <th>1</th>\n",
       "      <td>7525</td>\n",
       "      <td>0</td>\n",
       "      <td>305.0</td>\n",
       "      <td>624.0</td>\n",
       "      <td>-384.75</td>\n",
       "      <td>562.0</td>\n",
       "      <td>1620.0</td>\n",
       "      <td>0.690806</td>\n",
       "    </tr>\n",
       "    <tr>\n",
       "      <th>2</th>\n",
       "      <td>5050</td>\n",
       "      <td>0</td>\n",
       "      <td>527.0</td>\n",
       "      <td>176.0</td>\n",
       "      <td>-351.50</td>\n",
       "      <td>562.0</td>\n",
       "      <td>1620.0</td>\n",
       "      <td>0.688146</td>\n",
       "    </tr>\n",
       "    <tr>\n",
       "      <th>3</th>\n",
       "      <td>2575</td>\n",
       "      <td>0</td>\n",
       "      <td>1009.0</td>\n",
       "      <td>299.0</td>\n",
       "      <td>-476.50</td>\n",
       "      <td>562.0</td>\n",
       "      <td>1620.0</td>\n",
       "      <td>0.693997</td>\n",
       "    </tr>\n",
       "    <tr>\n",
       "      <th>4</th>\n",
       "      <td>0100</td>\n",
       "      <td>0</td>\n",
       "      <td>2450.0</td>\n",
       "      <td>279.0</td>\n",
       "      <td>-279.00</td>\n",
       "      <td>562.0</td>\n",
       "      <td>1620.0</td>\n",
       "      <td>0.687160</td>\n",
       "    </tr>\n",
       "  </tbody>\n",
       "</table>\n",
       "</div>"
      ],
      "text/plain": [
       "      0  1       2       3       4      5       6         7\n",
       "0  1000  0   260.0  1716.0 -260.00  562.0  1620.0  0.690426\n",
       "1  7525  0   305.0   624.0 -384.75  562.0  1620.0  0.690806\n",
       "2  5050  0   527.0   176.0 -351.50  562.0  1620.0  0.688146\n",
       "3  2575  0  1009.0   299.0 -476.50  562.0  1620.0  0.693997\n",
       "4  0100  0  2450.0   279.0 -279.00  562.0  1620.0  0.687160"
      ]
     },
     "execution_count": 9,
     "metadata": {},
     "output_type": "execute_result"
    }
   ],
   "source": [
    "## previou eval_trained_PF_ppo.py\n",
    "#df = pd.read_pickle('logs/log_eval_PF_'  + str(configs.name) + \"_\" + str(configs.n_jobs) + '_' + str(configs.n_devices)+'.pkl', 'infer')\n",
    "configs.name=\"E1000v9\"\n",
    "df = pd.read_pickle('logs/log_eval_PF_'  + str(configs.name) + \"_\" + str(configs.n_jobs) + '_' + str(configs.n_devices)+'_v3.pkl', 'infer')\n",
    "df = pd.DataFrame(df)\n",
    "df.head()\n"
   ]
  },
  {
   "cell_type": "code",
   "execution_count": 10,
   "metadata": {},
   "outputs": [
    {
     "data": {
      "text/html": [
       "<div>\n",
       "<style scoped>\n",
       "    .dataframe tbody tr th:only-of-type {\n",
       "        vertical-align: middle;\n",
       "    }\n",
       "\n",
       "    .dataframe tbody tr th {\n",
       "        vertical-align: top;\n",
       "    }\n",
       "\n",
       "    .dataframe thead th {\n",
       "        text-align: right;\n",
       "    }\n",
       "</style>\n",
       "<table border=\"1\" class=\"dataframe\">\n",
       "  <thead>\n",
       "    <tr style=\"text-align: right;\">\n",
       "      <th></th>\n",
       "      <th>model</th>\n",
       "      <th>sample</th>\n",
       "      <th>time</th>\n",
       "      <th>cost</th>\n",
       "      <th>reward</th>\n",
       "      <th>iTime</th>\n",
       "      <th>iCost</th>\n",
       "      <th>execTime</th>\n",
       "    </tr>\n",
       "  </thead>\n",
       "  <tbody>\n",
       "    <tr>\n",
       "      <th>0</th>\n",
       "      <td>1000</td>\n",
       "      <td>0</td>\n",
       "      <td>260.0</td>\n",
       "      <td>1716.0</td>\n",
       "      <td>-260.00</td>\n",
       "      <td>562.0</td>\n",
       "      <td>1620.0</td>\n",
       "      <td>0.690426</td>\n",
       "    </tr>\n",
       "    <tr>\n",
       "      <th>1</th>\n",
       "      <td>7525</td>\n",
       "      <td>0</td>\n",
       "      <td>305.0</td>\n",
       "      <td>624.0</td>\n",
       "      <td>-384.75</td>\n",
       "      <td>562.0</td>\n",
       "      <td>1620.0</td>\n",
       "      <td>0.690806</td>\n",
       "    </tr>\n",
       "    <tr>\n",
       "      <th>2</th>\n",
       "      <td>5050</td>\n",
       "      <td>0</td>\n",
       "      <td>527.0</td>\n",
       "      <td>176.0</td>\n",
       "      <td>-351.50</td>\n",
       "      <td>562.0</td>\n",
       "      <td>1620.0</td>\n",
       "      <td>0.688146</td>\n",
       "    </tr>\n",
       "    <tr>\n",
       "      <th>3</th>\n",
       "      <td>2575</td>\n",
       "      <td>0</td>\n",
       "      <td>1009.0</td>\n",
       "      <td>299.0</td>\n",
       "      <td>-476.50</td>\n",
       "      <td>562.0</td>\n",
       "      <td>1620.0</td>\n",
       "      <td>0.693997</td>\n",
       "    </tr>\n",
       "    <tr>\n",
       "      <th>4</th>\n",
       "      <td>0100</td>\n",
       "      <td>0</td>\n",
       "      <td>2450.0</td>\n",
       "      <td>279.0</td>\n",
       "      <td>-279.00</td>\n",
       "      <td>562.0</td>\n",
       "      <td>1620.0</td>\n",
       "      <td>0.687160</td>\n",
       "    </tr>\n",
       "    <tr>\n",
       "      <th>...</th>\n",
       "      <td>...</td>\n",
       "      <td>...</td>\n",
       "      <td>...</td>\n",
       "      <td>...</td>\n",
       "      <td>...</td>\n",
       "      <td>...</td>\n",
       "      <td>...</td>\n",
       "      <td>...</td>\n",
       "    </tr>\n",
       "    <tr>\n",
       "      <th>495</th>\n",
       "      <td>1000</td>\n",
       "      <td>0</td>\n",
       "      <td>259.0</td>\n",
       "      <td>1554.0</td>\n",
       "      <td>-259.00</td>\n",
       "      <td>562.0</td>\n",
       "      <td>1620.0</td>\n",
       "      <td>0.684845</td>\n",
       "    </tr>\n",
       "    <tr>\n",
       "      <th>496</th>\n",
       "      <td>7525</td>\n",
       "      <td>0</td>\n",
       "      <td>269.0</td>\n",
       "      <td>608.0</td>\n",
       "      <td>-353.75</td>\n",
       "      <td>562.0</td>\n",
       "      <td>1620.0</td>\n",
       "      <td>0.683001</td>\n",
       "    </tr>\n",
       "    <tr>\n",
       "      <th>497</th>\n",
       "      <td>5050</td>\n",
       "      <td>0</td>\n",
       "      <td>507.0</td>\n",
       "      <td>164.0</td>\n",
       "      <td>-335.50</td>\n",
       "      <td>562.0</td>\n",
       "      <td>1620.0</td>\n",
       "      <td>0.688669</td>\n",
       "    </tr>\n",
       "    <tr>\n",
       "      <th>498</th>\n",
       "      <td>2575</td>\n",
       "      <td>0</td>\n",
       "      <td>826.0</td>\n",
       "      <td>328.0</td>\n",
       "      <td>-452.50</td>\n",
       "      <td>562.0</td>\n",
       "      <td>1620.0</td>\n",
       "      <td>0.681462</td>\n",
       "    </tr>\n",
       "    <tr>\n",
       "      <th>499</th>\n",
       "      <td>0100</td>\n",
       "      <td>0</td>\n",
       "      <td>2755.0</td>\n",
       "      <td>225.0</td>\n",
       "      <td>-225.00</td>\n",
       "      <td>562.0</td>\n",
       "      <td>1620.0</td>\n",
       "      <td>0.685047</td>\n",
       "    </tr>\n",
       "  </tbody>\n",
       "</table>\n",
       "<p>500 rows × 8 columns</p>\n",
       "</div>"
      ],
      "text/plain": [
       "    model  sample    time    cost  reward  iTime   iCost  execTime\n",
       "0    1000       0   260.0  1716.0 -260.00  562.0  1620.0  0.690426\n",
       "1    7525       0   305.0   624.0 -384.75  562.0  1620.0  0.690806\n",
       "2    5050       0   527.0   176.0 -351.50  562.0  1620.0  0.688146\n",
       "3    2575       0  1009.0   299.0 -476.50  562.0  1620.0  0.693997\n",
       "4    0100       0  2450.0   279.0 -279.00  562.0  1620.0  0.687160\n",
       "..    ...     ...     ...     ...     ...    ...     ...       ...\n",
       "495  1000       0   259.0  1554.0 -259.00  562.0  1620.0  0.684845\n",
       "496  7525       0   269.0   608.0 -353.75  562.0  1620.0  0.683001\n",
       "497  5050       0   507.0   164.0 -335.50  562.0  1620.0  0.688669\n",
       "498  2575       0   826.0   328.0 -452.50  562.0  1620.0  0.681462\n",
       "499  0100       0  2755.0   225.0 -225.00  562.0  1620.0  0.685047\n",
       "\n",
       "[500 rows x 8 columns]"
      ]
     },
     "execution_count": 10,
     "metadata": {},
     "output_type": "execute_result"
    }
   ],
   "source": [
    "\n",
    "df.columns = [\"model\",\"sample\",\"time\",\"cost\",\"reward\",\"iTime\",\"iCost\",\"execTime\"]\n",
    "df"
   ]
  },
  {
   "cell_type": "code",
   "execution_count": 11,
   "metadata": {},
   "outputs": [
    {
     "data": {
      "text/html": [
       "<div>\n",
       "<style scoped>\n",
       "    .dataframe tbody tr th:only-of-type {\n",
       "        vertical-align: middle;\n",
       "    }\n",
       "\n",
       "    .dataframe tbody tr th {\n",
       "        vertical-align: top;\n",
       "    }\n",
       "\n",
       "    .dataframe thead th {\n",
       "        text-align: right;\n",
       "    }\n",
       "</style>\n",
       "<table border=\"1\" class=\"dataframe\">\n",
       "  <thead>\n",
       "    <tr style=\"text-align: right;\">\n",
       "      <th></th>\n",
       "      <th>time</th>\n",
       "      <th>cost</th>\n",
       "      <th>iTime</th>\n",
       "      <th>iCost</th>\n",
       "      <th>execTime</th>\n",
       "    </tr>\n",
       "    <tr>\n",
       "      <th>model</th>\n",
       "      <th></th>\n",
       "      <th></th>\n",
       "      <th></th>\n",
       "      <th></th>\n",
       "      <th></th>\n",
       "    </tr>\n",
       "  </thead>\n",
       "  <tbody>\n",
       "    <tr>\n",
       "      <th>0100</th>\n",
       "      <td>2493.959961</td>\n",
       "      <td>257.200012</td>\n",
       "      <td>562.0</td>\n",
       "      <td>1620.0</td>\n",
       "      <td>0.686687</td>\n",
       "    </tr>\n",
       "    <tr>\n",
       "      <th>1000</th>\n",
       "      <td>259.500000</td>\n",
       "      <td>1630.010010</td>\n",
       "      <td>562.0</td>\n",
       "      <td>1620.0</td>\n",
       "      <td>0.686690</td>\n",
       "    </tr>\n",
       "    <tr>\n",
       "      <th>2575</th>\n",
       "      <td>976.690002</td>\n",
       "      <td>315.970001</td>\n",
       "      <td>562.0</td>\n",
       "      <td>1620.0</td>\n",
       "      <td>0.686415</td>\n",
       "    </tr>\n",
       "    <tr>\n",
       "      <th>5050</th>\n",
       "      <td>531.679993</td>\n",
       "      <td>183.229996</td>\n",
       "      <td>562.0</td>\n",
       "      <td>1620.0</td>\n",
       "      <td>0.686810</td>\n",
       "    </tr>\n",
       "    <tr>\n",
       "      <th>7525</th>\n",
       "      <td>292.160004</td>\n",
       "      <td>568.309998</td>\n",
       "      <td>562.0</td>\n",
       "      <td>1620.0</td>\n",
       "      <td>0.686533</td>\n",
       "    </tr>\n",
       "  </tbody>\n",
       "</table>\n",
       "</div>"
      ],
      "text/plain": [
       "              time         cost  iTime   iCost  execTime\n",
       "model                                                   \n",
       "0100   2493.959961   257.200012  562.0  1620.0  0.686687\n",
       "1000    259.500000  1630.010010  562.0  1620.0  0.686690\n",
       "2575    976.690002   315.970001  562.0  1620.0  0.686415\n",
       "5050    531.679993   183.229996  562.0  1620.0  0.686810\n",
       "7525    292.160004   568.309998  562.0  1620.0  0.686533"
      ]
     },
     "execution_count": 11,
     "metadata": {},
     "output_type": "execute_result"
    }
   ],
   "source": [
    "dfmodel = df.groupby(\"model\").agg({\"time\":mean,\"cost\":mean,\"iTime\":mean,\"iCost\":mean,\"execTime\":mean})\n",
    "dfmodel"
   ]
  },
  {
   "cell_type": "code",
   "execution_count": 12,
   "metadata": {},
   "outputs": [
    {
     "name": "stdout",
     "output_type": "stream",
     "text": [
      "<class 'pandas.core.frame.DataFrame'>\n"
     ]
    }
   ],
   "source": [
    "print(type(dfmodel))\n"
   ]
  },
  {
   "cell_type": "code",
   "execution_count": 65,
   "metadata": {},
   "outputs": [
    {
     "name": "stdout",
     "output_type": "stream",
     "text": [
      "0100\n",
      "2493.9599609375\n",
      "1000\n",
      "259.5\n",
      "2575\n",
      "976.6900024414062\n",
      "5050\n",
      "531.6799926757812\n",
      "7525\n",
      "292.1600036621094\n"
     ]
    }
   ],
   "source": [
    "for i in range(len(dfmodel)):\n",
    "    print(dfmodel.iloc[i].name)\n",
    "    print(dfmodel.iloc[i].time)\n",
    "    "
   ]
  },
  {
   "cell_type": "code",
   "execution_count": 66,
   "metadata": {},
   "outputs": [
    {
     "name": "stdout",
     "output_type": "stream",
     "text": [
      "0100\n",
      "1000\n",
      "2575\n",
      "5050\n",
      "7525\n"
     ]
    },
    {
     "data": {
      "image/png": "[encoded data removed]",
      "text/plain": [
       "<Figure size 800x400 with 1 Axes>"
      ]
     },
     "metadata": {},
     "output_type": "display_data"
    }
   ],
   "source": [
    "fig, ax = plt.subplots(figsize=(8,4))\n",
    "\n",
    "ax.scatter(dfmodel.time, dfmodel.cost, s=30, facecolors='none', edgecolors='blue',label=\"PPO model\")\n",
    "\n",
    "ax.scatter(dfmodel.iTime[0],dfmodel.iCost[0],color=\"red\",label=\"Cloud\")\n",
    "for i in range(len(dfmodel)):\n",
    "    ax.annotate(getWeithDecomposition(dfmodel.iloc[i].name), (dfmodel.iloc[i].time, dfmodel.iloc[i].cost))\n",
    "\n",
    "plt.title(\"Average solutions for each decomposition model\")\n",
    "plt.xlabel(\"Time\", fontsize=14)\n",
    "plt.ylabel(\"Cost\", fontsize=14)\n",
    "ax.legend()\n",
    "# plt.savefig(\"images/pf_nsgaII-0.pdf\",dpi=300,bbox_inches = 'tight')\n",
    "plt.show()"
   ]
  },
  {
   "cell_type": "code",
   "execution_count": 74,
   "metadata": {},
   "outputs": [
    {
     "data": {
      "text/plain": [
       "(5, 2)"
      ]
     },
     "execution_count": 74,
     "metadata": {},
     "output_type": "execute_result"
    }
   ],
   "source": [
    "avg_pf = np.vstack((dfmodel.time.values,dfmodel.cost.values)).T\n",
    "avg_pf.shape"
   ]
  },
  {
   "cell_type": "code",
   "execution_count": 75,
   "metadata": {},
   "outputs": [
    {
     "data": {
      "text/plain": [
       "array([[2493.96,  257.2 ],\n",
       "       [ 259.5 , 1630.01],\n",
       "       [ 976.69,  315.97],\n",
       "       [ 531.68,  183.23],\n",
       "       [ 292.16,  568.31]], dtype=float32)"
      ]
     },
     "execution_count": 75,
     "metadata": {},
     "output_type": "execute_result"
    }
   ],
   "source": [
    "avg_pf"
   ]
  },
  {
   "cell_type": "code",
   "execution_count": 69,
   "metadata": {},
   "outputs": [
    {
     "name": "stdout",
     "output_type": "stream",
     "text": [
      "HV 68938.44889273681\n"
     ]
    }
   ],
   "source": [
    "ref_point = np.array([500., 900.])\n",
    "ind = HV(ref_point=ref_point)\n",
    "print(\"HV\", ind(avg_pf)) "
   ]
  },
  {
   "attachments": {},
   "cell_type": "markdown",
   "metadata": {},
   "source": [
    "# DRL one sample"
   ]
  },
  {
   "cell_type": "code",
   "execution_count": 64,
   "metadata": {},
   "outputs": [
    {
     "ename": "FileNotFoundError",
     "evalue": "[Errno 2] No such file or directory: 'logs/log_eval_PF_E1000v9_9_999.pkl'",
     "output_type": "error",
     "traceback": [
      "\u001b[0;31m---------------------------------------------------------------------------\u001b[0m",
      "\u001b[0;31mFileNotFoundError\u001b[0m                         Traceback (most recent call last)",
      "Cell \u001b[0;32mIn[64], line 1\u001b[0m\n\u001b[0;32m----> 1\u001b[0m df \u001b[39m=\u001b[39m pd\u001b[39m.\u001b[39;49mread_pickle(\u001b[39m'\u001b[39;49m\u001b[39mlogs/log_eval_PF_\u001b[39;49m\u001b[39m'\u001b[39;49m  \u001b[39m+\u001b[39;49m \u001b[39mstr\u001b[39;49m(configs\u001b[39m.\u001b[39;49mname) \u001b[39m+\u001b[39;49m \u001b[39m\"\u001b[39;49m\u001b[39m_\u001b[39;49m\u001b[39m\"\u001b[39;49m \u001b[39m+\u001b[39;49m \u001b[39mstr\u001b[39;49m(configs\u001b[39m.\u001b[39;49mn_jobs) \u001b[39m+\u001b[39;49m \u001b[39m'\u001b[39;49m\u001b[39m_\u001b[39;49m\u001b[39m'\u001b[39;49m \u001b[39m+\u001b[39;49m \u001b[39mstr\u001b[39;49m(configs\u001b[39m.\u001b[39;49mn_devices)\u001b[39m+\u001b[39;49m\u001b[39m'\u001b[39;49m\u001b[39m.pkl\u001b[39;49m\u001b[39m'\u001b[39;49m, \u001b[39m'\u001b[39;49m\u001b[39minfer\u001b[39;49m\u001b[39m'\u001b[39;49m)\n\u001b[1;32m      2\u001b[0m df \u001b[39m=\u001b[39m pd\u001b[39m.\u001b[39mDataFrame(df)\n\u001b[1;32m      3\u001b[0m df\u001b[39m.\u001b[39mcolumns \u001b[39m=\u001b[39m [\u001b[39m\"\u001b[39m\u001b[39mmodel\u001b[39m\u001b[39m\"\u001b[39m,\u001b[39m\"\u001b[39m\u001b[39mcase\u001b[39m\u001b[39m\"\u001b[39m,\u001b[39m\"\u001b[39m\u001b[39mtime\u001b[39m\u001b[39m\"\u001b[39m,\u001b[39m\"\u001b[39m\u001b[39mcost\u001b[39m\u001b[39m\"\u001b[39m,\u001b[39m\"\u001b[39m\u001b[39mreward\u001b[39m\u001b[39m\"\u001b[39m,\u001b[39m\"\u001b[39m\u001b[39miTime\u001b[39m\u001b[39m\"\u001b[39m,\u001b[39m\"\u001b[39m\u001b[39miCost\u001b[39m\u001b[39m\"\u001b[39m]\n",
      "File \u001b[0;32m~/.pyenv/versions/3.9.7/envs/DGLenv/lib/python3.9/site-packages/pandas/io/pickle.py:190\u001b[0m, in \u001b[0;36mread_pickle\u001b[0;34m(filepath_or_buffer, compression, storage_options)\u001b[0m\n\u001b[1;32m    124\u001b[0m \u001b[39m\u001b[39m\u001b[39m\"\"\"\u001b[39;00m\n\u001b[1;32m    125\u001b[0m \u001b[39mLoad pickled pandas object (or any object) from file.\u001b[39;00m\n\u001b[1;32m    126\u001b[0m \n\u001b[0;32m   (...)\u001b[0m\n\u001b[1;32m    187\u001b[0m \u001b[39m4    4    9\u001b[39;00m\n\u001b[1;32m    188\u001b[0m \u001b[39m\"\"\"\u001b[39;00m\n\u001b[1;32m    189\u001b[0m excs_to_catch \u001b[39m=\u001b[39m (\u001b[39mAttributeError\u001b[39;00m, \u001b[39mImportError\u001b[39;00m, \u001b[39mModuleNotFoundError\u001b[39;00m, \u001b[39mTypeError\u001b[39;00m)\n\u001b[0;32m--> 190\u001b[0m \u001b[39mwith\u001b[39;00m get_handle(\n\u001b[1;32m    191\u001b[0m     filepath_or_buffer,\n\u001b[1;32m    192\u001b[0m     \u001b[39m\"\u001b[39;49m\u001b[39mrb\u001b[39;49m\u001b[39m\"\u001b[39;49m,\n\u001b[1;32m    193\u001b[0m     compression\u001b[39m=\u001b[39;49mcompression,\n\u001b[1;32m    194\u001b[0m     is_text\u001b[39m=\u001b[39;49m\u001b[39mFalse\u001b[39;49;00m,\n\u001b[1;32m    195\u001b[0m     storage_options\u001b[39m=\u001b[39;49mstorage_options,\n\u001b[1;32m    196\u001b[0m ) \u001b[39mas\u001b[39;00m handles:\n\u001b[1;32m    197\u001b[0m \n\u001b[1;32m    198\u001b[0m     \u001b[39m# 1) try standard library Pickle\u001b[39;00m\n\u001b[1;32m    199\u001b[0m     \u001b[39m# 2) try pickle_compat (older pandas version) to handle subclass changes\u001b[39;00m\n\u001b[1;32m    200\u001b[0m     \u001b[39m# 3) try pickle_compat with latin-1 encoding upon a UnicodeDecodeError\u001b[39;00m\n\u001b[1;32m    202\u001b[0m     \u001b[39mtry\u001b[39;00m:\n\u001b[1;32m    203\u001b[0m         \u001b[39m# TypeError for Cython complaints about object.__new__ vs Tick.__new__\u001b[39;00m\n\u001b[1;32m    204\u001b[0m         \u001b[39mtry\u001b[39;00m:\n",
      "File \u001b[0;32m~/.pyenv/versions/3.9.7/envs/DGLenv/lib/python3.9/site-packages/pandas/io/common.py:865\u001b[0m, in \u001b[0;36mget_handle\u001b[0;34m(path_or_buf, mode, encoding, compression, memory_map, is_text, errors, storage_options)\u001b[0m\n\u001b[1;32m    856\u001b[0m         handle \u001b[39m=\u001b[39m \u001b[39mopen\u001b[39m(\n\u001b[1;32m    857\u001b[0m             handle,\n\u001b[1;32m    858\u001b[0m             ioargs\u001b[39m.\u001b[39mmode,\n\u001b[0;32m   (...)\u001b[0m\n\u001b[1;32m    861\u001b[0m             newline\u001b[39m=\u001b[39m\u001b[39m\"\u001b[39m\u001b[39m\"\u001b[39m,\n\u001b[1;32m    862\u001b[0m         )\n\u001b[1;32m    863\u001b[0m     \u001b[39melse\u001b[39;00m:\n\u001b[1;32m    864\u001b[0m         \u001b[39m# Binary mode\u001b[39;00m\n\u001b[0;32m--> 865\u001b[0m         handle \u001b[39m=\u001b[39m \u001b[39mopen\u001b[39;49m(handle, ioargs\u001b[39m.\u001b[39;49mmode)\n\u001b[1;32m    866\u001b[0m     handles\u001b[39m.\u001b[39mappend(handle)\n\u001b[1;32m    868\u001b[0m \u001b[39m# Convert BytesIO or file objects passed with an encoding\u001b[39;00m\n",
      "\u001b[0;31mFileNotFoundError\u001b[0m: [Errno 2] No such file or directory: 'logs/log_eval_PF_E1000v9_9_999.pkl'"
     ]
    }
   ],
   "source": [
    "df = pd.read_pickle('logs/log_eval_PF_'  + str(configs.name) + \"_\" + str(configs.n_jobs) + '_' + str(configs.n_devices)+'.pkl', 'infer')\n",
    "df = pd.DataFrame(df)\n",
    "df.columns = [\"model\",\"case\",\"time\",\"cost\",\"reward\",\"iTime\",\"iCost\"]\n",
    "df.head()\n"
   ]
  },
  {
   "cell_type": "code",
   "execution_count": 19,
   "metadata": {},
   "outputs": [
    {
     "ename": "AttributeError",
     "evalue": "'DataFrame' object has no attribute 'case'",
     "output_type": "error",
     "traceback": [
      "\u001b[0;31m---------------------------------------------------------------------------\u001b[0m",
      "\u001b[0;31mAttributeError\u001b[0m                            Traceback (most recent call last)",
      "Cell \u001b[0;32mIn[19], line 2\u001b[0m\n\u001b[1;32m      1\u001b[0m CASE \u001b[39m=\u001b[39m \u001b[39m0\u001b[39m \n\u001b[0;32m----> 2\u001b[0m dfDRL \u001b[39m=\u001b[39m df[df\u001b[39m.\u001b[39;49mcase\u001b[39m==\u001b[39mCASE]\n\u001b[1;32m      3\u001b[0m dfDRL\n",
      "File \u001b[0;32m~/.pyenv/versions/3.9.7/envs/DGLenv/lib/python3.9/site-packages/pandas/core/generic.py:5902\u001b[0m, in \u001b[0;36mNDFrame.__getattr__\u001b[0;34m(self, name)\u001b[0m\n\u001b[1;32m   5895\u001b[0m \u001b[39mif\u001b[39;00m (\n\u001b[1;32m   5896\u001b[0m     name \u001b[39mnot\u001b[39;00m \u001b[39min\u001b[39;00m \u001b[39mself\u001b[39m\u001b[39m.\u001b[39m_internal_names_set\n\u001b[1;32m   5897\u001b[0m     \u001b[39mand\u001b[39;00m name \u001b[39mnot\u001b[39;00m \u001b[39min\u001b[39;00m \u001b[39mself\u001b[39m\u001b[39m.\u001b[39m_metadata\n\u001b[1;32m   5898\u001b[0m     \u001b[39mand\u001b[39;00m name \u001b[39mnot\u001b[39;00m \u001b[39min\u001b[39;00m \u001b[39mself\u001b[39m\u001b[39m.\u001b[39m_accessors\n\u001b[1;32m   5899\u001b[0m     \u001b[39mand\u001b[39;00m \u001b[39mself\u001b[39m\u001b[39m.\u001b[39m_info_axis\u001b[39m.\u001b[39m_can_hold_identifiers_and_holds_name(name)\n\u001b[1;32m   5900\u001b[0m ):\n\u001b[1;32m   5901\u001b[0m     \u001b[39mreturn\u001b[39;00m \u001b[39mself\u001b[39m[name]\n\u001b[0;32m-> 5902\u001b[0m \u001b[39mreturn\u001b[39;00m \u001b[39mobject\u001b[39;49m\u001b[39m.\u001b[39;49m\u001b[39m__getattribute__\u001b[39;49m(\u001b[39mself\u001b[39;49m, name)\n",
      "\u001b[0;31mAttributeError\u001b[0m: 'DataFrame' object has no attribute 'case'"
     ]
    }
   ],
   "source": [
    "CASE = 0 \n",
    "dfDRL = df[df.case==CASE]\n",
    "dfDRL"
   ]
  },
  {
   "cell_type": "code",
   "execution_count": 72,
   "metadata": {},
   "outputs": [
    {
     "ename": "NameError",
     "evalue": "name 'dfDRL' is not defined",
     "output_type": "error",
     "traceback": [
      "\u001b[0;31m---------------------------------------------------------------------------\u001b[0m",
      "\u001b[0;31mNameError\u001b[0m                                 Traceback (most recent call last)",
      "Cell \u001b[0;32mIn[72], line 1\u001b[0m\n\u001b[0;32m----> 1\u001b[0m avg_pf \u001b[39m=\u001b[39m np\u001b[39m.\u001b[39mvstack((dfDRL\u001b[39m.\u001b[39mtime\u001b[39m.\u001b[39mvalues,dfDRL\u001b[39m.\u001b[39mcost\u001b[39m.\u001b[39mvalues,dfDRL\u001b[39m.\u001b[39mmodel\u001b[39m.\u001b[39mvalues))\u001b[39m.\u001b[39mT\n\u001b[1;32m      2\u001b[0m avg_pf\n",
      "\u001b[0;31mNameError\u001b[0m: name 'dfDRL' is not defined"
     ]
    }
   ],
   "source": [
    "avg_pf = np.vstack((dfDRL.time.values,dfDRL.cost.values,dfDRL.model.values)).T\n",
    "avg_pf"
   ]
  },
  {
   "cell_type": "code",
   "execution_count": 20,
   "metadata": {},
   "outputs": [
    {
     "name": "stdout",
     "output_type": "stream",
     "text": [
      "(2493.96, 257.2)\n"
     ]
    },
    {
     "ename": "NameError",
     "evalue": "name 'dfDRL' is not defined",
     "output_type": "error",
     "traceback": [
      "\u001b[0;31m---------------------------------------------------------------------------\u001b[0m",
      "\u001b[0;31mNameError\u001b[0m                                 Traceback (most recent call last)",
      "Cell \u001b[0;32mIn[20], line 10\u001b[0m\n\u001b[1;32m      8\u001b[0m \u001b[39mfor\u001b[39;00m i \u001b[39min\u001b[39;00m \u001b[39mrange\u001b[39m(\u001b[39mlen\u001b[39m(avg_pf)):\n\u001b[1;32m      9\u001b[0m     \u001b[39mprint\u001b[39m((avg_pf[i,\u001b[39m0\u001b[39m], avg_pf[i,\u001b[39m1\u001b[39m]))\n\u001b[0;32m---> 10\u001b[0m     ax\u001b[39m.\u001b[39mannotate(getWeithDecomposition(dfDRL\u001b[39m.\u001b[39miloc[i]\u001b[39m.\u001b[39mmodel), (avg_pf[i,\u001b[39m0\u001b[39m]\u001b[39m+\u001b[39m\u001b[39m12\u001b[39m, avg_pf[i,\u001b[39m1\u001b[39m]\u001b[39m-\u001b[39m\u001b[39m2.5\u001b[39m))\n\u001b[1;32m     11\u001b[0m ax\u001b[39m.\u001b[39mlegend()\n\u001b[1;32m     12\u001b[0m plt\u001b[39m.\u001b[39mtitle(\u001b[39m\"\u001b[39m\u001b[39mObjective Space. Case code: \u001b[39m\u001b[39m%s\u001b[39;00m\u001b[39m\"\u001b[39m\u001b[39m%\u001b[39mconfigs\u001b[39m.\u001b[39mname)\n",
      "\u001b[0;31mNameError\u001b[0m: name 'dfDRL' is not defined"
     ]
    },
    {
     "data": {
      "image/png": "[encoded data removed]",
      "text/plain": [
       "<Figure size 800x400 with 1 Axes>"
      ]
     },
     "metadata": {},
     "output_type": "display_data"
    }
   ],
   "source": [
    "fig, ax = plt.subplots(figsize=(8,4))\n",
    "\n",
    "ax.scatter(avg_pf[:,0], avg_pf[:,1], s=30, facecolors='none', edgecolors='blue',label=\"PPO model\")\n",
    "\n",
    "\n",
    "ax.scatter(dfmodel.iTime[0],dfmodel.iCost[0],color=\"red\",label=\"Cloud\")\n",
    "\n",
    "for i in range(len(avg_pf)):\n",
    "    print((avg_pf[i,0], avg_pf[i,1]))\n",
    "    ax.annotate(getWeithDecomposition(dfDRL.iloc[i].model), (avg_pf[i,0]+12, avg_pf[i,1]-2.5))\n",
    "ax.legend()\n",
    "plt.title(\"Objective Space. Case code: %s\"%configs.name)\n",
    "plt.xlabel(\"Time\", fontsize=14)\n",
    "plt.ylabel(\"Cost\", fontsize=14)\n",
    "# plt.savefig(\"images/pf_nsgaII-0.pdf\",dpi=300,bbox_inches = 'tight')\n",
    "plt.show()"
   ]
  },
  {
   "attachments": {},
   "cell_type": "markdown",
   "metadata": {},
   "source": [
    "# GA PF"
   ]
  },
  {
   "cell_type": "code",
   "execution_count": 55,
   "metadata": {},
   "outputs": [],
   "source": [
    "## Experiment config\n",
    "configs.name=\"E1000v9\"\n",
    "configs.n_devices=999\n",
    "configs.n_jobs=9"
   ]
  },
  {
   "cell_type": "code",
   "execution_count": 56,
   "metadata": {},
   "outputs": [],
   "source": [
    "df = pd.read_pickle('logs/log_ga_pf_'  + str(configs.name) + \"_\" + str(configs.n_jobs) + '_' + str(configs.n_devices)+'_0.pkl', 'infer')\n",
    "df = pd.DataFrame(df)\n"
   ]
  },
  {
   "cell_type": "code",
   "execution_count": 57,
   "metadata": {},
   "outputs": [],
   "source": [
    "df.columns = [\"case\",\"time\",\"cost\",\"executionTime\"]\n",
    "dfga = df[df.case==0]"
   ]
  },
  {
   "cell_type": "code",
   "execution_count": 58,
   "metadata": {},
   "outputs": [],
   "source": [
    "df2 = pd.read_pickle('logs/log_ga_pf_'  + str(\"E1000v150\") + \"_\" + str(configs.n_jobs) + '_' + str(configs.n_devices)+'_0.pkl', 'infer')\n",
    "df2 = pd.DataFrame(df2)\n",
    "df2.columns = [\"case\",\"time\",\"cost\",\"executionTime\"]\n",
    "dfga150 = df2[df2.case==0]"
   ]
  },
  {
   "cell_type": "code",
   "execution_count": 59,
   "metadata": {},
   "outputs": [],
   "source": [
    "df3 = pd.read_pickle('logs/log_ga_pf_'  + str(\"E1000v200\") + \"_\" + str(configs.n_jobs) + '_' + str(configs.n_devices)+'_0.pkl', 'infer')\n",
    "df3 = pd.DataFrame(df3)\n",
    "df3.columns = [\"case\",\"time\",\"cost\",\"executionTime\"]\n",
    "dfga200 = df3[df3.case==0]"
   ]
  },
  {
   "cell_type": "code",
   "execution_count": 60,
   "metadata": {},
   "outputs": [],
   "source": [
    "df4 = pd.read_pickle('logs/log_ga_pf_'  + str(\"E1000v250\") + \"_\" + str(configs.n_jobs) + '_' + str(configs.n_devices)+'_0.pkl', 'infer')\n",
    "df4 = pd.DataFrame(df4)\n",
    "df4.columns = [\"case\",\"time\",\"cost\",\"executionTime\"]\n",
    "dfga250 = df4[df4.case==0]"
   ]
  },
  {
   "cell_type": "code",
   "execution_count": 61,
   "metadata": {},
   "outputs": [],
   "source": [
    "df5 = pd.read_pickle('logs/log_ga_pf_'  + str(\"E1000v300\") + \"_\" + str(configs.n_jobs) + '_' + str(configs.n_devices)+'_0.pkl', 'infer')\n",
    "df5 = pd.DataFrame(df5)\n",
    "df5.columns = [\"case\",\"time\",\"cost\",\"executionTime\"]\n",
    "dfga300 = df5[df5.case==0]"
   ]
  },
  {
   "cell_type": "code",
   "execution_count": 62,
   "metadata": {},
   "outputs": [],
   "source": [
    "df6 = pd.read_pickle('logs/log_ga_pf_'  + str(\"E1000v400\") + \"_\" + str(configs.n_jobs) + '_' + str(configs.n_devices)+'_0.pkl', 'infer')\n",
    "df6 = pd.DataFrame(df6)\n",
    "df6.columns = [\"case\",\"time\",\"cost\",\"executionTime\"]\n",
    "dfga400 = df6[df6.case==0]"
   ]
  },
  {
   "cell_type": "code",
   "execution_count": 71,
   "metadata": {},
   "outputs": [
    {
     "data": {
      "text/plain": [
       "array([[2493.96,  257.2 ],\n",
       "       [ 259.5 , 1630.01],\n",
       "       [ 976.69,  315.97],\n",
       "       [ 531.68,  183.23],\n",
       "       [ 292.16,  568.31]], dtype=float32)"
      ]
     },
     "execution_count": 71,
     "metadata": {},
     "output_type": "execute_result"
    }
   ],
   "source": [
    "avg_pf"
   ]
  },
  {
   "cell_type": "code",
   "execution_count": 96,
   "metadata": {},
   "outputs": [
    {
     "name": "stderr",
     "output_type": "stream",
     "text": [
      "/var/folders/6j/7gfvt_29797dypw8t1wttblw0000gn/T/ipykernel_63285/543872840.py:5: UserWarning: You passed a edgecolor/edgecolors ('blue') for an unfilled marker ('+').  Matplotlib is ignoring the edgecolor in favor of the facecolor.  This behavior may change in the future.\n",
      "  ax.scatter(dfga.time, dfga.cost,       s=30,  marker=\"+\", edgecolors='blue', label=\"NSGA-II: 100 generations\")\n"
     ]
    },
    {
     "name": "stdout",
     "output_type": "stream",
     "text": [
      "(0,1)\n",
      "(1,0)\n",
      "(.25,.75)\n",
      "(5.,5.)\n",
      "(.75,.25)\n"
     ]
    },
    {
     "data": {
      "image/png": "[encoded data removed]",
      "text/plain": [
       "<Figure size 800x400 with 1 Axes>"
      ]
     },
     "metadata": {},
     "output_type": "display_data"
    }
   ],
   "source": [
    "fig, ax = plt.subplots(figsize=(8,4))\n",
    "\n",
    "\n",
    "\n",
    "ax.scatter(dfga.time, dfga.cost,       s=30,  marker=\"+\", edgecolors='blue', label=\"NSGA-II: 100 generations\")\n",
    "ax.scatter(dfga150.time, dfga150.cost, s=30,  marker=\"+\", color='mediumblue', label=\"NSGA-II: 150 generations\")\n",
    "ax.scatter(dfga200.time, dfga200.cost, s=30,  marker=\"+\", color='darkblue', label=\"NSGA-II: 200 generations\")\n",
    "ax.scatter(dfga250.time, dfga250.cost, s=30,  marker=\"+\", color='navy', label=\"NSGA-II: 250 generations\")\n",
    "ax.scatter(dfga300.time, dfga300.cost, s=30,  marker=\"+\", color='midnightblue', label=\"NSGA-II: 300 generations\")\n",
    "ax.scatter(dfga400.time, dfga400.cost, s=30,  marker=\"+\", color='black', label=\"NSGA-II: 400 generations\")\n",
    "\n",
    "ax.scatter(dall.time, dall.cost, s=30, marker=\"X\", facecolors='red', color='red', label=\"GA: 100 generations\") #MONO solutions\n",
    "\n",
    "ax.scatter(avg_pf[:,0], avg_pf[:,1], s=30,  marker=\"s\", color='darkorange',label=\"DRL model\")\n",
    "\n",
    "#ax.scatter(dfmodel.time, dfmodel.cost, s=30,  marker=\"s\", edgecolors='darkorange',label=\"PPO: average cases\")\n",
    "\n",
    "ax.scatter(dfmodel.iTime[0],dfmodel.iCost[0],color=\"green\",label=\"Cloud\")\n",
    "\n",
    "#mlabel = [\"(1,0)\",\"(.75,.25)\",\"(.5,.5)\",\"(.25,.75)\",\"(0,1)\"]\n",
    "mlabel = [\"(0,1)\",\"(1,0)\",\"(.25,.75)\",\"(5.,5.)\",\"(.75,.25)\"]\n",
    "for i in range(len(dfmodel)):\n",
    "    print(mlabel[i])\n",
    "    if i in [0]:#(0,1)\n",
    "        ax.annotate(mlabel[i], (avg_pf[i,0]+80, avg_pf[i,1]-15),color=\"darkorange\",fontsize=9)\n",
    "    elif i in [1]:#(1,0)\"\n",
    "        ax.annotate(mlabel[i], (avg_pf[i,0]+60, avg_pf[i,1]-55),color=\"darkorange\",fontsize=9)\n",
    "    elif i in [2]:#\"(.25,.75)\"\n",
    "        ax.annotate(mlabel[i], (avg_pf[i,0]+60, avg_pf[i,1]+40),color=\"darkorange\",fontsize=8)\n",
    "    elif i in [3]: #\"(5.,5.)\n",
    "        ax.annotate(mlabel[i], (avg_pf[i,0]+40, avg_pf[i,1]),color=\"darkorange\",fontsize=9)\n",
    "    else:\n",
    "        ax.annotate(mlabel[i], (avg_pf[i,0]-160, avg_pf[i,1]+40),color=\"darkorange\",fontsize=8)\n",
    "\n",
    "ax.legend()\n",
    "ax.vlines(x=dfmodel.iTime[0], ymin=100, ymax=dfmodel.iCost[0], colors='green', ls=':', lw=0.6)\n",
    "ax.vlines(x=avg_pf[1,0], ymin=100, ymax=avg_pf[1,1], colors='darkorange', ls=':', lw=0.8)\n",
    "# plt.title(\"Objective Space. Case code: %s\"%configs.name)\n",
    "plt.xlabel(\"Time\", fontsize=14)\n",
    "plt.ylabel(\"Cost\", fontsize=14)\n",
    "plt.xticks(list(plt.xticks()[0]) + [avg_pf[1,0]])\n",
    "plt.savefig(\"images/pf_ppo_nsgaII_c0.pdf\",dpi=300,bbox_inches = 'tight')\n",
    "plt.show()"
   ]
  },
  {
   "attachments": {},
   "cell_type": "markdown",
   "metadata": {},
   "source": [
    "# NSGAII + DRL"
   ]
  },
  {
   "cell_type": "code",
   "execution_count": null,
   "metadata": {},
   "outputs": [
    {
     "data": {
      "image/png": "[encoded data removed]",
      "text/plain": [
       "<Figure size 800x400 with 1 Axes>"
      ]
     },
     "metadata": {},
     "output_type": "display_data"
    }
   ],
   "source": [
    "fig, ax = plt.subplots(figsize=(8,4))\n",
    "ax.scatter(dfga.time, dfga.cost, s=30, facecolors='none', edgecolors='blue',label=\"NSGA\")\n",
    "\n",
    "ax.scatter(avg_pf[:,0], avg_pf[:,1], s=40, facecolors='none', edgecolors='red',label=\"DRL\")\n",
    "\n",
    "plt.title(\"Objective Space. Case code: %s\"%configs.name)\n",
    "plt.xlabel(\"Time\", fontsize=14)\n",
    "plt.ylabel(\"Cost\", fontsize=14)\n",
    "plt.legend()\n",
    "# plt.savefig(\"images/pf_nsgaII-0.pdf\",dpi=300,bbox_inches = 'tight')\n",
    "plt.show()"
   ]
  },
  {
   "cell_type": "code",
   "execution_count": null,
   "metadata": {},
   "outputs": [],
   "source": [
    "ga_pf = np.vstack((dfga.time.values,dfga.cost.values)).T"
   ]
  },
  {
   "cell_type": "code",
   "execution_count": null,
   "metadata": {},
   "outputs": [
    {
     "name": "stdout",
     "output_type": "stream",
     "text": [
      "H - GA  164877.0\n"
     ]
    }
   ],
   "source": [
    "ref_point = np.array([900., 900.])\n",
    "ind = HV(ref_point=ref_point)\n",
    "print(\"H - GA \", ind(ga_pf)) "
   ]
  },
  {
   "cell_type": "code",
   "execution_count": null,
   "metadata": {},
   "outputs": [
    {
     "ename": "IndexError",
     "evalue": "index 2 is out of bounds for axis 0 with size 2",
     "output_type": "error",
     "traceback": [
      "\u001b[0;31m---------------------------------------------------------------------------\u001b[0m",
      "\u001b[0;31mIndexError\u001b[0m                                Traceback (most recent call last)",
      "Cell \u001b[0;32mIn[45], line 1\u001b[0m\n\u001b[0;32m----> 1\u001b[0m \u001b[39mprint\u001b[39m(\u001b[39m\"\u001b[39m\u001b[39mH - DRL \u001b[39m\u001b[39m\"\u001b[39m, ind(avg_pf)) \n",
      "File \u001b[0;32m~/.pyenv/versions/3.9.7/envs/DGLenv/lib/python3.9/site-packages/pymoo/core/indicator.py:15\u001b[0m, in \u001b[0;36mIndicator.__call__\u001b[0;34m(self, F, *args, **kwargs)\u001b[0m\n\u001b[1;32m     14\u001b[0m \u001b[39mdef\u001b[39;00m \u001b[39m__call__\u001b[39m(\u001b[39mself\u001b[39m, F, \u001b[39m*\u001b[39margs, \u001b[39m*\u001b[39m\u001b[39m*\u001b[39mkwargs):\n\u001b[0;32m---> 15\u001b[0m     \u001b[39mreturn\u001b[39;00m \u001b[39mself\u001b[39;49m\u001b[39m.\u001b[39;49mdo(F, \u001b[39m*\u001b[39;49margs, \u001b[39m*\u001b[39;49m\u001b[39m*\u001b[39;49mkwargs)\n",
      "File \u001b[0;32m~/.pyenv/versions/3.9.7/envs/DGLenv/lib/python3.9/site-packages/pymoo/core/indicator.py:30\u001b[0m, in \u001b[0;36mIndicator.do\u001b[0;34m(self, F, *args, **kwargs)\u001b[0m\n\u001b[1;32m     27\u001b[0m \u001b[39m# do the normalization - will only be done if zero_to_one is enabled\u001b[39;00m\n\u001b[1;32m     28\u001b[0m F \u001b[39m=\u001b[39m \u001b[39mself\u001b[39m\u001b[39m.\u001b[39mnormalization\u001b[39m.\u001b[39mforward(F)\n\u001b[0;32m---> 30\u001b[0m \u001b[39mreturn\u001b[39;00m \u001b[39mself\u001b[39;49m\u001b[39m.\u001b[39;49m_do(F, \u001b[39m*\u001b[39;49margs, \u001b[39m*\u001b[39;49m\u001b[39m*\u001b[39;49mkwargs)\n",
      "File \u001b[0;32m~/.pyenv/versions/3.9.7/envs/DGLenv/lib/python3.9/site-packages/pymoo/indicators/hv/__init__.py:43\u001b[0m, in \u001b[0;36mHypervolume._do\u001b[0;34m(self, F)\u001b[0m\n\u001b[1;32m     41\u001b[0m \u001b[39m# calculate the hypervolume using a vendor library\u001b[39;00m\n\u001b[1;32m     42\u001b[0m hv \u001b[39m=\u001b[39m _HyperVolume(\u001b[39mself\u001b[39m\u001b[39m.\u001b[39mref_point)\n\u001b[0;32m---> 43\u001b[0m val \u001b[39m=\u001b[39m hv\u001b[39m.\u001b[39;49mcompute(F)\n\u001b[1;32m     44\u001b[0m \u001b[39mreturn\u001b[39;00m val\n",
      "File \u001b[0;32m~/.pyenv/versions/3.9.7/envs/DGLenv/lib/python3.9/site-packages/pymoo/vendor/hv.py:56\u001b[0m, in \u001b[0;36mHyperVolume.compute\u001b[0;34m(self, front)\u001b[0m\n\u001b[1;32m     53\u001b[0m dimensions \u001b[39m=\u001b[39m \u001b[39mlen\u001b[39m(referencePoint)\n\u001b[1;32m     54\u001b[0m \u001b[39mfor\u001b[39;00m point \u001b[39min\u001b[39;00m front:\n\u001b[1;32m     55\u001b[0m     \u001b[39m# only consider points that dominate the reference point\u001b[39;00m\n\u001b[0;32m---> 56\u001b[0m     \u001b[39mif\u001b[39;00m weaklyDominates(point, referencePoint):\n\u001b[1;32m     57\u001b[0m         relevantPoints\u001b[39m.\u001b[39mappend(point)\n\u001b[1;32m     58\u001b[0m \u001b[39mif\u001b[39;00m \u001b[39many\u001b[39m(referencePoint):\n\u001b[1;32m     59\u001b[0m     \u001b[39m# shift points so that referencePoint == [0, ..., 0]\u001b[39;00m\n\u001b[1;32m     60\u001b[0m     \u001b[39m# this way the reference point doesn't have to be explicitly used\u001b[39;00m\n\u001b[1;32m     61\u001b[0m     \u001b[39m# in the HV computation\u001b[39;00m\n",
      "File \u001b[0;32m~/.pyenv/versions/3.9.7/envs/DGLenv/lib/python3.9/site-packages/pymoo/vendor/hv.py:47\u001b[0m, in \u001b[0;36mHyperVolume.compute.<locals>.weaklyDominates\u001b[0;34m(point, other)\u001b[0m\n\u001b[1;32m     45\u001b[0m \u001b[39mdef\u001b[39;00m \u001b[39mweaklyDominates\u001b[39m(point, other):\n\u001b[1;32m     46\u001b[0m     \u001b[39mfor\u001b[39;00m i \u001b[39min\u001b[39;00m \u001b[39mrange\u001b[39m(\u001b[39mlen\u001b[39m(point)):\n\u001b[0;32m---> 47\u001b[0m         \u001b[39mif\u001b[39;00m point[i] \u001b[39m>\u001b[39m other[i]:\n\u001b[1;32m     48\u001b[0m             \u001b[39mreturn\u001b[39;00m \u001b[39mFalse\u001b[39;00m\n\u001b[1;32m     49\u001b[0m     \u001b[39mreturn\u001b[39;00m \u001b[39mTrue\u001b[39;00m\n",
      "\u001b[0;31mIndexError\u001b[0m: index 2 is out of bounds for axis 0 with size 2"
     ]
    }
   ],
   "source": [
    "print(\"H - DRL \", ind(avg_pf)) "
   ]
  },
  {
   "attachments": {},
   "cell_type": "markdown",
   "metadata": {},
   "source": [
    "### Violin plot del PF según pesos del modelo DRL"
   ]
  },
  {
   "cell_type": "code",
   "execution_count": null,
   "metadata": {},
   "outputs": [
    {
     "data": {
      "text/html": [
       "<div>\n",
       "<style scoped>\n",
       "    .dataframe tbody tr th:only-of-type {\n",
       "        vertical-align: middle;\n",
       "    }\n",
       "\n",
       "    .dataframe tbody tr th {\n",
       "        vertical-align: top;\n",
       "    }\n",
       "\n",
       "    .dataframe thead th {\n",
       "        text-align: right;\n",
       "    }\n",
       "</style>\n",
       "<table border=\"1\" class=\"dataframe\">\n",
       "  <thead>\n",
       "    <tr style=\"text-align: right;\">\n",
       "      <th></th>\n",
       "      <th>model</th>\n",
       "      <th>time</th>\n",
       "      <th>cost</th>\n",
       "      <th>case</th>\n",
       "    </tr>\n",
       "  </thead>\n",
       "  <tbody>\n",
       "    <tr>\n",
       "      <th>0</th>\n",
       "      <td>1000</td>\n",
       "      <td>260.0</td>\n",
       "      <td>1716.0</td>\n",
       "      <td>0</td>\n",
       "    </tr>\n",
       "    <tr>\n",
       "      <th>30</th>\n",
       "      <td>7525</td>\n",
       "      <td>352.0</td>\n",
       "      <td>646.0</td>\n",
       "      <td>0</td>\n",
       "    </tr>\n",
       "    <tr>\n",
       "      <th>60</th>\n",
       "      <td>5050</td>\n",
       "      <td>305.0</td>\n",
       "      <td>198.0</td>\n",
       "      <td>0</td>\n",
       "    </tr>\n",
       "    <tr>\n",
       "      <th>90</th>\n",
       "      <td>2575</td>\n",
       "      <td>1158.0</td>\n",
       "      <td>347.0</td>\n",
       "      <td>0</td>\n",
       "    </tr>\n",
       "    <tr>\n",
       "      <th>120</th>\n",
       "      <td>0100</td>\n",
       "      <td>3107.0</td>\n",
       "      <td>342.0</td>\n",
       "      <td>0</td>\n",
       "    </tr>\n",
       "  </tbody>\n",
       "</table>\n",
       "</div>"
      ],
      "text/plain": [
       "    model    time    cost  case\n",
       "0    1000   260.0  1716.0     0\n",
       "30   7525   352.0   646.0     0\n",
       "60   5050   305.0   198.0     0\n",
       "90   2575  1158.0   347.0     0\n",
       "120  0100  3107.0   342.0     0"
      ]
     },
     "execution_count": 33,
     "metadata": {},
     "output_type": "execute_result"
    }
   ],
   "source": [
    "dtvio = dfDRL.loc[:,[\"model\",\"time\",\"cost\"]]\n",
    "dtvio[\"case\"]=np.zeros(len(dtvio),dtype=int)\n",
    "dtvio"
   ]
  },
  {
   "cell_type": "code",
   "execution_count": null,
   "metadata": {},
   "outputs": [],
   "source": [
    "x = list(range(len(dtvio)))"
   ]
  },
  {
   "cell_type": "code",
   "execution_count": null,
   "metadata": {},
   "outputs": [
    {
     "data": {
      "text/plain": [
       "array(['(.1,.0)', '(.7,.5)', '(.5,.0)', '(.2,.5)', '(.0,.1)'], dtype='<U7')"
      ]
     },
     "execution_count": 35,
     "metadata": {},
     "output_type": "execute_result"
    }
   ],
   "source": [
    "def getWeithDecomposition(val):\n",
    "    if len(val)==3:\n",
    "        if val[0]==\"0\":\n",
    "            return \"(0,1.)\"\n",
    "        else:\n",
    "            return \"(1.,0)\"\n",
    "    else:\n",
    "        return \"(.%s,.%s)\"%(val[0],val[1])\n",
    "    \n",
    "fticks = np.vectorize(getWeithDecomposition)\n",
    "ticks = fticks(dtvio.model)\n",
    "ticks"
   ]
  },
  {
   "cell_type": "code",
   "execution_count": null,
   "metadata": {},
   "outputs": [
    {
     "data": {
      "image/png": "[encoded data removed]",
      "text/plain": [
       "<Figure size 640x480 with 2 Axes>"
      ]
     },
     "metadata": {},
     "output_type": "display_data"
    }
   ],
   "source": [
    "fig, axes = plt.subplots(ncols=2, sharey=True)\n",
    "axes[0].barh(x, dtvio.time, align='center', color='red', zorder=10)\n",
    "axes[0].set(title='Time')\n",
    "axes[1].barh(x, dtvio.cost, align='center', color='blue', zorder=10)\n",
    "axes[1].set(title='Cost')\n",
    "\n",
    "axes[0].invert_xaxis()\n",
    "axes[0].set(yticks=x, yticklabels=ticks)\n",
    "axes[0].yaxis.tick_right()\n",
    "axes[1].yaxis.tick_left()\n",
    "\n",
    "\n",
    "\n",
    "for ax in axes.flat:\n",
    "    ax.margins(0.03)\n",
    "    ax.grid(True)\n",
    "\n",
    "fig.tight_layout()\n",
    "fig.subplots_adjust(wspace=0.23)\n",
    "plt.show()"
   ]
  },
  {
   "cell_type": "code",
   "execution_count": null,
   "metadata": {},
   "outputs": [
    {
     "data": {
      "text/plain": [
       "0      1000\n",
       "50     7525\n",
       "100    5050\n",
       "150    2575\n",
       "200    0100\n",
       "Name: model, dtype: object"
      ]
     },
     "execution_count": 292,
     "metadata": {},
     "output_type": "execute_result"
    }
   ],
   "source": [
    "dtvio.model"
   ]
  },
  {
   "cell_type": "code",
   "execution_count": null,
   "metadata": {},
   "outputs": [
    {
     "name": "stdout",
     "output_type": "stream",
     "text": [
      "Index(['0100', '1000', '2575', '5050', '7525'], dtype='object', name='model')\n"
     ]
    }
   ],
   "source": [
    "dfmodel #average DRL all cases\n",
    "print(dfmodel.index)"
   ]
  },
  {
   "cell_type": "code",
   "execution_count": null,
   "metadata": {},
   "outputs": [],
   "source": [
    "dfrindex = dfmodel.reindex(['010', '19', '28', '37', '46', '55', '64', '73', '82', '91', '100'])"
   ]
  },
  {
   "cell_type": "code",
   "execution_count": null,
   "metadata": {},
   "outputs": [
    {
     "ename": "ValueError",
     "evalue": "shape mismatch: objects cannot be broadcast to a single shape.  Mismatch is between arg 2 with shape (11,) and arg 3 with shape (5,).",
     "output_type": "error",
     "traceback": [
      "\u001b[0;31m---------------------------------------------------------------------------\u001b[0m",
      "\u001b[0;31mValueError\u001b[0m                                Traceback (most recent call last)",
      "Cell \u001b[0;32mIn[295], line 2\u001b[0m\n\u001b[1;32m      1\u001b[0m fig, axes \u001b[39m=\u001b[39m plt\u001b[39m.\u001b[39msubplots(ncols\u001b[39m=\u001b[39m\u001b[39m2\u001b[39m, sharey\u001b[39m=\u001b[39m\u001b[39mTrue\u001b[39;00m)\n\u001b[0;32m----> 2\u001b[0m axes[\u001b[39m0\u001b[39;49m]\u001b[39m.\u001b[39;49mbarh(x, dfrindex\u001b[39m.\u001b[39;49mtime, align\u001b[39m=\u001b[39;49m\u001b[39m'\u001b[39;49m\u001b[39mcenter\u001b[39;49m\u001b[39m'\u001b[39;49m, color\u001b[39m=\u001b[39;49m\u001b[39m'\u001b[39;49m\u001b[39mred\u001b[39;49m\u001b[39m'\u001b[39;49m, zorder\u001b[39m=\u001b[39;49m\u001b[39m10\u001b[39;49m)\n\u001b[1;32m      3\u001b[0m axes[\u001b[39m0\u001b[39m]\u001b[39m.\u001b[39mset(title\u001b[39m=\u001b[39m\u001b[39m'\u001b[39m\u001b[39mTime\u001b[39m\u001b[39m'\u001b[39m)\n\u001b[1;32m      4\u001b[0m axes[\u001b[39m1\u001b[39m]\u001b[39m.\u001b[39mbarh(x, dfrindex\u001b[39m.\u001b[39mcost, align\u001b[39m=\u001b[39m\u001b[39m'\u001b[39m\u001b[39mcenter\u001b[39m\u001b[39m'\u001b[39m, color\u001b[39m=\u001b[39m\u001b[39m'\u001b[39m\u001b[39mblue\u001b[39m\u001b[39m'\u001b[39m, zorder\u001b[39m=\u001b[39m\u001b[39m10\u001b[39m)\n",
      "File \u001b[0;32m~/.pyenv/versions/3.9.7/envs/DGLenv/lib/python3.9/site-packages/matplotlib/axes/_axes.py:2629\u001b[0m, in \u001b[0;36mAxes.barh\u001b[0;34m(self, y, width, height, left, align, data, **kwargs)\u001b[0m\n\u001b[1;32m   2519\u001b[0m \u001b[39m\u001b[39m\u001b[39mr\u001b[39m\u001b[39m\"\"\"\u001b[39;00m\n\u001b[1;32m   2520\u001b[0m \u001b[39mMake a horizontal bar plot.\u001b[39;00m\n\u001b[1;32m   2521\u001b[0m \n\u001b[0;32m   (...)\u001b[0m\n\u001b[1;32m   2626\u001b[0m \u001b[39m:doc:`/gallery/lines_bars_and_markers/horizontal_barchart_distribution`.\u001b[39;00m\n\u001b[1;32m   2627\u001b[0m \u001b[39m\"\"\"\u001b[39;00m\n\u001b[1;32m   2628\u001b[0m kwargs\u001b[39m.\u001b[39msetdefault(\u001b[39m'\u001b[39m\u001b[39morientation\u001b[39m\u001b[39m'\u001b[39m, \u001b[39m'\u001b[39m\u001b[39mhorizontal\u001b[39m\u001b[39m'\u001b[39m)\n\u001b[0;32m-> 2629\u001b[0m patches \u001b[39m=\u001b[39m \u001b[39mself\u001b[39;49m\u001b[39m.\u001b[39;49mbar(x\u001b[39m=\u001b[39;49mleft, height\u001b[39m=\u001b[39;49mheight, width\u001b[39m=\u001b[39;49mwidth, bottom\u001b[39m=\u001b[39;49my,\n\u001b[1;32m   2630\u001b[0m                    align\u001b[39m=\u001b[39;49malign, data\u001b[39m=\u001b[39;49mdata, \u001b[39m*\u001b[39;49m\u001b[39m*\u001b[39;49mkwargs)\n\u001b[1;32m   2631\u001b[0m \u001b[39mreturn\u001b[39;00m patches\n",
      "File \u001b[0;32m~/.pyenv/versions/3.9.7/envs/DGLenv/lib/python3.9/site-packages/matplotlib/__init__.py:1433\u001b[0m, in \u001b[0;36m_preprocess_data.<locals>.inner\u001b[0;34m(ax, data, *args, **kwargs)\u001b[0m\n\u001b[1;32m   1430\u001b[0m \u001b[39m@functools\u001b[39m\u001b[39m.\u001b[39mwraps(func)\n\u001b[1;32m   1431\u001b[0m \u001b[39mdef\u001b[39;00m \u001b[39minner\u001b[39m(ax, \u001b[39m*\u001b[39margs, data\u001b[39m=\u001b[39m\u001b[39mNone\u001b[39;00m, \u001b[39m*\u001b[39m\u001b[39m*\u001b[39mkwargs):\n\u001b[1;32m   1432\u001b[0m     \u001b[39mif\u001b[39;00m data \u001b[39mis\u001b[39;00m \u001b[39mNone\u001b[39;00m:\n\u001b[0;32m-> 1433\u001b[0m         \u001b[39mreturn\u001b[39;00m func(ax, \u001b[39m*\u001b[39;49m\u001b[39mmap\u001b[39;49m(sanitize_sequence, args), \u001b[39m*\u001b[39;49m\u001b[39m*\u001b[39;49mkwargs)\n\u001b[1;32m   1435\u001b[0m     bound \u001b[39m=\u001b[39m new_sig\u001b[39m.\u001b[39mbind(ax, \u001b[39m*\u001b[39margs, \u001b[39m*\u001b[39m\u001b[39m*\u001b[39mkwargs)\n\u001b[1;32m   1436\u001b[0m     auto_label \u001b[39m=\u001b[39m (bound\u001b[39m.\u001b[39marguments\u001b[39m.\u001b[39mget(label_namer)\n\u001b[1;32m   1437\u001b[0m                   \u001b[39mor\u001b[39;00m bound\u001b[39m.\u001b[39mkwargs\u001b[39m.\u001b[39mget(label_namer))\n",
      "File \u001b[0;32m~/.pyenv/versions/3.9.7/envs/DGLenv/lib/python3.9/site-packages/matplotlib/axes/_axes.py:2397\u001b[0m, in \u001b[0;36mAxes.bar\u001b[0;34m(self, x, height, width, bottom, align, **kwargs)\u001b[0m\n\u001b[1;32m   2394\u001b[0m     \u001b[39mif\u001b[39;00m yerr \u001b[39mis\u001b[39;00m \u001b[39mnot\u001b[39;00m \u001b[39mNone\u001b[39;00m:\n\u001b[1;32m   2395\u001b[0m         yerr \u001b[39m=\u001b[39m \u001b[39mself\u001b[39m\u001b[39m.\u001b[39m_convert_dx(yerr, y0, y, \u001b[39mself\u001b[39m\u001b[39m.\u001b[39mconvert_yunits)\n\u001b[0;32m-> 2397\u001b[0m x, height, width, y, linewidth, hatch \u001b[39m=\u001b[39m np\u001b[39m.\u001b[39;49mbroadcast_arrays(\n\u001b[1;32m   2398\u001b[0m     \u001b[39m# Make args iterable too.\u001b[39;49;00m\n\u001b[1;32m   2399\u001b[0m     np\u001b[39m.\u001b[39;49matleast_1d(x), height, width, y, linewidth, hatch)\n\u001b[1;32m   2401\u001b[0m \u001b[39m# Now that units have been converted, set the tick locations.\u001b[39;00m\n\u001b[1;32m   2402\u001b[0m \u001b[39mif\u001b[39;00m orientation \u001b[39m==\u001b[39m \u001b[39m'\u001b[39m\u001b[39mvertical\u001b[39m\u001b[39m'\u001b[39m:\n",
      "File \u001b[0;32m<__array_function__ internals>:180\u001b[0m, in \u001b[0;36mbroadcast_arrays\u001b[0;34m(*args, **kwargs)\u001b[0m\n",
      "File \u001b[0;32m~/.pyenv/versions/3.9.7/envs/DGLenv/lib/python3.9/site-packages/numpy/lib/stride_tricks.py:540\u001b[0m, in \u001b[0;36mbroadcast_arrays\u001b[0;34m(subok, *args)\u001b[0m\n\u001b[1;32m    533\u001b[0m \u001b[39m# nditer is not used here to avoid the limit of 32 arrays.\u001b[39;00m\n\u001b[1;32m    534\u001b[0m \u001b[39m# Otherwise, something like the following one-liner would suffice:\u001b[39;00m\n\u001b[1;32m    535\u001b[0m \u001b[39m# return np.nditer(args, flags=['multi_index', 'zerosize_ok'],\u001b[39;00m\n\u001b[1;32m    536\u001b[0m \u001b[39m#                  order='C').itviews\u001b[39;00m\n\u001b[1;32m    538\u001b[0m args \u001b[39m=\u001b[39m [np\u001b[39m.\u001b[39marray(_m, copy\u001b[39m=\u001b[39m\u001b[39mFalse\u001b[39;00m, subok\u001b[39m=\u001b[39msubok) \u001b[39mfor\u001b[39;00m _m \u001b[39min\u001b[39;00m args]\n\u001b[0;32m--> 540\u001b[0m shape \u001b[39m=\u001b[39m _broadcast_shape(\u001b[39m*\u001b[39;49margs)\n\u001b[1;32m    542\u001b[0m \u001b[39mif\u001b[39;00m \u001b[39mall\u001b[39m(array\u001b[39m.\u001b[39mshape \u001b[39m==\u001b[39m shape \u001b[39mfor\u001b[39;00m array \u001b[39min\u001b[39;00m args):\n\u001b[1;32m    543\u001b[0m     \u001b[39m# Common case where nothing needs to be broadcasted.\u001b[39;00m\n\u001b[1;32m    544\u001b[0m     \u001b[39mreturn\u001b[39;00m args\n",
      "File \u001b[0;32m~/.pyenv/versions/3.9.7/envs/DGLenv/lib/python3.9/site-packages/numpy/lib/stride_tricks.py:422\u001b[0m, in \u001b[0;36m_broadcast_shape\u001b[0;34m(*args)\u001b[0m\n\u001b[1;32m    417\u001b[0m \u001b[39m\u001b[39m\u001b[39m\"\"\"Returns the shape of the arrays that would result from broadcasting the\u001b[39;00m\n\u001b[1;32m    418\u001b[0m \u001b[39msupplied arrays against each other.\u001b[39;00m\n\u001b[1;32m    419\u001b[0m \u001b[39m\"\"\"\u001b[39;00m\n\u001b[1;32m    420\u001b[0m \u001b[39m# use the old-iterator because np.nditer does not handle size 0 arrays\u001b[39;00m\n\u001b[1;32m    421\u001b[0m \u001b[39m# consistently\u001b[39;00m\n\u001b[0;32m--> 422\u001b[0m b \u001b[39m=\u001b[39m np\u001b[39m.\u001b[39;49mbroadcast(\u001b[39m*\u001b[39;49margs[:\u001b[39m32\u001b[39;49m])\n\u001b[1;32m    423\u001b[0m \u001b[39m# unfortunately, it cannot handle 32 or more arguments directly\u001b[39;00m\n\u001b[1;32m    424\u001b[0m \u001b[39mfor\u001b[39;00m pos \u001b[39min\u001b[39;00m \u001b[39mrange\u001b[39m(\u001b[39m32\u001b[39m, \u001b[39mlen\u001b[39m(args), \u001b[39m31\u001b[39m):\n\u001b[1;32m    425\u001b[0m     \u001b[39m# ironically, np.broadcast does not properly handle np.broadcast\u001b[39;00m\n\u001b[1;32m    426\u001b[0m     \u001b[39m# objects (it treats them as scalars)\u001b[39;00m\n\u001b[1;32m    427\u001b[0m     \u001b[39m# use broadcasting to avoid allocating the full array\u001b[39;00m\n",
      "\u001b[0;31mValueError\u001b[0m: shape mismatch: objects cannot be broadcast to a single shape.  Mismatch is between arg 2 with shape (11,) and arg 3 with shape (5,)."
     ]
    },
    {
     "data": {
      "image/png": "[encoded data removed]",
      "text/plain": [
       "<Figure size 640x480 with 2 Axes>"
      ]
     },
     "metadata": {},
     "output_type": "display_data"
    }
   ],
   "source": [
    "fig, axes = plt.subplots(ncols=2, sharey=True)\n",
    "axes[0].barh(x, dfrindex.time, align='center', color='red', zorder=10)\n",
    "axes[0].set(title='Time')\n",
    "axes[1].barh(x, dfrindex.cost, align='center', color='blue', zorder=10)\n",
    "axes[1].set(title='Cost')\n",
    "\n",
    "axes[0].invert_xaxis()\n",
    "axes[0].set(yticks=x, yticklabels=ticks)\n",
    "axes[0].yaxis.tick_right()\n",
    "axes[1].yaxis.tick_left()\n",
    "\n",
    "\n",
    "\n",
    "for ax in axes.flat:\n",
    "    ax.margins(0.03)\n",
    "    ax.grid(True)\n",
    "\n",
    "fig.tight_layout()\n",
    "fig.subplots_adjust(wspace=0.23)\n",
    "plt.show()"
   ]
  },
  {
   "attachments": {},
   "cell_type": "markdown",
   "metadata": {},
   "source": [
    "# NSGAII -single objective"
   ]
  },
  {
   "cell_type": "code",
   "execution_count": 78,
   "metadata": {},
   "outputs": [
    {
     "data": {
      "text/plain": [
       "['0100', '2575', '5050', '7525', '1000']"
      ]
     },
     "execution_count": 78,
     "metadata": {},
     "output_type": "execute_result"
    }
   ],
   "source": [
    "weigthRange = list(np.arange(0,11,2.5))\n",
    "combinationsWeightTC = list(zip(weigthRange,weigthRange[::-1])) #[(0, 10), (1, 9), (2, 8), (3, 7), (4, 6), (5, 5), (6, 4), (7, 3), (8, 2), (9, 1), (10, 0)]\n",
    "allCombination = combinationsWeightTC\n",
    "allCombination\n",
    "\n",
    "combinations = [\"0100\",\"2575\",\"5050\",\"7525\",\"1000\"]\n",
    "combinations\n"
   ]
  },
  {
   "cell_type": "code",
   "execution_count": 79,
   "metadata": {},
   "outputs": [],
   "source": [
    "case = \"1000v9v100\""
   ]
  },
  {
   "cell_type": "code",
   "execution_count": 80,
   "metadata": {},
   "outputs": [
    {
     "name": "stdout",
     "output_type": "stream",
     "text": [
      "w0100\n",
      "\t (1, 6)\n",
      "w2575\n",
      "\t (1, 6)\n",
      "w5050\n",
      "\t (1, 6)\n",
      "w7525\n",
      "\t (1, 6)\n",
      "w1000\n",
      "\t (1, 6)\n"
     ]
    },
    {
     "data": {
      "text/html": [
       "<div>\n",
       "<style scoped>\n",
       "    .dataframe tbody tr th:only-of-type {\n",
       "        vertical-align: middle;\n",
       "    }\n",
       "\n",
       "    .dataframe tbody tr th {\n",
       "        vertical-align: top;\n",
       "    }\n",
       "\n",
       "    .dataframe thead th {\n",
       "        text-align: right;\n",
       "    }\n",
       "</style>\n",
       "<table border=\"1\" class=\"dataframe\">\n",
       "  <thead>\n",
       "    <tr style=\"text-align: right;\">\n",
       "      <th></th>\n",
       "      <th>case</th>\n",
       "      <th>time</th>\n",
       "      <th>cost</th>\n",
       "      <th>constraing</th>\n",
       "      <th>exec</th>\n",
       "      <th>model</th>\n",
       "    </tr>\n",
       "  </thead>\n",
       "  <tbody>\n",
       "    <tr>\n",
       "      <th>0</th>\n",
       "      <td>0</td>\n",
       "      <td>2600.0</td>\n",
       "      <td>99.0</td>\n",
       "      <td>0</td>\n",
       "      <td>0 days 00:12:00</td>\n",
       "      <td>0100</td>\n",
       "    </tr>\n",
       "    <tr>\n",
       "      <th>0</th>\n",
       "      <td>0</td>\n",
       "      <td>761.0</td>\n",
       "      <td>289.0</td>\n",
       "      <td>0</td>\n",
       "      <td>0 days 00:12:23</td>\n",
       "      <td>2575</td>\n",
       "    </tr>\n",
       "    <tr>\n",
       "      <th>0</th>\n",
       "      <td>0</td>\n",
       "      <td>494.0</td>\n",
       "      <td>524.0</td>\n",
       "      <td>0</td>\n",
       "      <td>0 days 00:12:16</td>\n",
       "      <td>5050</td>\n",
       "    </tr>\n",
       "    <tr>\n",
       "      <th>0</th>\n",
       "      <td>0</td>\n",
       "      <td>359.0</td>\n",
       "      <td>1160.0</td>\n",
       "      <td>0</td>\n",
       "      <td>0 days 00:12:10</td>\n",
       "      <td>7525</td>\n",
       "    </tr>\n",
       "    <tr>\n",
       "      <th>0</th>\n",
       "      <td>0</td>\n",
       "      <td>304.0</td>\n",
       "      <td>1887.0</td>\n",
       "      <td>0</td>\n",
       "      <td>0 days 00:12:38</td>\n",
       "      <td>1000</td>\n",
       "    </tr>\n",
       "  </tbody>\n",
       "</table>\n",
       "</div>"
      ],
      "text/plain": [
       "  case    time    cost constraing            exec model\n",
       "0    0  2600.0    99.0          0 0 days 00:12:00  0100\n",
       "0    0   761.0   289.0          0 0 days 00:12:23  2575\n",
       "0    0   494.0   524.0          0 0 days 00:12:16  5050\n",
       "0    0   359.0  1160.0          0 0 days 00:12:10  7525\n",
       "0    0   304.0  1887.0          0 0 days 00:12:38  1000"
      ]
     },
     "execution_count": 80,
     "metadata": {},
     "output_type": "execute_result"
    }
   ],
   "source": [
    "dall = pd.DataFrame([],columns= [\"case\",\"time\",\"cost\",\"constraing\",\"exec\",\"model\"])\n",
    "for combi in combinations:\n",
    "    print(\"w%s\"%combi)\n",
    "    df = pd.read_pickle('logs/log_ga_mono_'  + str(case) + \"_\" + str(configs.n_jobs) + '_' + str(configs.n_devices)+'_0_w%s.pkl'%combi, 'infer')\n",
    "    df = pd.DataFrame(df)\n",
    "    df.columns = [\"case\",\"time\",\"cost\",\"constraing\",\"exec\"]\n",
    "    df=df[:1]\n",
    "    df[\"model\"]=[combi]*len(df)\n",
    "    print(\"\\t\",df.shape)\n",
    "    dall = pd.concat([dall, df], axis=0)\n",
    "    \n",
    "dall.shape\n",
    "dall.head()"
   ]
  },
  {
   "cell_type": "code",
   "execution_count": 81,
   "metadata": {},
   "outputs": [
    {
     "name": "stdout",
     "output_type": "stream",
     "text": [
      "w0100\n",
      "\t (1, 6)\n",
      "w2575\n",
      "\t (1, 6)\n",
      "w5050\n",
      "\t (1, 6)\n",
      "w7525\n",
      "\t (1, 6)\n",
      "w1000\n",
      "\t (1, 6)\n"
     ]
    },
    {
     "data": {
      "text/html": [
       "<div>\n",
       "<style scoped>\n",
       "    .dataframe tbody tr th:only-of-type {\n",
       "        vertical-align: middle;\n",
       "    }\n",
       "\n",
       "    .dataframe tbody tr th {\n",
       "        vertical-align: top;\n",
       "    }\n",
       "\n",
       "    .dataframe thead th {\n",
       "        text-align: right;\n",
       "    }\n",
       "</style>\n",
       "<table border=\"1\" class=\"dataframe\">\n",
       "  <thead>\n",
       "    <tr style=\"text-align: right;\">\n",
       "      <th></th>\n",
       "      <th>case</th>\n",
       "      <th>time</th>\n",
       "      <th>cost</th>\n",
       "      <th>constraing</th>\n",
       "      <th>exec</th>\n",
       "      <th>model</th>\n",
       "    </tr>\n",
       "  </thead>\n",
       "  <tbody>\n",
       "    <tr>\n",
       "      <th>0</th>\n",
       "      <td>0</td>\n",
       "      <td>2760.0</td>\n",
       "      <td>81.0</td>\n",
       "      <td>0</td>\n",
       "      <td>0 days 00:22:10</td>\n",
       "      <td>0100</td>\n",
       "    </tr>\n",
       "    <tr>\n",
       "      <th>0</th>\n",
       "      <td>0</td>\n",
       "      <td>412.0</td>\n",
       "      <td>90.0</td>\n",
       "      <td>0</td>\n",
       "      <td>0 days 00:29:37</td>\n",
       "      <td>2575</td>\n",
       "    </tr>\n",
       "    <tr>\n",
       "      <th>0</th>\n",
       "      <td>0</td>\n",
       "      <td>295.0</td>\n",
       "      <td>198.0</td>\n",
       "      <td>0</td>\n",
       "      <td>0 days 00:28:57</td>\n",
       "      <td>5050</td>\n",
       "    </tr>\n",
       "    <tr>\n",
       "      <th>0</th>\n",
       "      <td>0</td>\n",
       "      <td>258.0</td>\n",
       "      <td>437.0</td>\n",
       "      <td>0</td>\n",
       "      <td>0 days 00:28:31</td>\n",
       "      <td>7525</td>\n",
       "    </tr>\n",
       "    <tr>\n",
       "      <th>0</th>\n",
       "      <td>0</td>\n",
       "      <td>250.0</td>\n",
       "      <td>1778.0</td>\n",
       "      <td>0</td>\n",
       "      <td>0 days 00:25:06</td>\n",
       "      <td>1000</td>\n",
       "    </tr>\n",
       "  </tbody>\n",
       "</table>\n",
       "</div>"
      ],
      "text/plain": [
       "  case    time    cost constraing            exec model\n",
       "0    0  2760.0    81.0          0 0 days 00:22:10  0100\n",
       "0    0   412.0    90.0          0 0 days 00:29:37  2575\n",
       "0    0   295.0   198.0          0 0 days 00:28:57  5050\n",
       "0    0   258.0   437.0          0 0 days 00:28:31  7525\n",
       "0    0   250.0  1778.0          0 0 days 00:25:06  1000"
      ]
     },
     "execution_count": 81,
     "metadata": {},
     "output_type": "execute_result"
    }
   ],
   "source": [
    "case = \"1000v9v200\"\n",
    "dall200 = pd.DataFrame([],columns= [\"case\",\"time\",\"cost\",\"constraing\",\"exec\",\"model\"])\n",
    "for combi in combinations:\n",
    "    print(\"w%s\"%combi)\n",
    "    df = pd.read_pickle('logs/log_ga_mono_'  + str(case) + \"_\" + str(configs.n_jobs) + '_' + str(configs.n_devices)+'_0_w%s.pkl'%combi, 'infer')\n",
    "    df = pd.DataFrame(df)\n",
    "    df.columns = [\"case\",\"time\",\"cost\",\"constraing\",\"exec\"]\n",
    "    df=df[:1]\n",
    "    df[\"model\"]=[combi]*len(df)\n",
    "    print(\"\\t\",df.shape)\n",
    "    dall200 = pd.concat([dall200, df], axis=0)\n",
    "    \n",
    "dall200.shape\n",
    "dall200.head()"
   ]
  },
  {
   "cell_type": "code",
   "execution_count": 82,
   "metadata": {},
   "outputs": [
    {
     "name": "stderr",
     "output_type": "stream",
     "text": [
      "/var/folders/6j/7gfvt_29797dypw8t1wttblw0000gn/T/ipykernel_51595/3379096194.py:6: UserWarning: You passed a edgecolor/edgecolors ('blue') for an unfilled marker ('+').  Matplotlib is ignoring the edgecolor in favor of the facecolor.  This behavior may change in the future.\n",
      "  ax.scatter(dfga.time, dfga.cost, s=30,  marker=\"+\", edgecolors='blue', label=\"NSGA-II: 100 generations\")\n"
     ]
    },
    {
     "data": {
      "image/png": "[encoded data removed]",
      "text/plain": [
       "<Figure size 800x400 with 1 Axes>"
      ]
     },
     "metadata": {},
     "output_type": "display_data"
    }
   ],
   "source": [
    "fig, ax = plt.subplots(figsize=(8,4))\n",
    "\n",
    "ax.scatter(dall.time, dall.cost, s=30, facecolors='none', color='navy', label=\"NSGA-II $mono$: 100 generations\") #MONO solutions\n",
    "ax.scatter(dall200.time, dall200.cost, s=30,  marker=\"p\",facecolors='none', color='darkblue', label=\"NSGA-II $mono$: 200 generations\") #MONO solutions\n",
    "\n",
    "ax.scatter(dfga.time, dfga.cost, s=30,  marker=\"+\", edgecolors='blue', label=\"NSGA-II: 100 generations\")\n",
    "\n",
    "\n",
    "ax.scatter(avg_pf[:,0], avg_pf[:,1], s=30,  marker=\"s\", color='darkorange',label=\"PPO\")\n",
    "ax.scatter(dfmodel.iTime[0],dfmodel.iCost[0],color=\"green\",label=\"Cloud\")\n",
    "\n",
    "\n",
    "\n",
    "ax.vlines(x=dfmodel.iTime[0], ymin=100, ymax=dfmodel.iCost[0], colors='green', ls=':', lw=0.6)\n",
    "ax.vlines(x=avg_pf[0,0], ymin=100, ymax=avg_pf[0,1], colors='darkorange', ls=':', lw=0.8)\n",
    "\n",
    "\n",
    "ax.set_xlabel(\"Time\", fontsize=14)\n",
    "ax.set_ylabel(\"Cost\", fontsize=14)\n",
    "ax.legend()\n",
    "plt.savefig(\"images/mono_nsgaII-0.pdf\",dpi=300,bbox_inches = 'tight')\n",
    "plt.show()"
   ]
  },
  {
   "cell_type": "code",
   "execution_count": null,
   "metadata": {},
   "outputs": [
    {
     "data": {
      "text/html": [
       "<div>\n",
       "<style scoped>\n",
       "    .dataframe tbody tr th:only-of-type {\n",
       "        vertical-align: middle;\n",
       "    }\n",
       "\n",
       "    .dataframe tbody tr th {\n",
       "        vertical-align: top;\n",
       "    }\n",
       "\n",
       "    .dataframe thead th {\n",
       "        text-align: right;\n",
       "    }\n",
       "</style>\n",
       "<table border=\"1\" class=\"dataframe\">\n",
       "  <thead>\n",
       "    <tr style=\"text-align: right;\">\n",
       "      <th></th>\n",
       "      <th>case</th>\n",
       "      <th>time</th>\n",
       "      <th>cost</th>\n",
       "      <th>constraing</th>\n",
       "      <th>exec</th>\n",
       "    </tr>\n",
       "  </thead>\n",
       "  <tbody>\n",
       "    <tr>\n",
       "      <th>0</th>\n",
       "      <td>0</td>\n",
       "      <td>105.0</td>\n",
       "      <td>54.0</td>\n",
       "      <td>0</td>\n",
       "      <td>0 days 00:03:29</td>\n",
       "    </tr>\n",
       "    <tr>\n",
       "      <th>1</th>\n",
       "      <td>0</td>\n",
       "      <td>105.0</td>\n",
       "      <td>54.0</td>\n",
       "      <td>0</td>\n",
       "      <td>0 days 00:03:29</td>\n",
       "    </tr>\n",
       "    <tr>\n",
       "      <th>2</th>\n",
       "      <td>0</td>\n",
       "      <td>105.0</td>\n",
       "      <td>54.0</td>\n",
       "      <td>0</td>\n",
       "      <td>0 days 00:03:29</td>\n",
       "    </tr>\n",
       "    <tr>\n",
       "      <th>3</th>\n",
       "      <td>0</td>\n",
       "      <td>105.0</td>\n",
       "      <td>54.0</td>\n",
       "      <td>0</td>\n",
       "      <td>0 days 00:03:29</td>\n",
       "    </tr>\n",
       "    <tr>\n",
       "      <th>4</th>\n",
       "      <td>0</td>\n",
       "      <td>105.0</td>\n",
       "      <td>54.0</td>\n",
       "      <td>0</td>\n",
       "      <td>0 days 00:03:29</td>\n",
       "    </tr>\n",
       "    <tr>\n",
       "      <th>...</th>\n",
       "      <td>...</td>\n",
       "      <td>...</td>\n",
       "      <td>...</td>\n",
       "      <td>...</td>\n",
       "      <td>...</td>\n",
       "    </tr>\n",
       "    <tr>\n",
       "      <th>83</th>\n",
       "      <td>0</td>\n",
       "      <td>105.0</td>\n",
       "      <td>54.0</td>\n",
       "      <td>0</td>\n",
       "      <td>0 days 00:03:29</td>\n",
       "    </tr>\n",
       "    <tr>\n",
       "      <th>84</th>\n",
       "      <td>0</td>\n",
       "      <td>105.0</td>\n",
       "      <td>54.0</td>\n",
       "      <td>0</td>\n",
       "      <td>0 days 00:03:29</td>\n",
       "    </tr>\n",
       "    <tr>\n",
       "      <th>85</th>\n",
       "      <td>0</td>\n",
       "      <td>105.0</td>\n",
       "      <td>54.0</td>\n",
       "      <td>0</td>\n",
       "      <td>0 days 00:03:29</td>\n",
       "    </tr>\n",
       "    <tr>\n",
       "      <th>86</th>\n",
       "      <td>0</td>\n",
       "      <td>105.0</td>\n",
       "      <td>54.0</td>\n",
       "      <td>0</td>\n",
       "      <td>0 days 00:03:29</td>\n",
       "    </tr>\n",
       "    <tr>\n",
       "      <th>87</th>\n",
       "      <td>0</td>\n",
       "      <td>105.0</td>\n",
       "      <td>54.0</td>\n",
       "      <td>0</td>\n",
       "      <td>0 days 00:03:29</td>\n",
       "    </tr>\n",
       "  </tbody>\n",
       "</table>\n",
       "<p>88 rows × 5 columns</p>\n",
       "</div>"
      ],
      "text/plain": [
       "    case   time  cost  constraing            exec\n",
       "0      0  105.0  54.0           0 0 days 00:03:29\n",
       "1      0  105.0  54.0           0 0 days 00:03:29\n",
       "2      0  105.0  54.0           0 0 days 00:03:29\n",
       "3      0  105.0  54.0           0 0 days 00:03:29\n",
       "4      0  105.0  54.0           0 0 days 00:03:29\n",
       "..   ...    ...   ...         ...             ...\n",
       "83     0  105.0  54.0           0 0 days 00:03:29\n",
       "84     0  105.0  54.0           0 0 days 00:03:29\n",
       "85     0  105.0  54.0           0 0 days 00:03:29\n",
       "86     0  105.0  54.0           0 0 days 00:03:29\n",
       "87     0  105.0  54.0           0 0 days 00:03:29\n",
       "\n",
       "[88 rows x 5 columns]"
      ]
     },
     "execution_count": 475,
     "metadata": {},
     "output_type": "execute_result"
    }
   ],
   "source": [
    "df = pd.read_pickle('logs/log_ga_pf_mono_'  + str(configs.name) + \"_\" + str(configs.n_jobs) + '_' + str(configs.n_devices)+'_0_w5050.pkl', 'infer')\n",
    "df = pd.DataFrame(df)\n",
    "df.columns = [\"case\",\"time\",\"cost\",\"constraing\",\"exec\"]\n",
    "df"
   ]
  },
  {
   "cell_type": "markdown",
   "metadata": {},
   "source": [
    "# GA "
   ]
  },
  {
   "cell_type": "code",
   "execution_count": 32,
   "metadata": {},
   "outputs": [
    {
     "name": "stdout",
     "output_type": "stream",
     "text": [
      "w010\n",
      "   0       1     2               3\n",
      "0  0  2874.0  99.0 0 days 02:24:40\n",
      "\t (1, 5)\n",
      "w27\n",
      "   0      1      2               3\n",
      "0  0  732.0  321.0 0 days 02:23:15\n",
      "\t (1, 5)\n",
      "w55\n",
      "   0      1      2               3\n",
      "0  0  456.0  586.0 0 days 02:26:05\n",
      "\t (1, 5)\n",
      "w72\n",
      "   0      1      2               3\n",
      "0  0  312.0  987.0 0 days 02:21:38\n",
      "\t (1, 5)\n",
      "w100\n",
      "   0      1       2               3\n",
      "0  0  283.0  1555.0 0 days 02:36:46\n",
      "\t (1, 5)\n"
     ]
    },
    {
     "data": {
      "text/html": [
       "<div>\n",
       "<style scoped>\n",
       "    .dataframe tbody tr th:only-of-type {\n",
       "        vertical-align: middle;\n",
       "    }\n",
       "\n",
       "    .dataframe tbody tr th {\n",
       "        vertical-align: top;\n",
       "    }\n",
       "\n",
       "    .dataframe thead th {\n",
       "        text-align: right;\n",
       "    }\n",
       "</style>\n",
       "<table border=\"1\" class=\"dataframe\">\n",
       "  <thead>\n",
       "    <tr style=\"text-align: right;\">\n",
       "      <th></th>\n",
       "      <th>case</th>\n",
       "      <th>time</th>\n",
       "      <th>cost</th>\n",
       "      <th>exec</th>\n",
       "      <th>model</th>\n",
       "    </tr>\n",
       "  </thead>\n",
       "  <tbody>\n",
       "    <tr>\n",
       "      <th>0</th>\n",
       "      <td>0</td>\n",
       "      <td>2874.0</td>\n",
       "      <td>99.0</td>\n",
       "      <td>0 days 02:24:40</td>\n",
       "      <td>010</td>\n",
       "    </tr>\n",
       "    <tr>\n",
       "      <th>0</th>\n",
       "      <td>0</td>\n",
       "      <td>732.0</td>\n",
       "      <td>321.0</td>\n",
       "      <td>0 days 02:23:15</td>\n",
       "      <td>27</td>\n",
       "    </tr>\n",
       "    <tr>\n",
       "      <th>0</th>\n",
       "      <td>0</td>\n",
       "      <td>456.0</td>\n",
       "      <td>586.0</td>\n",
       "      <td>0 days 02:26:05</td>\n",
       "      <td>55</td>\n",
       "    </tr>\n",
       "    <tr>\n",
       "      <th>0</th>\n",
       "      <td>0</td>\n",
       "      <td>312.0</td>\n",
       "      <td>987.0</td>\n",
       "      <td>0 days 02:21:38</td>\n",
       "      <td>72</td>\n",
       "    </tr>\n",
       "    <tr>\n",
       "      <th>0</th>\n",
       "      <td>0</td>\n",
       "      <td>283.0</td>\n",
       "      <td>1555.0</td>\n",
       "      <td>0 days 02:36:46</td>\n",
       "      <td>100</td>\n",
       "    </tr>\n",
       "  </tbody>\n",
       "</table>\n",
       "</div>"
      ],
      "text/plain": [
       "  case    time    cost            exec model\n",
       "0    0  2874.0    99.0 0 days 02:24:40   010\n",
       "0    0   732.0   321.0 0 days 02:23:15    27\n",
       "0    0   456.0   586.0 0 days 02:26:05    55\n",
       "0    0   312.0   987.0 0 days 02:21:38    72\n",
       "0    0   283.0  1555.0 0 days 02:36:46   100"
      ]
     },
     "execution_count": 32,
     "metadata": {},
     "output_type": "execute_result"
    }
   ],
   "source": [
    "import pandas as pd\n",
    "import numpy as np\n",
    "combinations = [\"010\",\"27\",\"55\",\"72\",\"100\"]\n",
    "case = \"E1000v9\" #HERE\n",
    "\n",
    "dall = pd.DataFrame([],columns= [\"case\",\"time\",\"cost\",\"exec\",\"model\"])\n",
    "for combi in combinations:\n",
    "    print(\"w%s\"%combi)\n",
    "    df = pd.read_pickle('logs/llog_GA_'  + str(case) + \"_\" + str(configs.n_jobs) + '_' + str(configs.n_devices)+'_0_w%s.pkl'%combi, 'infer')\n",
    "    df = pd.DataFrame(df).T\n",
    "    print(df)\n",
    "    df.columns = [\"case\",\"time\",\"cost\",\"exec\"]\n",
    "    df=df[:1]\n",
    "    df[\"model\"]=[combi]*len(df)\n",
    "    print(\"\\t\",df.shape)\n",
    "    dall = pd.concat([dall, df], axis=0)\n",
    "    \n",
    "dall.shape\n",
    "dall.head()\n"
   ]
  },
  {
   "cell_type": "code",
   "execution_count": 33,
   "metadata": {},
   "outputs": [
    {
     "name": "stderr",
     "output_type": "stream",
     "text": [
      "/var/folders/6j/7gfvt_29797dypw8t1wttblw0000gn/T/ipykernel_63285/3448456907.py:5: UserWarning: You passed a edgecolor/edgecolors ('blue') for an unfilled marker ('+').  Matplotlib is ignoring the edgecolor in favor of the facecolor.  This behavior may change in the future.\n",
      "  ax.scatter(dfga.time, dfga.cost, s=30,  marker=\"+\", edgecolors='blue', label=\"NSGA-II: 100 generations\")\n"
     ]
    },
    {
     "data": {
      "image/png": "[encoded data removed]",
      "text/plain": [
       "<Figure size 800x400 with 1 Axes>"
      ]
     },
     "metadata": {},
     "output_type": "display_data"
    }
   ],
   "source": [
    "fig, ax = plt.subplots(figsize=(8,4))\n",
    "\n",
    "ax.scatter(dall.time, dall.cost, s=30, facecolors='none', color='navy', label=\"GA: 100 generations\") #MONO solutions\n",
    "\n",
    "ax.scatter(dfga.time, dfga.cost, s=30,  marker=\"+\", edgecolors='blue', label=\"NSGA-II: 100 generations\")\n",
    "\n",
    "\n",
    "ax.scatter(avg_pf[:,0], avg_pf[:,1], s=30,  marker=\"s\", color='darkorange',label=\"PPO\")\n",
    "ax.scatter(dfmodel.iTime[0],dfmodel.iCost[0],color=\"green\",label=\"Cloud\")\n",
    "\n",
    "ax.vlines(x=dfmodel.iTime[0], ymin=100, ymax=dfmodel.iCost[0], colors='green', ls=':', lw=0.6)\n",
    "ax.vlines(x=avg_pf[0,0], ymin=100, ymax=avg_pf[0,1], colors='darkorange', ls=':', lw=0.8)\n",
    "\n",
    "\n",
    "ax.set_xlabel(\"Time\", fontsize=14)\n",
    "ax.set_ylabel(\"Cost\", fontsize=14)\n",
    "ax.legend()\n",
    "plt.savefig(\"images/ppo_ga_nsgaII-0.pdf\",dpi=300,bbox_inches = 'tight')\n",
    "plt.show()"
   ]
  },
  {
   "cell_type": "code",
   "execution_count": null,
   "metadata": {},
   "outputs": [],
   "source": []
  }
 ],
 "metadata": {
  "kernelspec": {
   "display_name": "DGLenv",
   "language": "python",
   "name": "python3"
  },
  "language_info": {
   "codemirror_mode": {
    "name": "ipython",
    "version": 3
   },
   "file_extension": ".py",
   "mimetype": "text/x-python",
   "name": "python",
   "nbconvert_exporter": "python",
   "pygments_lexer": "ipython3",
   "version": "3.9.7"
  },
  "orig_nbformat": 4,
  "vscode": {
   "interpreter": {
    "hash": "f9d4a005f9d9f9889b4816c359e838e2ccf93e76cd59d84c8bf07b8b75af7947"
   }
  }
 },
 "nbformat": 4,
 "nbformat_minor": 2
}
